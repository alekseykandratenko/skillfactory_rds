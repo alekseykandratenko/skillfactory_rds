{
 "cells": [
  {
   "cell_type": "markdown",
   "metadata": {
    "papermill": {
     "duration": 0.143971,
     "end_time": "2020-12-01T12:44:37.803234",
     "exception": false,
     "start_time": "2020-12-01T12:44:37.659263",
     "status": "completed"
    },
    "tags": []
   },
   "source": [
    "# Часть 1. Парсинг"
   ]
  },
  {
   "cell_type": "markdown",
   "metadata": {
    "papermill": {
     "duration": 0.139059,
     "end_time": "2020-12-01T12:44:38.082331",
     "exception": false,
     "start_time": "2020-12-01T12:44:37.943272",
     "status": "completed"
    },
    "tags": []
   },
   "source": [
    "1. Импорт библиотек"
   ]
  },
  {
   "cell_type": "code",
   "execution_count": 1,
   "metadata": {
    "_cell_guid": "b1076dfc-b9ad-4769-8c92-a6c4dae69d19",
    "_uuid": "8f2839f25d086af736a60e9eeb907d3b93b6e0e5",
    "execution": {
     "iopub.execute_input": "2020-12-01T12:44:38.373292Z",
     "iopub.status.busy": "2020-12-01T12:44:38.372464Z",
     "iopub.status.idle": "2020-12-01T12:44:38.697943Z",
     "shell.execute_reply": "2020-12-01T12:44:38.697089Z"
    },
    "papermill": {
     "duration": 0.474047,
     "end_time": "2020-12-01T12:44:38.698082",
     "exception": false,
     "start_time": "2020-12-01T12:44:38.224035",
     "status": "completed"
    },
    "tags": []
   },
   "outputs": [],
   "source": [
    "import pandas as pd\n",
    "import numpy as np\n",
    "pd.set_option('display.max_columns', 50)\n",
    "import requests, json\n",
    "import time\n",
    "import os\n",
    "import requests  \n",
    "from bs4 import BeautifulSoup \n",
    "pd.options.mode.chained_assignment = None\n",
    "import matplotlib.pyplot as plt"
   ]
  },
  {
   "cell_type": "markdown",
   "metadata": {
    "papermill": {
     "duration": 0.140047,
     "end_time": "2020-12-01T12:44:38.978217",
     "exception": false,
     "start_time": "2020-12-01T12:44:38.838170",
     "status": "completed"
    },
    "tags": []
   },
   "source": [
    "2. Первый взгляд на готовый тестовый датасет"
   ]
  },
  {
   "cell_type": "code",
   "execution_count": 2,
   "metadata": {
    "execution": {
     "iopub.execute_input": "2020-12-01T12:44:39.263651Z",
     "iopub.status.busy": "2020-12-01T12:44:39.262844Z",
     "iopub.status.idle": "2020-12-01T12:44:39.265576Z",
     "shell.execute_reply": "2020-12-01T12:44:39.266128Z"
    },
    "papermill": {
     "duration": 0.148851,
     "end_time": "2020-12-01T12:44:39.266305",
     "exception": false,
     "start_time": "2020-12-01T12:44:39.117454",
     "status": "completed"
    },
    "tags": []
   },
   "outputs": [],
   "source": [
    "DIR_TEST = '../input/sf-dst-car-price/'\n",
    "OUTPUT_DIR = '../output/'"
   ]
  },
  {
   "cell_type": "code",
   "execution_count": 3,
   "metadata": {
    "execution": {
     "iopub.execute_input": "2020-12-01T12:44:39.556383Z",
     "iopub.status.busy": "2020-12-01T12:44:39.555551Z",
     "iopub.status.idle": "2020-12-01T12:44:39.894062Z",
     "shell.execute_reply": "2020-12-01T12:44:39.893225Z"
    },
    "papermill": {
     "duration": 0.487016,
     "end_time": "2020-12-01T12:44:39.894206",
     "exception": false,
     "start_time": "2020-12-01T12:44:39.407190",
     "status": "completed"
    },
    "tags": []
   },
   "outputs": [],
   "source": [
    "data_test = pd.read_csv(DIR_TEST+'test.csv')\n",
    "sample_submission = pd.read_csv(DIR_TEST+'sample_submission.csv')"
   ]
  },
  {
   "cell_type": "code",
   "execution_count": 4,
   "metadata": {
    "execution": {
     "iopub.execute_input": "2020-12-01T12:44:40.222145Z",
     "iopub.status.busy": "2020-12-01T12:44:40.203438Z",
     "iopub.status.idle": "2020-12-01T12:44:40.243095Z",
     "shell.execute_reply": "2020-12-01T12:44:40.243707Z"
    },
    "papermill": {
     "duration": 0.194548,
     "end_time": "2020-12-01T12:44:40.243870",
     "exception": false,
     "start_time": "2020-12-01T12:44:40.049322",
     "status": "completed"
    },
    "tags": []
   },
   "outputs": [
    {
     "data": {
      "text/html": [
       "<div>\n",
       "<style scoped>\n",
       "    .dataframe tbody tr th:only-of-type {\n",
       "        vertical-align: middle;\n",
       "    }\n",
       "\n",
       "    .dataframe tbody tr th {\n",
       "        vertical-align: top;\n",
       "    }\n",
       "\n",
       "    .dataframe thead th {\n",
       "        text-align: right;\n",
       "    }\n",
       "</style>\n",
       "<table border=\"1\" class=\"dataframe\">\n",
       "  <thead>\n",
       "    <tr style=\"text-align: right;\">\n",
       "      <th></th>\n",
       "      <th>bodyType</th>\n",
       "      <th>brand</th>\n",
       "      <th>color</th>\n",
       "      <th>fuelType</th>\n",
       "      <th>modelDate</th>\n",
       "      <th>name</th>\n",
       "      <th>numberOfDoors</th>\n",
       "      <th>productionDate</th>\n",
       "      <th>vehicleConfiguration</th>\n",
       "      <th>vehicleTransmission</th>\n",
       "      <th>engineDisplacement</th>\n",
       "      <th>enginePower</th>\n",
       "      <th>description</th>\n",
       "      <th>mileage</th>\n",
       "      <th>Комплектация</th>\n",
       "      <th>Привод</th>\n",
       "      <th>Руль</th>\n",
       "      <th>Состояние</th>\n",
       "      <th>Владельцы</th>\n",
       "      <th>ПТС</th>\n",
       "      <th>Таможня</th>\n",
       "      <th>Владение</th>\n",
       "      <th>id</th>\n",
       "    </tr>\n",
       "  </thead>\n",
       "  <tbody>\n",
       "    <tr>\n",
       "      <th>0</th>\n",
       "      <td>седан</td>\n",
       "      <td>BMW</td>\n",
       "      <td>чёрный</td>\n",
       "      <td>дизель</td>\n",
       "      <td>2016.0</td>\n",
       "      <td>520d 2.0d AT (190 л.с.)</td>\n",
       "      <td>4.0</td>\n",
       "      <td>2017.0</td>\n",
       "      <td>SEDAN AUTOMATIC 2.0</td>\n",
       "      <td>автоматическая</td>\n",
       "      <td>2.0 LTR</td>\n",
       "      <td>190 N12</td>\n",
       "      <td>В РОЛЬФ Ясенево представлено более 500 автомоб...</td>\n",
       "      <td>158836.0</td>\n",
       "      <td>['[{\"name\":\"Безопасность\",\"values\":[\"Антипробу...</td>\n",
       "      <td>задний</td>\n",
       "      <td>Левый</td>\n",
       "      <td>Не требует ремонта</td>\n",
       "      <td>1 владелец</td>\n",
       "      <td>Оригинал</td>\n",
       "      <td>Растаможен</td>\n",
       "      <td>NaN</td>\n",
       "      <td>0</td>\n",
       "    </tr>\n",
       "    <tr>\n",
       "      <th>1</th>\n",
       "      <td>седан</td>\n",
       "      <td>BMW</td>\n",
       "      <td>белый</td>\n",
       "      <td>дизель</td>\n",
       "      <td>2018.0</td>\n",
       "      <td>318d 2.0d AT (150 л.с.)</td>\n",
       "      <td>4.0</td>\n",
       "      <td>2019.0</td>\n",
       "      <td>SEDAN AUTOMATIC 2.0</td>\n",
       "      <td>автоматическая</td>\n",
       "      <td>2.0 LTR</td>\n",
       "      <td>150 N12</td>\n",
       "      <td>Автомобиль из демонстрационного парка по спец ...</td>\n",
       "      <td>10.0</td>\n",
       "      <td>['[{\"name\":\"Комфорт\",\"values\":[\"Круиз-контроль...</td>\n",
       "      <td>задний</td>\n",
       "      <td>Левый</td>\n",
       "      <td>Не требует ремонта</td>\n",
       "      <td>1 владелец</td>\n",
       "      <td>Оригинал</td>\n",
       "      <td>Растаможен</td>\n",
       "      <td>NaN</td>\n",
       "      <td>1</td>\n",
       "    </tr>\n",
       "    <tr>\n",
       "      <th>2</th>\n",
       "      <td>седан</td>\n",
       "      <td>BMW</td>\n",
       "      <td>синий</td>\n",
       "      <td>бензин</td>\n",
       "      <td>2009.0</td>\n",
       "      <td>550i xDrive 4.4 AT (407 л.с.) 4WD</td>\n",
       "      <td>4.0</td>\n",
       "      <td>2012.0</td>\n",
       "      <td>SEDAN AUTOMATIC 4.4</td>\n",
       "      <td>автоматическая</td>\n",
       "      <td>4.4 LTR</td>\n",
       "      <td>407 N12</td>\n",
       "      <td>Машина собиралась под заказ! \\n\\n</td>\n",
       "      <td>120000.0</td>\n",
       "      <td>['[{\"name\":\"Комфорт\",\"values\":[\"Круиз-контроль...</td>\n",
       "      <td>полный</td>\n",
       "      <td>Левый</td>\n",
       "      <td>Не требует ремонта</td>\n",
       "      <td>2 владельца</td>\n",
       "      <td>Оригинал</td>\n",
       "      <td>Растаможен</td>\n",
       "      <td>7 лет и 2 месяца</td>\n",
       "      <td>2</td>\n",
       "    </tr>\n",
       "    <tr>\n",
       "      <th>3</th>\n",
       "      <td>внедорожник 5 дв.</td>\n",
       "      <td>BMW</td>\n",
       "      <td>белый</td>\n",
       "      <td>дизель</td>\n",
       "      <td>2014.0</td>\n",
       "      <td>30d 3.0d AT (249 л.с.) 4WD</td>\n",
       "      <td>5.0</td>\n",
       "      <td>2015.0</td>\n",
       "      <td>ALLROAD_5_DOORS AUTOMATIC 3.0</td>\n",
       "      <td>автоматическая</td>\n",
       "      <td>3.0 LTR</td>\n",
       "      <td>249 N12</td>\n",
       "      <td>АВТОМОБИЛЬ В БЕЗУПРЕЧНОМ ВНЕШНЕМ И ТЕХНИЧЕСКОМ...</td>\n",
       "      <td>111466.0</td>\n",
       "      <td>['[{\"name\":\"Комфорт\",\"values\":[\"Круиз-контроль...</td>\n",
       "      <td>полный</td>\n",
       "      <td>Левый</td>\n",
       "      <td>Не требует ремонта</td>\n",
       "      <td>2 владельца</td>\n",
       "      <td>Оригинал</td>\n",
       "      <td>Растаможен</td>\n",
       "      <td>NaN</td>\n",
       "      <td>3</td>\n",
       "    </tr>\n",
       "    <tr>\n",
       "      <th>4</th>\n",
       "      <td>внедорожник 5 дв.</td>\n",
       "      <td>BMW</td>\n",
       "      <td>синий</td>\n",
       "      <td>дизель</td>\n",
       "      <td>2014.0</td>\n",
       "      <td>M50d 3.0d AT (381 л.с.) 4WD</td>\n",
       "      <td>5.0</td>\n",
       "      <td>2019.0</td>\n",
       "      <td>ALLROAD_5_DOORS AUTOMATIC 3.0</td>\n",
       "      <td>автоматическая</td>\n",
       "      <td>3.0 LTR</td>\n",
       "      <td>381 N12</td>\n",
       "      <td>Автомобиль не имеет собственников ( физ. лиц) ...</td>\n",
       "      <td>11891.0</td>\n",
       "      <td>['[{\"name\":\"Комфорт\",\"values\":[\"Круиз-контроль...</td>\n",
       "      <td>полный</td>\n",
       "      <td>Левый</td>\n",
       "      <td>Не требует ремонта</td>\n",
       "      <td>1 владелец</td>\n",
       "      <td>Оригинал</td>\n",
       "      <td>Растаможен</td>\n",
       "      <td>NaN</td>\n",
       "      <td>4</td>\n",
       "    </tr>\n",
       "  </tbody>\n",
       "</table>\n",
       "</div>"
      ],
      "text/plain": [
       "            bodyType brand   color fuelType  modelDate  \\\n",
       "0              седан   BMW  чёрный   дизель     2016.0   \n",
       "1              седан   BMW   белый   дизель     2018.0   \n",
       "2              седан   BMW   синий   бензин     2009.0   \n",
       "3  внедорожник 5 дв.   BMW   белый   дизель     2014.0   \n",
       "4  внедорожник 5 дв.   BMW   синий   дизель     2014.0   \n",
       "\n",
       "                                name  numberOfDoors  productionDate  \\\n",
       "0            520d 2.0d AT (190 л.с.)            4.0          2017.0   \n",
       "1            318d 2.0d AT (150 л.с.)            4.0          2019.0   \n",
       "2  550i xDrive 4.4 AT (407 л.с.) 4WD            4.0          2012.0   \n",
       "3         30d 3.0d AT (249 л.с.) 4WD            5.0          2015.0   \n",
       "4        M50d 3.0d AT (381 л.с.) 4WD            5.0          2019.0   \n",
       "\n",
       "            vehicleConfiguration vehicleTransmission engineDisplacement  \\\n",
       "0            SEDAN AUTOMATIC 2.0      автоматическая            2.0 LTR   \n",
       "1            SEDAN AUTOMATIC 2.0      автоматическая            2.0 LTR   \n",
       "2            SEDAN AUTOMATIC 4.4      автоматическая            4.4 LTR   \n",
       "3  ALLROAD_5_DOORS AUTOMATIC 3.0      автоматическая            3.0 LTR   \n",
       "4  ALLROAD_5_DOORS AUTOMATIC 3.0      автоматическая            3.0 LTR   \n",
       "\n",
       "  enginePower                                        description   mileage  \\\n",
       "0     190 N12  В РОЛЬФ Ясенево представлено более 500 автомоб...  158836.0   \n",
       "1     150 N12  Автомобиль из демонстрационного парка по спец ...      10.0   \n",
       "2     407 N12                  Машина собиралась под заказ! \\n\\n  120000.0   \n",
       "3     249 N12  АВТОМОБИЛЬ В БЕЗУПРЕЧНОМ ВНЕШНЕМ И ТЕХНИЧЕСКОМ...  111466.0   \n",
       "4     381 N12  Автомобиль не имеет собственников ( физ. лиц) ...   11891.0   \n",
       "\n",
       "                                        Комплектация  Привод   Руль  \\\n",
       "0  ['[{\"name\":\"Безопасность\",\"values\":[\"Антипробу...  задний  Левый   \n",
       "1  ['[{\"name\":\"Комфорт\",\"values\":[\"Круиз-контроль...  задний  Левый   \n",
       "2  ['[{\"name\":\"Комфорт\",\"values\":[\"Круиз-контроль...  полный  Левый   \n",
       "3  ['[{\"name\":\"Комфорт\",\"values\":[\"Круиз-контроль...  полный  Левый   \n",
       "4  ['[{\"name\":\"Комфорт\",\"values\":[\"Круиз-контроль...  полный  Левый   \n",
       "\n",
       "            Состояние    Владельцы       ПТС     Таможня          Владение  id  \n",
       "0  Не требует ремонта   1 владелец  Оригинал  Растаможен               NaN   0  \n",
       "1  Не требует ремонта   1 владелец  Оригинал  Растаможен               NaN   1  \n",
       "2  Не требует ремонта  2 владельца  Оригинал  Растаможен  7 лет и 2 месяца   2  \n",
       "3  Не требует ремонта  2 владельца  Оригинал  Растаможен               NaN   3  \n",
       "4  Не требует ремонта   1 владелец  Оригинал  Растаможен               NaN   4  "
      ]
     },
     "execution_count": 4,
     "metadata": {},
     "output_type": "execute_result"
    }
   ],
   "source": [
    "data_test.head(5)"
   ]
  },
  {
   "cell_type": "code",
   "execution_count": 5,
   "metadata": {
    "execution": {
     "iopub.execute_input": "2020-12-01T12:44:40.555212Z",
     "iopub.status.busy": "2020-12-01T12:44:40.554087Z",
     "iopub.status.idle": "2020-12-01T12:44:40.572017Z",
     "shell.execute_reply": "2020-12-01T12:44:40.571186Z"
    },
    "papermill": {
     "duration": 0.183004,
     "end_time": "2020-12-01T12:44:40.572154",
     "exception": false,
     "start_time": "2020-12-01T12:44:40.389150",
     "status": "completed"
    },
    "tags": []
   },
   "outputs": [
    {
     "name": "stdout",
     "output_type": "stream",
     "text": [
      "<class 'pandas.core.frame.DataFrame'>\n",
      "RangeIndex: 3837 entries, 0 to 3836\n",
      "Data columns (total 23 columns):\n",
      " #   Column                Non-Null Count  Dtype  \n",
      "---  ------                --------------  -----  \n",
      " 0   bodyType              3837 non-null   object \n",
      " 1   brand                 3837 non-null   object \n",
      " 2   color                 3837 non-null   object \n",
      " 3   fuelType              3837 non-null   object \n",
      " 4   modelDate             3837 non-null   float64\n",
      " 5   name                  3837 non-null   object \n",
      " 6   numberOfDoors         3837 non-null   float64\n",
      " 7   productionDate        3837 non-null   float64\n",
      " 8   vehicleConfiguration  3837 non-null   object \n",
      " 9   vehicleTransmission   3837 non-null   object \n",
      " 10  engineDisplacement    3837 non-null   object \n",
      " 11  enginePower           3837 non-null   object \n",
      " 12  description           3837 non-null   object \n",
      " 13  mileage               3837 non-null   float64\n",
      " 14  Комплектация          3837 non-null   object \n",
      " 15  Привод                3837 non-null   object \n",
      " 16  Руль                  3837 non-null   object \n",
      " 17  Состояние             3837 non-null   object \n",
      " 18  Владельцы             3837 non-null   object \n",
      " 19  ПТС                   3837 non-null   object \n",
      " 20  Таможня               3837 non-null   object \n",
      " 21  Владение              1753 non-null   object \n",
      " 22  id                    3837 non-null   int64  \n",
      "dtypes: float64(4), int64(1), object(18)\n",
      "memory usage: 689.6+ KB\n"
     ]
    }
   ],
   "source": [
    "data_test.info()"
   ]
  },
  {
   "cell_type": "markdown",
   "metadata": {
    "papermill": {
     "duration": 0.14357,
     "end_time": "2020-12-01T12:44:40.858380",
     "exception": false,
     "start_time": "2020-12-01T12:44:40.714810",
     "status": "completed"
    },
    "tags": []
   },
   "source": [
    "Видно что во всех столбцах кроме \"Владение\" данные представлены полностью. Оставим анализ и обработку этих данных для следующего этапа, а пока возьмём названия всех колонок, для того чтобы понимать какие данные будем парсить."
   ]
  },
  {
   "cell_type": "code",
   "execution_count": 6,
   "metadata": {
    "execution": {
     "iopub.execute_input": "2020-12-01T12:44:41.151020Z",
     "iopub.status.busy": "2020-12-01T12:44:41.150084Z",
     "iopub.status.idle": "2020-12-01T12:44:41.154816Z",
     "shell.execute_reply": "2020-12-01T12:44:41.154213Z"
    },
    "papermill": {
     "duration": 0.153802,
     "end_time": "2020-12-01T12:44:41.154944",
     "exception": false,
     "start_time": "2020-12-01T12:44:41.001142",
     "status": "completed"
    },
    "tags": []
   },
   "outputs": [
    {
     "data": {
      "text/plain": [
       "Index(['bodyType', 'brand', 'color', 'fuelType', 'modelDate', 'name',\n",
       "       'numberOfDoors', 'productionDate', 'vehicleConfiguration',\n",
       "       'vehicleTransmission', 'engineDisplacement', 'enginePower',\n",
       "       'description', 'mileage', 'Комплектация', 'Привод', 'Руль', 'Состояние',\n",
       "       'Владельцы', 'ПТС', 'Таможня', 'Владение', 'id'],\n",
       "      dtype='object')"
      ]
     },
     "execution_count": 6,
     "metadata": {},
     "output_type": "execute_result"
    }
   ],
   "source": [
    "data_test.columns"
   ]
  },
  {
   "cell_type": "code",
   "execution_count": 7,
   "metadata": {
    "execution": {
     "iopub.execute_input": "2020-12-01T12:44:41.500842Z",
     "iopub.status.busy": "2020-12-01T12:44:41.499920Z",
     "iopub.status.idle": "2020-12-01T12:44:41.503534Z",
     "shell.execute_reply": "2020-12-01T12:44:41.502725Z"
    },
    "papermill": {
     "duration": 0.154496,
     "end_time": "2020-12-01T12:44:41.503667",
     "exception": false,
     "start_time": "2020-12-01T12:44:41.349171",
     "status": "completed"
    },
    "tags": []
   },
   "outputs": [],
   "source": [
    "columns_name_dict = {}\n",
    "for i in data_test.columns:\n",
    "    columns_name_dict[i] = 0"
   ]
  },
  {
   "cell_type": "markdown",
   "metadata": {
    "papermill": {
     "duration": 0.160017,
     "end_time": "2020-12-01T12:44:41.822276",
     "exception": false,
     "start_time": "2020-12-01T12:44:41.662259",
     "status": "completed"
    },
    "tags": []
   },
   "source": [
    "3. Подготовка к парсингу данных"
   ]
  },
  {
   "cell_type": "code",
   "execution_count": 8,
   "metadata": {
    "execution": {
     "iopub.execute_input": "2020-12-01T12:44:42.114081Z",
     "iopub.status.busy": "2020-12-01T12:44:42.113259Z",
     "iopub.status.idle": "2020-12-01T12:44:42.116250Z",
     "shell.execute_reply": "2020-12-01T12:44:42.116803Z"
    },
    "papermill": {
     "duration": 0.150755,
     "end_time": "2020-12-01T12:44:42.116961",
     "exception": false,
     "start_time": "2020-12-01T12:44:41.966206",
     "status": "completed"
    },
    "tags": []
   },
   "outputs": [],
   "source": [
    "import requests  \n",
    "from bs4 import BeautifulSoup "
   ]
  },
  {
   "cell_type": "code",
   "execution_count": 9,
   "metadata": {
    "execution": {
     "iopub.execute_input": "2020-12-01T12:44:42.421675Z",
     "iopub.status.busy": "2020-12-01T12:44:42.420751Z",
     "iopub.status.idle": "2020-12-01T12:44:44.539584Z",
     "shell.execute_reply": "2020-12-01T12:44:44.538792Z"
    },
    "papermill": {
     "duration": 2.277998,
     "end_time": "2020-12-01T12:44:44.539716",
     "exception": false,
     "start_time": "2020-12-01T12:44:42.261718",
     "status": "completed"
    },
    "tags": []
   },
   "outputs": [
    {
     "name": "stdout",
     "output_type": "stream",
     "text": [
      "{'availability': 'IN_STOCK', 'category': 'cars', 'color_hex': 'CACECB', 'delivery_info': {}, 'description': 'Машина в идеальном состоянии!!!\\nПокупалась в 2009 году\\nЗа всё время не было ни одного Дтп! (Даже мелких)\\nНовая Резина Pirelli\\nПротивоугонная система\\nВсе вопросы по телефону', 'discount_options': {}, 'documents': {'owners_number': 2, 'pts_original': True, 'custom_cleared': True, 'year': 2008, 'vin': 'JHM**************', 'pts': 'ORIGINAL', 'license_plate': '******|47', 'vin_resolution': 'OK'}, 'is_favorite': False, 'old_category_id': 15, 'owner_expenses': {'transport_tax': {'tax_by_year': 7020, 'year': 2020, 'rid': 213, 'rate': 45, 'horse_power': 156, 'holding_period_month': 12, 'boost': 1}, 'osago_insurance': [{'insurance_company': 'TINKOFF', 'price': 6309}]}, 'section': 'used', 'seller_type': 'PRIVATE', 'services': [{'service': 'all_sale_special', 'is_active': True, 'prolongable': False}, {'service': 'all_sale_color', 'is_active': True, 'prolongable': False}, {'service': 'all_sale_toplist', 'is_active': True, 'prolongable': False}, {'service': 'all_sale_fresh', 'create_date': '1606806277691', 'is_active': True, 'prolongable': False}], 'status': 'ACTIVE', 'tags': ['discount', 'vin_service_history', 'medium', 'fivestars', 'comfort', 'history_discount', 'online_view_available', 'allowed_for_credit', 'liquid', 'wide-back-seats', 'vin_offers_history', 'available_for_checkup', 'handling', 'vin_resolution_ok', 'vin_checked', 'no_accidents', 'pts_original', 'safe_car'], 'multiposting': {'classifieds': []}, 'additional_info': {'hidden': False, 'is_on_moderation': False, 'not_disturb': True, 'update_date': '1606806306000', 'creation_date': '1606116035479', 'mobile_autoservices_url': 'https://m.auto.ru/autoservice/all_works/HONDA/?geo_id=213', 'hot_info': {'is_hot': False, 'start_time': '2020-11-23T07:00:26Z', 'end_time': '2020-11-23T07:00:26Z'}, 'fresh_date': '1606806277691', 'counters_start_date': '1606116035479', 'chat_only': False, 'dealer_card_promo': 'DONT_SHOW', 'review_summary': {'avg_rating': 4.5, 'counter': 73}, 'price_stats': {'last_year_price_percentage_diff': -12}, 'booking': {}, 'days_in_stock': 9, 'days_on_sale': 9}, 'counters': {}, 'grouping_info': None, 'hash': '05289d62', 'id': '1101672738', 'price_info': {'price': 790000, 'currency': 'RUR', 'EUR': 8652, 'RUR': 790000, 'USD': 10351, 'with_nds': False}, 'price_history': [{'EUR': 8980, 'RUR': 820000, 'USD': 10744, 'create_timestamp': 1606114783000}, {'EUR': 8652, 'RUR': 790000, 'USD': 10351, 'create_timestamp': 1606631057000}], 'recall_info': {}, 'saleId': '1101672738-05289d62', 'salon': None, 'seller': {'location': {'coord': {'latitude': 55.753216, 'longitude': 37.622505}, 'geobase_id': '213', 'region_info': {'id': '213', 'name': 'Москва', 'genitive': 'Москвы', 'dative': 'Москве', 'accusative': 'Москву', 'prepositional': 'Москве', 'preposition': 'в', 'latitude': 55.753215, 'longitude': 37.622504, 'parent_ids': ['213', '1', '3', '225', '10001', '10000']}, 'timezone_info': {'abbr': 'MSK', 'dst': False, 'name': 'Europe/Moscow', 'offset': 10800}}, 'name': 'id62234858', 'phones': [], 'redirect_phones': True, 'chats_enabled': True, 'call_hours': {'call_hour_start': 0, 'call_hour_end': 0, 'call_minute_end': 0, 'call_minute_start': 0}}, 'service_prices': [], 'state': {'mileage': 146000, 'state_not_beaten': True, 'image_urls': [{'sizes': {'small': '//avatars.mds.yandex.net/get-autoru-vos/4476899/04b80ba82dc493ef91605fd552afde69/small', 'thumb_m': '//avatars.mds.yandex.net/get-autoru-vos/4476899/04b80ba82dc493ef91605fd552afde69/thumb_m', '320x240': '//avatars.mds.yandex.net/get-autoru-vos/4476899/04b80ba82dc493ef91605fd552afde69/320x240', '456x342': '//avatars.mds.yandex.net/get-autoru-vos/4476899/04b80ba82dc493ef91605fd552afde69/456x342', '456x342n': '//avatars.mds.yandex.net/get-autoru-vos/4476899/04b80ba82dc493ef91605fd552afde69/456x342n', '1200x900': '//avatars.mds.yandex.net/get-autoru-vos/4476899/04b80ba82dc493ef91605fd552afde69/1200x900', '1200x900n': '//avatars.mds.yandex.net/get-autoru-vos/4476899/04b80ba82dc493ef91605fd552afde69/1200x900n'}, 'preview': 'data:image/jpeg;base64,/9j/4AAQSkZJRgABAgAAAQABAAD/2wBDAAMCAgMCAgMDAwMEAwMEBQgFBQQEBQoHBwYIDAoMDAsKCwsNDhIQDQ4RDgsLEBYQERMUFRUVDA8XGBYUGBIUFRT/2wBDAQMEBAUEBQkFBQkUDQsNFBQUFBQUFBQUFBQUFBQUFBQUFBQUFBQUFBQUFBQUFBQUFBQUFBQUFBQUFBQUFBQUFBT/wAARCAASABgDASIAAhEBAxEB/8QAHwAAAQUBAQEBAQEAAAAAAAAAAAECAwQFBgcICQoL/8QAtRAAAgEDAwIEAwUFBAQAAAF9AQIDAAQRBRIhMUEGE1FhByJxFDKBkaEII0KxwRVS0fAkM2JyggkKFhcYGRolJicoKSo0NTY3ODk6Q0RFRkdISUpTVFVWV1hZWmNkZWZnaGlqc3R1dnd4eXqDhIWGh4iJipKTlJWWl5iZmqKjpKWmp6ipqrKztLW2t7i5usLDxMXGx8jJytLT1NXW19jZ2uHi4+Tl5ufo6erx8vP09fb3+Pn6/8QAHwEAAwEBAQEBAQEBAQAAAAAAAAECAwQFBgcICQoL/8QAtREAAgECBAQDBAcFBAQAAQJ3AAECAxEEBSExBhJBUQdhcRMiMoEIFEKRobHBCSMzUvAVYnLRChYkNOEl8RcYGRomJygpKjU2Nzg5OkNERUZHSElKU1RVVldYWVpjZGVmZ2hpanN0dXZ3eHl6goOEhYaHiImKkpOUlZaXmJmaoqOkpaanqKmqsrO0tba3uLm6wsPExcbHyMnK0tPU1dbX2Nna4uPk5ebn6Onq8vP09fb3+Pn6/9oADAMBAAIRAxEAPwDiP2nPi/a+PtU1bR9FhnvrQyn7HESZJBhuOhZh/Fndg+gHNR+HoNetPDUstpZTQXIjiFoLqOQxxsvLu4B44eQDrjaM56i14+s9WsbFk8G+GrOwmLgSz2V9JJLJHnOwgSkgbgrcd1HbOfWdI8XNqn7NupeHdS0m6PidnMf2yaRtkGQRl2JaTgHuMfSs6VD2t7tL5lTqODVkeH+O/jNoF18LLPRjpDvrlvf295daq9xuS7lG9pU+U42sZE4zn5W+gK37zwBAvhS20469a2GmRku8qWsVwrk9S8g4TGeA2MUVzOnrudHtNEj3DwDNJP4Vs5pJGkleNd0jElm5PU1i+L2MetaDKhKyyXoid1OGZP7pPce1FFdETBnnnxsgi07xlOLSNLYSQLvEKhN2Xw2cdcjrRRRSKP/Z'}, {'sizes': {'small': '//avatars.mds.yandex.net/get-autoru-vos/1720671/0810942dd81c8f16a5b6a0043dfac087/small', 'thumb_m': '//avatars.mds.yandex.net/get-autoru-vos/1720671/0810942dd81c8f16a5b6a0043dfac087/thumb_m', '320x240': '//avatars.mds.yandex.net/get-autoru-vos/1720671/0810942dd81c8f16a5b6a0043dfac087/320x240', '456x342': '//avatars.mds.yandex.net/get-autoru-vos/1720671/0810942dd81c8f16a5b6a0043dfac087/456x342', '456x342n': '//avatars.mds.yandex.net/get-autoru-vos/1720671/0810942dd81c8f16a5b6a0043dfac087/456x342n', '1200x900': '//avatars.mds.yandex.net/get-autoru-vos/1720671/0810942dd81c8f16a5b6a0043dfac087/1200x900', '1200x900n': '//avatars.mds.yandex.net/get-autoru-vos/1720671/0810942dd81c8f16a5b6a0043dfac087/1200x900n'}, 'preview': 'data:image/jpeg;base64,/9j/4AAQSkZJRgABAgAAAQABAAD/2wBDAAMCAgMCAgMDAwMEAwMEBQgFBQQEBQoHBwYIDAoMDAsKCwsNDhIQDQ4RDgsLEBYQERMUFRUVDA8XGBYUGBIUFRT/2wBDAQMEBAUEBQkFBQkUDQsNFBQUFBQUFBQUFBQUFBQUFBQUFBQUFBQUFBQUFBQUFBQUFBQUFBQUFBQUFBQUFBQUFBT/wAARCAASABgDASIAAhEBAxEB/8QAHwAAAQUBAQEBAQEAAAAAAAAAAAECAwQFBgcICQoL/8QAtRAAAgEDAwIEAwUFBAQAAAF9AQIDAAQRBRIhMUEGE1FhByJxFDKBkaEII0KxwRVS0fAkM2JyggkKFhcYGRolJicoKSo0NTY3ODk6Q0RFRkdISUpTVFVWV1hZWmNkZWZnaGlqc3R1dnd4eXqDhIWGh4iJipKTlJWWl5iZmqKjpKWmp6ipqrKztLW2t7i5usLDxMXGx8jJytLT1NXW19jZ2uHi4+Tl5ufo6erx8vP09fb3+Pn6/8QAHwEAAwEBAQEBAQEBAQAAAAAAAAECAwQFBgcICQoL/8QAtREAAgECBAQDBAcFBAQAAQJ3AAECAxEEBSExBhJBUQdhcRMiMoEIFEKRobHBCSMzUvAVYnLRChYkNOEl8RcYGRomJygpKjU2Nzg5OkNERUZHSElKU1RVVldYWVpjZGVmZ2hpanN0dXZ3eHl6goOEhYaHiImKkpOUlZaXmJmaoqOkpaanqKmqsrO0tba3uLm6wsPExcbHyMnK0tPU1dbX2Nna4uPk5ebn6Onq8vP09fb3+Pn6/9oADAMBAAIRAxEAPwCbxT8PvF97qHhBvGFxevCE+yWdvbXOCscUZ8tQpg4BJRfnIJBbvTdZ+C3j/T9M1vSfDv8Aakei6ntnnj1GZF8xgGwiYCkYz0OevNZPxi8fzxQWcyWWqpcaURdR3F9cH7RP84blid4BKrhOnrgcUzWP21vFGo6bo+jW8Gqw3aJtF3b3BtHYdPneRXVxnb8+QeT1rz/Z9kdDqyve/W5zWmfCv4yWF65sLa9j1BHaWISXHl4kLfM2ZGC5OW+uT1zRX038IPij4m8S+EJIGkvIdYhkdJI0uprgRg4KE4iffwVJbPJz06UUvZ+ZaqNK1jwn4twxk2CFFKCcgLjgfunP8wD9RVr4NafazatPPJbQyTLFbYkaMFhnfnn3oorY52fQnwkY/wDCaeJBk4N9Zrj2NuuR+g/KiiiqRR//2Q=='}, {'sizes': {'small': '//avatars.mds.yandex.net/get-autoru-vos/4121081/49d1fde81efa1d919b30aea9a0416b75/small', 'thumb_m': '//avatars.mds.yandex.net/get-autoru-vos/4121081/49d1fde81efa1d919b30aea9a0416b75/thumb_m', '320x240': '//avatars.mds.yandex.net/get-autoru-vos/4121081/49d1fde81efa1d919b30aea9a0416b75/320x240', '456x342': '//avatars.mds.yandex.net/get-autoru-vos/4121081/49d1fde81efa1d919b30aea9a0416b75/456x342', '456x342n': '//avatars.mds.yandex.net/get-autoru-vos/4121081/49d1fde81efa1d919b30aea9a0416b75/456x342n', '1200x900': '//avatars.mds.yandex.net/get-autoru-vos/4121081/49d1fde81efa1d919b30aea9a0416b75/1200x900', '1200x900n': '//avatars.mds.yandex.net/get-autoru-vos/4121081/49d1fde81efa1d919b30aea9a0416b75/1200x900n'}, 'preview': 'data:image/jpeg;base64,/9j/4AAQSkZJRgABAgAAAQABAAD/2wBDAAMCAgMCAgMDAwMEAwMEBQgFBQQEBQoHBwYIDAoMDAsKCwsNDhIQDQ4RDgsLEBYQERMUFRUVDA8XGBYUGBIUFRT/2wBDAQMEBAUEBQkFBQkUDQsNFBQUFBQUFBQUFBQUFBQUFBQUFBQUFBQUFBQUFBQUFBQUFBQUFBQUFBQUFBQUFBQUFBT/wAARCAASABgDASIAAhEBAxEB/8QAHwAAAQUBAQEBAQEAAAAAAAAAAAECAwQFBgcICQoL/8QAtRAAAgEDAwIEAwUFBAQAAAF9AQIDAAQRBRIhMUEGE1FhByJxFDKBkaEII0KxwRVS0fAkM2JyggkKFhcYGRolJicoKSo0NTY3ODk6Q0RFRkdISUpTVFVWV1hZWmNkZWZnaGlqc3R1dnd4eXqDhIWGh4iJipKTlJWWl5iZmqKjpKWmp6ipqrKztLW2t7i5usLDxMXGx8jJytLT1NXW19jZ2uHi4+Tl5ufo6erx8vP09fb3+Pn6/8QAHwEAAwEBAQEBAQEBAQAAAAAAAAECAwQFBgcICQoL/8QAtREAAgECBAQDBAcFBAQAAQJ3AAECAxEEBSExBhJBUQdhcRMiMoEIFEKRobHBCSMzUvAVYnLRChYkNOEl8RcYGRomJygpKjU2Nzg5OkNERUZHSElKU1RVVldYWVpjZGVmZ2hpanN0dXZ3eHl6goOEhYaHiImKkpOUlZaXmJmaoqOkpaanqKmqsrO0tba3uLm6wsPExcbHyMnK0tPU1dbX2Nna4uPk5ebn6Onq8vP09fb3+Pn6/9oADAMBAAIRAxEAPwDoPGPiX4geLPD2k+F114eLH0zhrwQMpKZHDFlLsBjqdvQcmvK9F+HvivwfefbJ9TWH7LcSXjKLJ3RgQ2A5dkA5ZiMHgkHORXbfFP4ufESw8TaU+ntLcRwvhYLHUUVZl3DK4UNvJA6YB44zzWX8QPEPxE/aKvLXT7aw1Pw5oFi4m1m1jHlSDCcKISfMcZ3ZOzsDg4wPP5He7dzZy6HLfDrVfHWgSa3r/hyG8t9Ovomtrye0/eNvVt7xna5H3HU854wOMkUV6cnw78QWHh3TdN8LeLF07QmbzUjhXeZ5e7CQFi/TG1TkY+4MAUVDoqySbOhV5b2X3HtXxoiSLwBqMqIqSxC2dHUYZG85eQex968n8YTyWPxZ0l7aRrd5oQsjRMVLjE3DY6/dXr6D0ooroe5zMwPDdxKvxb8TWYkcWZtRcG3DHyzLtzv29N3v1ooooGtj/9k='}, {'sizes': {'small': '//avatars.mds.yandex.net/get-autoru-vos/1701598/2d4e3d7ab51ab0473ccecfd585ca1d36/small', 'thumb_m': '//avatars.mds.yandex.net/get-autoru-vos/1701598/2d4e3d7ab51ab0473ccecfd585ca1d36/thumb_m', '320x240': '//avatars.mds.yandex.net/get-autoru-vos/1701598/2d4e3d7ab51ab0473ccecfd585ca1d36/320x240', '456x342': '//avatars.mds.yandex.net/get-autoru-vos/1701598/2d4e3d7ab51ab0473ccecfd585ca1d36/456x342', '456x342n': '//avatars.mds.yandex.net/get-autoru-vos/1701598/2d4e3d7ab51ab0473ccecfd585ca1d36/456x342n', '1200x900': '//avatars.mds.yandex.net/get-autoru-vos/1701598/2d4e3d7ab51ab0473ccecfd585ca1d36/1200x900', '1200x900n': '//avatars.mds.yandex.net/get-autoru-vos/1701598/2d4e3d7ab51ab0473ccecfd585ca1d36/1200x900n'}, 'preview': 'data:image/jpeg;base64,/9j/4AAQSkZJRgABAgAAAQABAAD/2wBDAAMCAgMCAgMDAwMEAwMEBQgFBQQEBQoHBwYIDAoMDAsKCwsNDhIQDQ4RDgsLEBYQERMUFRUVDA8XGBYUGBIUFRT/2wBDAQMEBAUEBQkFBQkUDQsNFBQUFBQUFBQUFBQUFBQUFBQUFBQUFBQUFBQUFBQUFBQUFBQUFBQUFBQUFBQUFBQUFBT/wAARCAASABgDASIAAhEBAxEB/8QAHwAAAQUBAQEBAQEAAAAAAAAAAAECAwQFBgcICQoL/8QAtRAAAgEDAwIEAwUFBAQAAAF9AQIDAAQRBRIhMUEGE1FhByJxFDKBkaEII0KxwRVS0fAkM2JyggkKFhcYGRolJicoKSo0NTY3ODk6Q0RFRkdISUpTVFVWV1hZWmNkZWZnaGlqc3R1dnd4eXqDhIWGh4iJipKTlJWWl5iZmqKjpKWmp6ipqrKztLW2t7i5usLDxMXGx8jJytLT1NXW19jZ2uHi4+Tl5ufo6erx8vP09fb3+Pn6/8QAHwEAAwEBAQEBAQEBAQAAAAAAAAECAwQFBgcICQoL/8QAtREAAgECBAQDBAcFBAQAAQJ3AAECAxEEBSExBhJBUQdhcRMiMoEIFEKRobHBCSMzUvAVYnLRChYkNOEl8RcYGRomJygpKjU2Nzg5OkNERUZHSElKU1RVVldYWVpjZGVmZ2hpanN0dXZ3eHl6goOEhYaHiImKkpOUlZaXmJmaoqOkpaanqKmqsrO0tba3uLm6wsPExcbHyMnK0tPU1dbX2Nna4uPk5ebn6Onq8vP09fb3+Pn6/9oADAMBAAIRAxEAPwDe1n9q/Q7Hwc/h3S73+0dbksrfYjKxtknRg20lmDAgnGVODx64rE+Lnxb07UPB+mz3d6kGsTXiSSwBCrwxpB825P4S0g4z3BI4rhfHXgnTP+EfW28KWH2O+s5C7XNvLNP58YBB3klQnY4AbHf1rF074m+Lbzwnb6NF4Mk13U5JPI+3T2kGXVR1LHcGBwScp6YPNcTi31NnJdj6h8M/ta/DXw/4Jk06fU3ubmRlSR5JVznYNzDJ5HLY985IorxjRf2ePCPijSVudT8Mxx68hUXttdakbKCKQgNhVjH3SCCOO/boCmubuVeJe8ZyPb+JvDmmRM0WmzbfNs0OIZMqM7kHB/EVtX0jx3+uyIzLJDYxeU4ODHktnae3QdPQUUVT3INn4Wsf7Y12bJ85orImT+IkxtnmiiimgP/Z'}, {'sizes': {'small': '//avatars.mds.yandex.net/get-autoru-vos/2126349/28352e27465614974a57dcb7f9a09245/small', 'thumb_m': '//avatars.mds.yandex.net/get-autoru-vos/2126349/28352e27465614974a57dcb7f9a09245/thumb_m', '320x240': '//avatars.mds.yandex.net/get-autoru-vos/2126349/28352e27465614974a57dcb7f9a09245/320x240', '456x342': '//avatars.mds.yandex.net/get-autoru-vos/2126349/28352e27465614974a57dcb7f9a09245/456x342', '456x342n': '//avatars.mds.yandex.net/get-autoru-vos/2126349/28352e27465614974a57dcb7f9a09245/456x342n', '1200x900': '//avatars.mds.yandex.net/get-autoru-vos/2126349/28352e27465614974a57dcb7f9a09245/1200x900', '1200x900n': '//avatars.mds.yandex.net/get-autoru-vos/2126349/28352e27465614974a57dcb7f9a09245/1200x900n'}, 'preview': 'data:image/jpeg;base64,/9j/4AAQSkZJRgABAgAAAQABAAD/2wBDAAMCAgMCAgMDAwMEAwMEBQgFBQQEBQoHBwYIDAoMDAsKCwsNDhIQDQ4RDgsLEBYQERMUFRUVDA8XGBYUGBIUFRT/2wBDAQMEBAUEBQkFBQkUDQsNFBQUFBQUFBQUFBQUFBQUFBQUFBQUFBQUFBQUFBQUFBQUFBQUFBQUFBQUFBQUFBQUFBT/wAARCAASABgDASIAAhEBAxEB/8QAHwAAAQUBAQEBAQEAAAAAAAAAAAECAwQFBgcICQoL/8QAtRAAAgEDAwIEAwUFBAQAAAF9AQIDAAQRBRIhMUEGE1FhByJxFDKBkaEII0KxwRVS0fAkM2JyggkKFhcYGRolJicoKSo0NTY3ODk6Q0RFRkdISUpTVFVWV1hZWmNkZWZnaGlqc3R1dnd4eXqDhIWGh4iJipKTlJWWl5iZmqKjpKWmp6ipqrKztLW2t7i5usLDxMXGx8jJytLT1NXW19jZ2uHi4+Tl5ufo6erx8vP09fb3+Pn6/8QAHwEAAwEBAQEBAQEBAQAAAAAAAAECAwQFBgcICQoL/8QAtREAAgECBAQDBAcFBAQAAQJ3AAECAxEEBSExBhJBUQdhcRMiMoEIFEKRobHBCSMzUvAVYnLRChYkNOEl8RcYGRomJygpKjU2Nzg5OkNERUZHSElKU1RVVldYWVpjZGVmZ2hpanN0dXZ3eHl6goOEhYaHiImKkpOUlZaXmJmaoqOkpaanqKmqsrO0tba3uLm6wsPExcbHyMnK0tPU1dbX2Nna4uPk5ebn6Onq8vP09fb3+Pn6/9oADAMBAAIRAxEAPwBdO/Zbu4tYgtZZtUhuNySG1uPKZmUYyMFgAdqnpnGB612vjD9n+91fQ3s7Lw9cJOsP2a2ne8JMaH7wYNcFQPoCeuOa891D9pm78FeN49aSKGGYTMLibTtscsiPhcyPKu1vXDeg47G9Z/8ABQG/unVpfGaXtoApaO30KFLpjnlS5j8pfrnAxnJ6VweyWuh0OrLSz2PLV+Emv2Ml34f065s52tpg0lqkcokR0YnMh7YOf4j7cUV9JfC3xjpHjOBvFs0Wltqt3cvfIk08b3q4bKDbJtQkDAyp/TAopKl5lc7Z8keM5XgtLyGJ2jiICmNDhSDnIxWb4aYx+HNSVCUVgwIXgH5AP5cUUVutjne59w+HNKsrvwdZCezt5hHYx7PMiVtuE4xkcUUUUFn/2Q=='}], 'images_count': 17}, 'sub_category': 'cars', 'vehicle_info': {'configuration': {'id': '2306797', 'body_type': 'SEDAN', 'doors_count': 4, 'auto_class': 'D', 'human_name': 'Седан', 'trunk_volume_min': 467, 'body_type_group': 'SEDAN', 'main_photo': {'sizes': {'orig': '//avatars.mds.yandex.net/get-verba/787013/2a000001609cf87c6591a0d87fbe012e7a6b/orig', 'wizardv3mr': '//avatars.mds.yandex.net/get-verba/787013/2a000001609cf87c6591a0d87fbe012e7a6b/wizardv3mr', 'cattouch': '//avatars.mds.yandex.net/get-verba/787013/2a000001609cf87c6591a0d87fbe012e7a6b/cattouch'}}, 'tags': ['liquid', 'wide-back-seats', 'medium', 'fivestars']}, 'complectation': {'id': '0'}, 'equipment': {'cruise-control': True, 'tinted-glass': True, 'esp': True, 'airbag-driver': True, 'usb': True, 'aux': True, 'electro-window-front': True, 'multi-wheel': True, 'automatic-lighting-control': True, 'airbag-curtain': True, 'airbag-passenger': True, 'front-centre-armrest': True, 'computer': True, 'wheel-power': True, 'lock': True, 'light-cleaner': True, 'fabric-seats': True, 'electro-mirrors': True, 'drl': True, 'airbag-rear-side': True, 'electro-window-back': True, 'alloy-wheel-disks': True, 'leather-gear-stick': True, 'driver-seat-support': True, 'reduce-spare-wheel': True, 'ptf': True, '16-inch-wheels': True, 'airbag-side': True, 'mirrors-heat': True, 'driver-seat-updown': True, 'front-seats-heat': True, 'wheel-configuration2': True, 'wheel-leather': True, 'wheel-configuration1': True, 'immo': True, 'auto-mirrors': True}, 'mark_info': {'code': 'HONDA', 'name': 'Honda', 'ru_name': 'Хонда', 'logo': {'name': 'mark-logo', 'sizes': {'logo': '//avatars.mds.yandex.net/get-verba/1030388/2a00000160953e3d48ce8b37e8d442baeef6/logo', 'big-logo': '//avatars.mds.yandex.net/get-verba/1030388/2a00000160953e3d48ce8b37e8d442baeef6/dealer_logo'}}}, 'model_info': {'code': 'ACCORD', 'name': 'Accord', 'ru_name': 'Аккорд', 'morphology': {}, 'nameplate': {'code': '', 'name': '', 'semantic_url': ''}}, 'steering_wheel': 'LEFT', 'super_gen': {'id': '2306796', 'name': 'VIII', 'ru_name': '8', 'year_from': 2007, 'year_to': 2011, 'price_segment': 'MEDIUM'}, 'tech_param': {'id': '2306799', 'displacement': 1997, 'engine_type': 'GASOLINE', 'gear_type': 'FORWARD_CONTROL', 'transmission': 'AUTOMATIC', 'power': 156, 'power_kvt': 115, 'human_name': '2.0 AT (156 л.с.)', 'acceleration': 10.9, 'clearance_min': 150, 'fuel_rate': 7.7}, 'vendor': 'JAPANESE'}, 'lk_summary': '2.0\\xa0AT (156\\xa0л.с.), седан, передний, бензин'}\n"
     ]
    }
   ],
   "source": [
    "# Сделаем тестовый запрос чтобы посмотреть какие данные приходят и проанализировать как в дальнейшем их обрабатывать\n",
    "\n",
    "URL = 'https://auto.ru/-/ajax/desktop/listing/' #URL на который будет отправлен запрос\n",
    "\n",
    "mark = 'HONDA'  # марка\n",
    "model = 'ACCORD'  # модель\n",
    "geo_radius = 200  # радиус вокруг москвы = 200 км\n",
    "geo_id = [213]  # Москва\n",
    "top_days = \"1\"  # кол-во дней от текущей даты назад за которые запрашиваем объявления \n",
    "\n",
    "param = {\n",
    "                'catalog_filter' : [{\"mark\": mark, \"model\": model}],\n",
    "                'section': \"all\",\n",
    "                'category': \"cars\",\n",
    "                'sort': \"fresh_relevance_1-desc\",\n",
    "                \"top_days\":top_days,\n",
    "                \"geo_radius\":geo_radius,\n",
    "                \"geo_id\":geo_id,\n",
    "                'page': 1\n",
    "            }\n",
    "\n",
    "HEADERS = {\n",
    "        'Accept': '*/*',\n",
    "        'Accept-Encoding': 'gzip, deflate, br',\n",
    "        'Accept-Language': 'ru-RU,ru;q=0.8,en-US;q=0.5,en;q=0.3',\n",
    "        'Connection': 'keep-alive',\n",
    "        'Content-Length': '1',\n",
    "        'content-type': 'application/json',\n",
    "        'Cookie': '_csrf_token=df8af3435de0ea5dd1a651b8e7bde1b6fd5e57945e0b0c6c; autoru_sid=a%3Ag5fbb74172s09isaetrjhu8dm1u2i34n.e5e6d790aa018577bf6fe2204db99922%7C1606399360788.604800.iJDFaWTnL3xaBCbH6Hq12g.Ez-LtkuYJIEQRqZQHbk_cZIb7VqnmqvL4xuTrMVd8Ks; autoruuid=g5fbb74172s09isaetrjhu8dm1u2i34n.e5e6d790aa018577bf6fe2204db99922; suid=25f62e6da872ddff530e9708562c27e5.dcedbe7f9ffbd4bbaae4ab58654037f4; from_lifetime=1606400400961; from=direct; X-Vertis-DC=myt; crookie=H+q+QeAJ+vTboOrv6vXvSnjly5j/a0TsuShfkPV9bL0hHQw0GWMdFTJBYUyIkX86W280FlyhX4uJGYhFkYgOXDvtY5M=; cmtchd=MTYwNjM5MDMwMDYzMw==; yandexuid=9774671561572616848; bltsr=1; navigation_promo_seen-recalls=true; autoru_gdpr=1',\n",
    "        'Host': 'auto.ru',\n",
    "        'origin': 'https://auto.ru',\n",
    "        'User-Agent': 'Mozilla/5.0 (Windows NT 10.0; Win64; x64; rv:72.0) Gecko/20100101 Firefox/72.0',\n",
    "        'x-csrf-token': 'df8af3435de0ea5dd1a651b8e7bde1b6fd5e57945e0b0c6c'\n",
    "    }\n",
    "\n",
    "response = requests.post(URL, json=param, headers=HEADERS) #Делаем post запрос на url\n",
    "data = response.json()\n",
    "for elem in data['offers']:\n",
    "    print(elem)\n",
    "    break"
   ]
  },
  {
   "cell_type": "code",
   "execution_count": 10,
   "metadata": {
    "execution": {
     "iopub.execute_input": "2020-12-01T12:44:44.835317Z",
     "iopub.status.busy": "2020-12-01T12:44:44.834397Z",
     "iopub.status.idle": "2020-12-01T12:44:44.837836Z",
     "shell.execute_reply": "2020-12-01T12:44:44.837083Z"
    },
    "papermill": {
     "duration": 0.153421,
     "end_time": "2020-12-01T12:44:44.837963",
     "exception": false,
     "start_time": "2020-12-01T12:44:44.684542",
     "status": "completed"
    },
    "tags": []
   },
   "outputs": [],
   "source": [
    "def utils_clean_values_dict(d_dict):\n",
    "    for elem in d_dict:\n",
    "        d_dict[elem] = 0\n",
    "    return"
   ]
  },
  {
   "cell_type": "code",
   "execution_count": 11,
   "metadata": {
    "execution": {
     "iopub.execute_input": "2020-12-01T12:44:45.157989Z",
     "iopub.status.busy": "2020-12-01T12:44:45.156998Z",
     "iopub.status.idle": "2020-12-01T12:44:45.160249Z",
     "shell.execute_reply": "2020-12-01T12:44:45.159636Z"
    },
    "papermill": {
     "duration": 0.177665,
     "end_time": "2020-12-01T12:44:45.160371",
     "exception": false,
     "start_time": "2020-12-01T12:44:44.982706",
     "status": "completed"
    },
    "tags": []
   },
   "outputs": [],
   "source": [
    "# создаем функцию для обработки 23 необходимых столбцов из объявления в словарь\n",
    "def from_elem_to_dict(d_elem, d_dict):\n",
    "    utils_clean_values_dict(d_dict)\n",
    "    \n",
    "    try: d_dict['bodyType'] = d_elem['vehicle_info']['configuration']['human_name']\n",
    "    except: d_dict['bodyType'] = None\n",
    "\n",
    "    try: d_dict['brand'] = d_elem['vehicle_info']['mark_info']['code']\n",
    "    except: d_dict['brand'] = None\n",
    "\n",
    "    try: d_dict['color'] = d_elem['color_hex']\n",
    "    except: d_dict['color'] = None\n",
    "\n",
    "    try: d_dict['fuelType'] = d_elem['lk_summary'].split()[-1]\n",
    "    except: d_dict['fuelType'] = None\n",
    "\n",
    "    try: d_dict['modelDate'] = d_elem['vehicle_info']['super_gen']['year_from']\n",
    "    except: d_dict['modelDate'] = None\n",
    "\n",
    "    try: d_dict['name'] =  d_elem['vehicle_info']['tech_param']['human_name']\n",
    "    except: d_dict['name'] = None\n",
    "\n",
    "    try: d_dict['numberOfDoors'] = d_elem['vehicle_info']['configuration']['doors_count']\n",
    "    except: d_dict['numberOfDoors'] = None\n",
    "\n",
    "    try: d_dict['productionDate'] = d_elem['documents']['year']\n",
    "    except: d_dict['productionDate'] = None\n",
    "\n",
    "    try: d_dict['vehicleTransmission'] = d_elem['vehicle_info']['tech_param']['transmission']\n",
    "    except: d_dict['vehicleTransmission'] = None\n",
    "\n",
    "    try: d_dict['engineDisplacement'] = d_elem['vehicle_info']['tech_param']['human_name'].split()[0]\n",
    "    except: d_dict['engineDisplacement'] = None\n",
    "\n",
    "    try: d_dict['vehicleConfiguration'] = elem['vehicle_info']['configuration']['body_type']+' '+d_dict['vehicleTransmission']+' '+d_dict['engineDisplacement']\n",
    "    except: d_dict['vehicleConfiguration'] = None\n",
    "\n",
    "    try: d_dict['enginePower'] = d_elem['vehicle_info']['tech_param']['power']\n",
    "    except: d_dict['enginePower'] = None\n",
    "\n",
    "    try: d_dict['description'] = d_elem['description']\n",
    "    except: d_dict['description'] = None\n",
    "\n",
    "    try: d_dict['mileage'] = d_elem['state']['mileage']\n",
    "    except: d_dict['mileage'] = None\n",
    "\n",
    "    try: d_dict['Комплектация'] = d_elem['vehicle_info']['complectation']\n",
    "    except: d_dict['Комплектация'] = None\n",
    "\n",
    "    try: d_dict['Привод'] = d_elem['lk_summary'].split(', ')[-2]\n",
    "    except: d_dict['Привод'] = None\n",
    "        \n",
    "    try: d_dict['Руль'] = d_elem['vehicle_info']['steering_wheel']\n",
    "    except: d_dict['Руль'] = None\n",
    "\n",
    "    # 'Состояние' не найдено во время парсинга страниц\n",
    "    d_dict['Состояние'] = None\n",
    "\n",
    "    try: d_dict['Владельцы'] = d_elem['documents']['owners_number']\n",
    "    except: d_dict['Владельцы'] = None\n",
    "\n",
    "    try: d_dict['ПТС'] = d_elem['documents']['pts']\n",
    "    except: d_dict['ПТС'] = None\n",
    "\n",
    "    try: d_dict['Таможня'] = d_elem['documents']['custom_cleared']\n",
    "    except: d_dict['Таможня'] = None\n",
    "\n",
    "    try: d_dict['Владение'] =  d_elem['documents']['purchase_date']\n",
    "    except: d_dict['Владение'] = None\n",
    "\n",
    "\n",
    "    try: d_dict['price'] = d_elem['price_info']['RUR']\n",
    "    except: d_dict['price'] = None\n",
    "        \n",
    "    # модель \n",
    "    d_dict['model'] =  model\n",
    "\n",
    "    return"
   ]
  },
  {
   "cell_type": "markdown",
   "metadata": {
    "papermill": {
     "duration": 0.145708,
     "end_time": "2020-12-01T12:44:45.451072",
     "exception": false,
     "start_time": "2020-12-01T12:44:45.305364",
     "status": "completed"
    },
    "tags": []
   },
   "source": [
    "Вручную получим данные о количестве автомобилей каждой марки в продаже на текущий день(26-11-2020)"
   ]
  },
  {
   "cell_type": "code",
   "execution_count": 12,
   "metadata": {
    "execution": {
     "iopub.execute_input": "2020-12-01T12:44:45.755736Z",
     "iopub.status.busy": "2020-12-01T12:44:45.750567Z",
     "iopub.status.idle": "2020-12-01T12:44:45.775785Z",
     "shell.execute_reply": "2020-12-01T12:44:45.775113Z"
    },
    "papermill": {
     "duration": 0.179062,
     "end_time": "2020-12-01T12:44:45.775908",
     "exception": false,
     "start_time": "2020-12-01T12:44:45.596846",
     "status": "completed"
    },
    "tags": []
   },
   "outputs": [],
   "source": [
    "dict_carmodel_carcount = {'AC': 5, 'AMC': 2, 'Acura': 177, 'Adler': 3, 'Alfa Romeo': 186, 'Alpina': 10, 'Apal': 1,\n",
    "                          'Ariel': 2, 'Aro': 6, 'Asia': 10, 'Aston Martin': 26, 'Audi': 11367, 'Austin': 2, 'Austin Healey': 1,\n",
    "                          'BMW': 15666, 'BYD': 295, 'Bentley': 181, 'Borgward': 1, 'Brilliance': 135, 'Bugatti': 1, 'Buick': 41,\n",
    "                          'CHERYEXEED': 45, 'Cadillac': 856, 'ChangFeng': 2, 'Changan': 530, 'Changhe': 2, 'Chery': 3820,\n",
    "                          'Chevrolet': 16639, 'Chrysler': 782, 'Citroen': 2922, 'DKW': 3, 'DS': 3, 'DW Hower': 22, 'Dacia': 46,\n",
    "                          'Dadi': 4, 'Daewoo': 5575, 'Daihatsu': 478, 'Daimler': 4, 'Datsun': 1828, 'Delage': 1, 'Derways': 26,\n",
    "                          'Dodge': 1009, 'DongFeng': 75, 'Doninvest': 19, 'Eagle': 5, 'Excalibur': 1, 'FAW': 344, 'FSO': 1,\n",
    "                          'Ferrari': 28, 'Fiat': 1145, 'Ford': 15053, 'Foton': 17, 'GAC': 32, 'GMC': 57, 'Geely': 2450,\n",
    "                          'Genesis': 86, 'Geo': 4, 'Great Wall': 1318, 'Hafei': 58, 'Haima': 100, 'Haval': 774, 'Hawtai': 15,\n",
    "                          'Heinkel': 1, 'Honda': 6461, 'HuangHai': 6, 'Hummer': 178, 'Hyundai': 22120, 'Infiniti': 2001,\n",
    "                          'Iran Khodro': 87, 'Isuzu': 182, 'JAC': 64, 'JMC': 1, 'Jaguar': 871, 'Jeep': 1025, 'Jinbei': 8,\n",
    "                          'Kia': 18919, 'LADA (ВАЗ)': 83264, 'Lamborghini': 14, 'Lancia': 38, 'Land Rover': 4039, 'Landwind': 3,\n",
    "                          'Lexus': 3328, 'Lifan': 2907, 'Lincoln': 205, 'Luxgen': 28, 'MG': 14, 'MINI': 668, 'Mahindra': 2,\n",
    "                          'Marussia': 1, 'Maruti': 1, 'Maserati': 82, 'Maybach': 11, 'Mazda': 9327, 'McLaren': 6, 'Mercedes-Benz': 22051,\n",
    "                          'Mercury': 45, 'Metrocab': 2, 'Mitsubishi': 12610, 'Mitsuoka': 2, 'Nissan': 20950, 'Oldsmobile': 10,\n",
    "                          'Opel': 11490, 'PUCH': 9, 'Packard': 2, 'Peugeot': 5640, 'Plymouth': 47, 'Pontiac': 128, 'Porsche': 1576,\n",
    "                          'Proton': 16, 'RAM': 10, 'Ravon': 325, 'Renault': 16113, 'Renault Samsung': 2, 'Rolls-Royce': 83,\n",
    "                          'Rover': 280, 'SEAT': 243, 'Saab': 344, 'Santana': 1, 'Saturn': 43, 'Scion': 22, 'Shanghai Maple': 9,\n",
    "                          'ShuangHuan': 4, 'Simca': 1, 'Skoda': 9079, 'Smart': 163, 'SsangYong': 2193, 'Subaru': 3050, 'Suzuki': 3431,\n",
    "                          'TATA': 3, 'Tatra': 3, 'Tesla': 86, 'Tianma': 3, 'Tianye': 12, 'Toyota': 24550, 'Trabant': 6,\n",
    "                          'Triumph': 4, 'Vauxhall': 2, 'Volkswagen': 20369, 'Volvo': 3857, 'Vortex': 504, 'Wanderer': 5,\n",
    "                          'Wartburg': 3, 'Willys': 14, 'Xin Kai': 3, 'Xpeng': 1, 'ZX': 27, 'Zotye': 99, 'Автокам': 1,\n",
    "                          'ГАЗ': 5004, 'Гоночный болид': 3, 'ЗАЗ': 1618, 'ЗИЛ': 8, 'ЗиС': 2, 'ИЖ': 730, 'ЛуАЗ': 315, 'Москвич': 775,\n",
    "                          'СМЗ': 20, 'ТагАЗ': 282, 'УАЗ': 6071}"
   ]
  },
  {
   "cell_type": "markdown",
   "metadata": {
    "papermill": {
     "duration": 0.144585,
     "end_time": "2020-12-01T12:44:46.071819",
     "exception": false,
     "start_time": "2020-12-01T12:44:45.927234",
     "status": "completed"
    },
    "tags": []
   },
   "source": [
    "Проанализировав количество автомобилей каждой марки в продаже принимаем решение избавиться от тех марок которые представлены в небольшом количестве(пороговое минимальное значение установим равное 300 автомобилей)"
   ]
  },
  {
   "cell_type": "code",
   "execution_count": 13,
   "metadata": {
    "execution": {
     "iopub.execute_input": "2020-12-01T12:44:46.374021Z",
     "iopub.status.busy": "2020-12-01T12:44:46.373170Z",
     "iopub.status.idle": "2020-12-01T12:44:46.376628Z",
     "shell.execute_reply": "2020-12-01T12:44:46.375820Z"
    },
    "papermill": {
     "duration": 0.158125,
     "end_time": "2020-12-01T12:44:46.376777",
     "exception": false,
     "start_time": "2020-12-01T12:44:46.218652",
     "status": "completed"
    },
    "tags": []
   },
   "outputs": [],
   "source": [
    "# уберем модели с кол-вом объявлений ниже 300 и повысим регистр индексов \n",
    "list_keys_to_delete = []\n",
    "for mark in dict_carmodel_carcount.keys():\n",
    "    if dict_carmodel_carcount[mark] < 300:\n",
    "        list_keys_to_delete.append(mark)\n",
    "    \n",
    "for key in list_keys_to_delete: del dict_carmodel_carcount[key]\n",
    "\n",
    "for mark in list(dict_carmodel_carcount.keys()):\n",
    "    mark_up = mark.upper()\n",
    "    dict_carmodel_carcount[mark_up]=dict_carmodel_carcount.pop(mark)"
   ]
  },
  {
   "cell_type": "code",
   "execution_count": 14,
   "metadata": {
    "execution": {
     "iopub.execute_input": "2020-12-01T12:44:46.675803Z",
     "iopub.status.busy": "2020-12-01T12:44:46.674865Z",
     "iopub.status.idle": "2020-12-01T12:44:46.679365Z",
     "shell.execute_reply": "2020-12-01T12:44:46.678780Z"
    },
    "papermill": {
     "duration": 0.156191,
     "end_time": "2020-12-01T12:44:46.679517",
     "exception": false,
     "start_time": "2020-12-01T12:44:46.523326",
     "status": "completed"
    },
    "tags": []
   },
   "outputs": [
    {
     "name": "stdout",
     "output_type": "stream",
     "text": [
      "AUDI,BMW,CADILLAC,CHANGAN,CHERY,CHEVROLET,CHRYSLER,CITROEN,DAEWOO,DAIHATSU,DATSUN,DODGE,FAW,FIAT,FORD,GEELY,GREAT WALL,HAVAL,HONDA,HYUNDAI,INFINITI,JAGUAR,JEEP,KIA,LADA (ВАЗ),LAND ROVER,LEXUS,LIFAN,MINI,MAZDA,MERCEDES-BENZ,MITSUBISHI,NISSAN,OPEL,PEUGEOT,PORSCHE,RAVON,RENAULT,SAAB,SKODA,SSANGYONG,SUBARU,SUZUKI,TOYOTA,VOLKSWAGEN,VOLVO,VORTEX,ГАЗ,ЗАЗ,ИЖ,ЛУАЗ,МОСКВИЧ,УАЗ\n"
     ]
    }
   ],
   "source": [
    "# посмотрим на список получившихся моделей\n",
    "print(*dict_carmodel_carcount, sep=',')"
   ]
  },
  {
   "cell_type": "code",
   "execution_count": 15,
   "metadata": {
    "execution": {
     "iopub.execute_input": "2020-12-01T12:44:46.977245Z",
     "iopub.status.busy": "2020-12-01T12:44:46.976248Z",
     "iopub.status.idle": "2020-12-01T12:44:46.979347Z",
     "shell.execute_reply": "2020-12-01T12:44:46.978609Z"
    },
    "papermill": {
     "duration": 0.154492,
     "end_time": "2020-12-01T12:44:46.979505",
     "exception": false,
     "start_time": "2020-12-01T12:44:46.825013",
     "status": "completed"
    },
    "tags": []
   },
   "outputs": [],
   "source": [
    "# Удалим отечественные модели\n",
    "for key in ['LADA (ВАЗ)','ГАЗ','УАЗ', 'ЗАЗ', 'ЛУАЗ', 'ИЖ', 'МОСКВИЧ']: del dict_carmodel_carcount[key]"
   ]
  },
  {
   "cell_type": "code",
   "execution_count": 16,
   "metadata": {
    "execution": {
     "iopub.execute_input": "2020-12-01T12:44:47.278215Z",
     "iopub.status.busy": "2020-12-01T12:44:47.277400Z",
     "iopub.status.idle": "2020-12-01T12:44:47.280521Z",
     "shell.execute_reply": "2020-12-01T12:44:47.279787Z"
    },
    "papermill": {
     "duration": 0.154873,
     "end_time": "2020-12-01T12:44:47.280661",
     "exception": false,
     "start_time": "2020-12-01T12:44:47.125788",
     "status": "completed"
    },
    "tags": []
   },
   "outputs": [],
   "source": [
    "# сохраним список релевантных марок для парсинга\n",
    "list_of_relevant_marks = list(dict_carmodel_carcount.keys())"
   ]
  },
  {
   "cell_type": "code",
   "execution_count": 17,
   "metadata": {
    "execution": {
     "iopub.execute_input": "2020-12-01T12:44:47.580797Z",
     "iopub.status.busy": "2020-12-01T12:44:47.579850Z",
     "iopub.status.idle": "2020-12-01T12:44:47.585157Z",
     "shell.execute_reply": "2020-12-01T12:44:47.584406Z"
    },
    "papermill": {
     "duration": 0.157497,
     "end_time": "2020-12-01T12:44:47.585279",
     "exception": false,
     "start_time": "2020-12-01T12:44:47.427782",
     "status": "completed"
    },
    "tags": []
   },
   "outputs": [
    {
     "data": {
      "text/plain": [
       "46"
      ]
     },
     "execution_count": 17,
     "metadata": {},
     "output_type": "execute_result"
    }
   ],
   "source": [
    "len(list_of_relevant_marks)"
   ]
  },
  {
   "cell_type": "code",
   "execution_count": 18,
   "metadata": {
    "execution": {
     "iopub.execute_input": "2020-12-01T12:44:47.886685Z",
     "iopub.status.busy": "2020-12-01T12:44:47.885681Z",
     "iopub.status.idle": "2020-12-01T12:44:47.890181Z",
     "shell.execute_reply": "2020-12-01T12:44:47.889236Z"
    },
    "papermill": {
     "duration": 0.157217,
     "end_time": "2020-12-01T12:44:47.890341",
     "exception": false,
     "start_time": "2020-12-01T12:44:47.733124",
     "status": "completed"
    },
    "tags": []
   },
   "outputs": [
    {
     "name": "stdout",
     "output_type": "stream",
     "text": [
      "312354\n"
     ]
    }
   ],
   "source": [
    "# посчитаем примерное количество строк в датафрейме после парсинга\n",
    "sum_of_ads = sum(dict_carmodel_carcount.values())\n",
    "print(sum_of_ads)"
   ]
  },
  {
   "cell_type": "code",
   "execution_count": 19,
   "metadata": {
    "execution": {
     "iopub.execute_input": "2020-12-01T12:44:48.192629Z",
     "iopub.status.busy": "2020-12-01T12:44:48.191381Z",
     "iopub.status.idle": "2020-12-01T12:44:48.194796Z",
     "shell.execute_reply": "2020-12-01T12:44:48.194205Z"
    },
    "papermill": {
     "duration": 0.156559,
     "end_time": "2020-12-01T12:44:48.194928",
     "exception": false,
     "start_time": "2020-12-01T12:44:48.038369",
     "status": "completed"
    },
    "tags": []
   },
   "outputs": [],
   "source": [
    "# создадим датафрейм с марками и моделями автомобилей\n",
    "df_marks_and_models = pd.DataFrame()"
   ]
  },
  {
   "cell_type": "code",
   "execution_count": 20,
   "metadata": {
    "execution": {
     "iopub.execute_input": "2020-12-01T12:44:48.498566Z",
     "iopub.status.busy": "2020-12-01T12:44:48.497713Z",
     "iopub.status.idle": "2020-12-01T12:44:48.501964Z",
     "shell.execute_reply": "2020-12-01T12:44:48.501029Z"
    },
    "papermill": {
     "duration": 0.157379,
     "end_time": "2020-12-01T12:44:48.502107",
     "exception": false,
     "start_time": "2020-12-01T12:44:48.344728",
     "status": "completed"
    },
    "tags": []
   },
   "outputs": [],
   "source": [
    "dict_for_parcing_test = columns_name_dict.copy()"
   ]
  },
  {
   "cell_type": "code",
   "execution_count": 21,
   "metadata": {
    "execution": {
     "iopub.execute_input": "2020-12-01T12:44:48.802175Z",
     "iopub.status.busy": "2020-12-01T12:44:48.801377Z",
     "iopub.status.idle": "2020-12-01T12:44:48.804584Z",
     "shell.execute_reply": "2020-12-01T12:44:48.803791Z"
    },
    "papermill": {
     "duration": 0.154941,
     "end_time": "2020-12-01T12:44:48.804713",
     "exception": false,
     "start_time": "2020-12-01T12:44:48.649772",
     "status": "completed"
    },
    "tags": []
   },
   "outputs": [],
   "source": [
    "# тест функции \n",
    "from_elem_to_dict(elem, dict_for_parcing_test)"
   ]
  },
  {
   "cell_type": "code",
   "execution_count": 22,
   "metadata": {
    "execution": {
     "iopub.execute_input": "2020-12-01T12:44:49.132637Z",
     "iopub.status.busy": "2020-12-01T12:44:49.131538Z",
     "iopub.status.idle": "2020-12-01T12:44:49.164379Z",
     "shell.execute_reply": "2020-12-01T12:44:49.163758Z"
    },
    "papermill": {
     "duration": 0.211798,
     "end_time": "2020-12-01T12:44:49.164529",
     "exception": false,
     "start_time": "2020-12-01T12:44:48.952731",
     "status": "completed"
    },
    "tags": []
   },
   "outputs": [
    {
     "data": {
      "text/html": [
       "<div>\n",
       "<style scoped>\n",
       "    .dataframe tbody tr th:only-of-type {\n",
       "        vertical-align: middle;\n",
       "    }\n",
       "\n",
       "    .dataframe tbody tr th {\n",
       "        vertical-align: top;\n",
       "    }\n",
       "\n",
       "    .dataframe thead th {\n",
       "        text-align: right;\n",
       "    }\n",
       "</style>\n",
       "<table border=\"1\" class=\"dataframe\">\n",
       "  <thead>\n",
       "    <tr style=\"text-align: right;\">\n",
       "      <th></th>\n",
       "      <th>bodyType</th>\n",
       "      <th>brand</th>\n",
       "      <th>color</th>\n",
       "      <th>fuelType</th>\n",
       "      <th>modelDate</th>\n",
       "      <th>name</th>\n",
       "      <th>numberOfDoors</th>\n",
       "      <th>productionDate</th>\n",
       "      <th>vehicleConfiguration</th>\n",
       "      <th>vehicleTransmission</th>\n",
       "      <th>engineDisplacement</th>\n",
       "      <th>enginePower</th>\n",
       "      <th>description</th>\n",
       "      <th>mileage</th>\n",
       "      <th>Комплектация</th>\n",
       "      <th>Привод</th>\n",
       "      <th>Руль</th>\n",
       "      <th>Состояние</th>\n",
       "      <th>Владельцы</th>\n",
       "      <th>ПТС</th>\n",
       "      <th>Таможня</th>\n",
       "      <th>Владение</th>\n",
       "      <th>id</th>\n",
       "      <th>price</th>\n",
       "      <th>model</th>\n",
       "    </tr>\n",
       "  </thead>\n",
       "  <tbody>\n",
       "    <tr>\n",
       "      <th>id</th>\n",
       "      <td>Седан</td>\n",
       "      <td>HONDA</td>\n",
       "      <td>CACECB</td>\n",
       "      <td>бензин</td>\n",
       "      <td>2007</td>\n",
       "      <td>2.0 AT (156 л.с.)</td>\n",
       "      <td>4</td>\n",
       "      <td>2008</td>\n",
       "      <td>SEDAN AUTOMATIC 2.0</td>\n",
       "      <td>AUTOMATIC</td>\n",
       "      <td>2.0</td>\n",
       "      <td>156</td>\n",
       "      <td>Машина в идеальном состоянии!!!\\nПокупалась в ...</td>\n",
       "      <td>146000</td>\n",
       "      <td>0</td>\n",
       "      <td>передний</td>\n",
       "      <td>LEFT</td>\n",
       "      <td>None</td>\n",
       "      <td>2</td>\n",
       "      <td>ORIGINAL</td>\n",
       "      <td>True</td>\n",
       "      <td>None</td>\n",
       "      <td>0</td>\n",
       "      <td>790000</td>\n",
       "      <td>ACCORD</td>\n",
       "    </tr>\n",
       "  </tbody>\n",
       "</table>\n",
       "</div>"
      ],
      "text/plain": [
       "   bodyType  brand   color fuelType  modelDate               name  \\\n",
       "id    Седан  HONDA  CACECB   бензин       2007  2.0 AT (156 л.с.)   \n",
       "\n",
       "    numberOfDoors  productionDate vehicleConfiguration vehicleTransmission  \\\n",
       "id              4            2008  SEDAN AUTOMATIC 2.0           AUTOMATIC   \n",
       "\n",
       "   engineDisplacement  enginePower  \\\n",
       "id                2.0          156   \n",
       "\n",
       "                                          description  mileage Комплектация  \\\n",
       "id  Машина в идеальном состоянии!!!\\nПокупалась в ...   146000            0   \n",
       "\n",
       "      Привод  Руль Состояние  Владельцы       ПТС  Таможня Владение  id  \\\n",
       "id  передний  LEFT      None          2  ORIGINAL     True     None   0   \n",
       "\n",
       "     price   model  \n",
       "id  790000  ACCORD  "
      ]
     },
     "metadata": {},
     "output_type": "display_data"
    },
    {
     "data": {
      "text/html": [
       "<div>\n",
       "<style scoped>\n",
       "    .dataframe tbody tr th:only-of-type {\n",
       "        vertical-align: middle;\n",
       "    }\n",
       "\n",
       "    .dataframe tbody tr th {\n",
       "        vertical-align: top;\n",
       "    }\n",
       "\n",
       "    .dataframe thead th {\n",
       "        text-align: right;\n",
       "    }\n",
       "</style>\n",
       "<table border=\"1\" class=\"dataframe\">\n",
       "  <thead>\n",
       "    <tr style=\"text-align: right;\">\n",
       "      <th></th>\n",
       "      <th>bodyType</th>\n",
       "      <th>brand</th>\n",
       "      <th>color</th>\n",
       "      <th>fuelType</th>\n",
       "      <th>modelDate</th>\n",
       "      <th>name</th>\n",
       "      <th>numberOfDoors</th>\n",
       "      <th>productionDate</th>\n",
       "      <th>vehicleConfiguration</th>\n",
       "      <th>vehicleTransmission</th>\n",
       "      <th>engineDisplacement</th>\n",
       "      <th>enginePower</th>\n",
       "      <th>description</th>\n",
       "      <th>mileage</th>\n",
       "      <th>Комплектация</th>\n",
       "      <th>Привод</th>\n",
       "      <th>Руль</th>\n",
       "      <th>Состояние</th>\n",
       "      <th>Владельцы</th>\n",
       "      <th>ПТС</th>\n",
       "      <th>Таможня</th>\n",
       "      <th>Владение</th>\n",
       "      <th>id</th>\n",
       "    </tr>\n",
       "  </thead>\n",
       "  <tbody>\n",
       "    <tr>\n",
       "      <th>168</th>\n",
       "      <td>купе</td>\n",
       "      <td>BMW</td>\n",
       "      <td>синий</td>\n",
       "      <td>бензин</td>\n",
       "      <td>2012.0</td>\n",
       "      <td>4.4 AMT (560 л.с.)</td>\n",
       "      <td>2.0</td>\n",
       "      <td>2012.0</td>\n",
       "      <td>COUPE ROBOT 4.4</td>\n",
       "      <td>роботизированная</td>\n",
       "      <td>4.4 LTR</td>\n",
       "      <td>560 N12</td>\n",
       "      <td>РОЛЬФ Премиум – крупнейший официальный дилер М...</td>\n",
       "      <td>61375.0</td>\n",
       "      <td>['[{\"name\":\"Комфорт\",\"values\":[\"Круиз-контроль...</td>\n",
       "      <td>задний</td>\n",
       "      <td>Левый</td>\n",
       "      <td>Не требует ремонта</td>\n",
       "      <td>3 или более</td>\n",
       "      <td>Оригинал</td>\n",
       "      <td>Растаможен</td>\n",
       "      <td>NaN</td>\n",
       "      <td>168</td>\n",
       "    </tr>\n",
       "    <tr>\n",
       "      <th>276</th>\n",
       "      <td>седан</td>\n",
       "      <td>BMW</td>\n",
       "      <td>синий</td>\n",
       "      <td>бензин</td>\n",
       "      <td>2011.0</td>\n",
       "      <td>4.4 AMT (560 л.с.)</td>\n",
       "      <td>4.0</td>\n",
       "      <td>2016.0</td>\n",
       "      <td>SEDAN ROBOT 4.4</td>\n",
       "      <td>роботизированная</td>\n",
       "      <td>4.4 LTR</td>\n",
       "      <td>560 N12</td>\n",
       "      <td>По ПТС два владельца, по факту один</td>\n",
       "      <td>80250.0</td>\n",
       "      <td>['[{\"name\":\"Комфорт\",\"values\":[\"Круиз-контроль...</td>\n",
       "      <td>задний</td>\n",
       "      <td>Левый</td>\n",
       "      <td>Не требует ремонта</td>\n",
       "      <td>2 владельца</td>\n",
       "      <td>Оригинал</td>\n",
       "      <td>Растаможен</td>\n",
       "      <td>2 года и 1 месяц</td>\n",
       "      <td>276</td>\n",
       "    </tr>\n",
       "  </tbody>\n",
       "</table>\n",
       "</div>"
      ],
      "text/plain": [
       "    bodyType brand  color fuelType  modelDate                name  \\\n",
       "168     купе   BMW  синий   бензин     2012.0  4.4 AMT (560 л.с.)   \n",
       "276    седан   BMW  синий   бензин     2011.0  4.4 AMT (560 л.с.)   \n",
       "\n",
       "     numberOfDoors  productionDate vehicleConfiguration vehicleTransmission  \\\n",
       "168            2.0          2012.0      COUPE ROBOT 4.4    роботизированная   \n",
       "276            4.0          2016.0      SEDAN ROBOT 4.4    роботизированная   \n",
       "\n",
       "    engineDisplacement enginePower  \\\n",
       "168            4.4 LTR     560 N12   \n",
       "276            4.4 LTR     560 N12   \n",
       "\n",
       "                                           description  mileage  \\\n",
       "168  РОЛЬФ Премиум – крупнейший официальный дилер М...  61375.0   \n",
       "276                По ПТС два владельца, по факту один  80250.0   \n",
       "\n",
       "                                          Комплектация  Привод   Руль  \\\n",
       "168  ['[{\"name\":\"Комфорт\",\"values\":[\"Круиз-контроль...  задний  Левый   \n",
       "276  ['[{\"name\":\"Комфорт\",\"values\":[\"Круиз-контроль...  задний  Левый   \n",
       "\n",
       "              Состояние    Владельцы       ПТС     Таможня          Владение  \\\n",
       "168  Не требует ремонта  3 или более  Оригинал  Растаможен               NaN   \n",
       "276  Не требует ремонта  2 владельца  Оригинал  Растаможен  2 года и 1 месяц   \n",
       "\n",
       "      id  \n",
       "168  168  \n",
       "276  276  "
      ]
     },
     "execution_count": 22,
     "metadata": {},
     "output_type": "execute_result"
    }
   ],
   "source": [
    "# проверяем формат тестового запроса с сайта и теста с кагл\n",
    "display(pd.DataFrame(dict_for_parcing_test).head(2))\n",
    "data_test[data_test['enginePower']=='560 N12'].head(2)"
   ]
  },
  {
   "cell_type": "code",
   "execution_count": 23,
   "metadata": {
    "execution": {
     "iopub.execute_input": "2020-12-01T12:44:49.475848Z",
     "iopub.status.busy": "2020-12-01T12:44:49.474726Z",
     "iopub.status.idle": "2020-12-01T12:44:49.478996Z",
     "shell.execute_reply": "2020-12-01T12:44:49.478406Z"
    },
    "papermill": {
     "duration": 0.164567,
     "end_time": "2020-12-01T12:44:49.479126",
     "exception": false,
     "start_time": "2020-12-01T12:44:49.314559",
     "status": "completed"
    },
    "tags": []
   },
   "outputs": [
    {
     "data": {
      "text/plain": [
       "Index(['bodyType', 'brand', 'color', 'fuelType', 'modelDate', 'name',\n",
       "       'numberOfDoors', 'productionDate', 'vehicleConfiguration',\n",
       "       'vehicleTransmission', 'engineDisplacement', 'enginePower',\n",
       "       'description', 'mileage', 'Комплектация', 'Привод', 'Руль', 'Состояние',\n",
       "       'Владельцы', 'ПТС', 'Таможня', 'Владение', 'id', 'price', 'model'],\n",
       "      dtype='object')"
      ]
     },
     "execution_count": 23,
     "metadata": {},
     "output_type": "execute_result"
    }
   ],
   "source": [
    "pd.DataFrame(dict_for_parcing_test).columns"
   ]
  },
  {
   "cell_type": "code",
   "execution_count": 24,
   "metadata": {
    "execution": {
     "iopub.execute_input": "2020-12-01T12:44:49.791886Z",
     "iopub.status.busy": "2020-12-01T12:44:49.790803Z",
     "iopub.status.idle": "2020-12-01T12:44:49.795271Z",
     "shell.execute_reply": "2020-12-01T12:44:49.794623Z"
    },
    "papermill": {
     "duration": 0.161583,
     "end_time": "2020-12-01T12:44:49.795408",
     "exception": false,
     "start_time": "2020-12-01T12:44:49.633825",
     "status": "completed"
    },
    "tags": []
   },
   "outputs": [
    {
     "data": {
      "text/plain": [
       "Index(['bodyType', 'brand', 'color', 'fuelType', 'modelDate', 'name',\n",
       "       'numberOfDoors', 'productionDate', 'vehicleConfiguration',\n",
       "       'vehicleTransmission', 'engineDisplacement', 'enginePower',\n",
       "       'description', 'mileage', 'Комплектация', 'Привод', 'Руль', 'Состояние',\n",
       "       'Владельцы', 'ПТС', 'Таможня', 'Владение', 'id'],\n",
       "      dtype='object')"
      ]
     },
     "execution_count": 24,
     "metadata": {},
     "output_type": "execute_result"
    }
   ],
   "source": [
    "data_test.columns"
   ]
  },
  {
   "cell_type": "markdown",
   "metadata": {
    "papermill": {
     "duration": 0.150222,
     "end_time": "2020-12-01T12:44:50.096188",
     "exception": false,
     "start_time": "2020-12-01T12:44:49.945966",
     "status": "completed"
    },
    "tags": []
   },
   "source": [
    "4. Парсинг данных"
   ]
  },
  {
   "cell_type": "markdown",
   "metadata": {
    "papermill": {
     "duration": 0.152603,
     "end_time": "2020-12-01T12:44:50.399430",
     "exception": false,
     "start_time": "2020-12-01T12:44:50.246827",
     "status": "completed"
    },
    "tags": []
   },
   "source": [
    "Заранее был подготовлет датасет с названиями марок и моделями всех автомобилей которые остались после удаления тех марок которые представлены менее чем 300 экземпляров в продаже"
   ]
  },
  {
   "cell_type": "code",
   "execution_count": 25,
   "metadata": {
    "execution": {
     "iopub.execute_input": "2020-12-01T12:44:50.711105Z",
     "iopub.status.busy": "2020-12-01T12:44:50.710194Z",
     "iopub.status.idle": "2020-12-01T12:44:50.718441Z",
     "shell.execute_reply": "2020-12-01T12:44:50.717688Z"
    },
    "papermill": {
     "duration": 0.168243,
     "end_time": "2020-12-01T12:44:50.718612",
     "exception": false,
     "start_time": "2020-12-01T12:44:50.550369",
     "status": "completed"
    },
    "tags": []
   },
   "outputs": [],
   "source": [
    "df_marks_and_models = pd.read_csv('../input/cars-with-models-from-auto-ru/cars_with_models_from_auto_ru.csv', index_col=0)"
   ]
  },
  {
   "cell_type": "code",
   "execution_count": 26,
   "metadata": {
    "execution": {
     "iopub.execute_input": "2020-12-01T12:44:51.039752Z",
     "iopub.status.busy": "2020-12-01T12:44:51.035028Z",
     "iopub.status.idle": "2020-12-01T15:00:34.105894Z",
     "shell.execute_reply": "2020-12-01T15:00:34.104925Z"
    },
    "papermill": {
     "duration": 8143.236645,
     "end_time": "2020-12-01T15:00:34.106056",
     "exception": false,
     "start_time": "2020-12-01T12:44:50.869411",
     "status": "completed"
    },
    "tags": []
   },
   "outputs": [
    {
     "name": "stderr",
     "output_type": "stream",
     "text": [
      "/opt/conda/lib/python3.7/site-packages/ipykernel_launcher.py:5: DeprecationWarning: time.clock has been deprecated in Python 3.3 and will be removed from Python 3.8: use time.perf_counter or time.process_time instead\n",
      "  \"\"\"\n",
      "/opt/conda/lib/python3.7/site-packages/ipykernel_launcher.py:8: DeprecationWarning: time.clock has been deprecated in Python 3.3 and will be removed from Python 3.8: use time.perf_counter or time.process_time instead\n",
      "  \n"
     ]
    },
    {
     "name": "stdout",
     "output_type": "stream",
     "text": [
      "1.AUDI всего стр. 3524\n",
      "2.BMW всего стр. 9347\n",
      "3.CADILLAC всего стр. 9645\n",
      "4.CHANGAN всего стр. 9798\n",
      "5.CHERY всего стр. 10196\n",
      "6.CHEVROLET всего стр. 12839\n",
      "7.CHRYSLER всего стр. 13089\n",
      "8.CITROEN всего стр. 14007\n",
      "9.DAEWOO всего стр. 14686\n",
      "10.DAIHATSU всего стр. 14723\n",
      "11.DATSUN всего стр. 14906\n",
      "12.DODGE всего стр. 15204\n",
      "13.FAW всего стр. 15255\n",
      "14.FIAT всего стр. 15426\n",
      "15.FORD всего стр. 18783\n",
      "16.GEELY всего стр. 19003\n",
      "17.GREAT_WALL всего стр. 19321\n",
      "18.HAVAL всего стр. 19583\n",
      "19.HONDA всего стр. 20427\n",
      "20.HYUNDAI всего стр. 24790\n",
      "21.INFINITI всего стр. 25491\n",
      "22.JAGUAR всего стр. 25778\n",
      "23.JEEP всего стр. 26175\n",
      "24.KIA всего стр. 30720\n",
      "25.LAND_ROVER всего стр. 31234\n",
      "26.LEXUS всего стр. 32154\n",
      "27.LIFAN всего стр. 32373\n",
      "28.MINI всего стр. 32764\n",
      "29.MAZDA всего стр. 34556\n",
      "30.MERCEDES всего стр. 45280\n",
      "31.MITSUBISHI всего стр. 48184\n",
      "32.NISSAN всего стр. 52660\n",
      "33.OPEL всего стр. 54954\n",
      "34.PEUGEOT всего стр. 56194\n",
      "35.PORSCHE всего стр. 56817\n",
      "36.RAVON всего стр. 56912\n",
      "37.RENAULT всего стр. 59689\n",
      "38.SAAB всего стр. 59799\n",
      "39.SKODA всего стр. 62282\n",
      "40.SSANGYONG всего стр. 62282\n",
      "41.SUBARU всего стр. 62915\n",
      "42.SUZUKI всего стр. 63820\n",
      "43.TOYOTA всего стр. 66888\n",
      "44.VOLKSWAGEN всего стр. 72295\n",
      "45.VOLVO всего стр. 74028\n",
      "46.VORTEX всего стр. 74094\n",
      "Всего спарсили := 74094 строк.\n"
     ]
    }
   ],
   "source": [
    "auto_ru = {}\n",
    "\n",
    "iter_of_ads, iter_of_marks, old_iter_of_ads = 0,0,0\n",
    "space = ' '\n",
    "start_time_global = time.clock()\n",
    "\n",
    "for mark in list_of_relevant_marks:\n",
    "    start_time = time.clock()\n",
    "    if mark == 'GREAT WALL':\n",
    "        mark = 'GREAT_WALL'\n",
    "    elif mark == 'LAND ROVER':\n",
    "        mark = 'LAND_ROVER'\n",
    "    elif mark == 'MERCEDES-BENZ':\n",
    "        mark = 'MERCEDES'\n",
    "    list_of_models = json.loads(df_marks_and_models.loc[mark, 'Models'].replace(\"'\", '\"'))\n",
    "    for model in list_of_models:\n",
    "        for num_page in range(1, 200):\n",
    "            param = {\n",
    "                'catalog_filter' : [{\"mark\": mark, \"model\": model}],\n",
    "                'section': \"all\",\n",
    "                'category': \"cars\",\n",
    "                'sort': \"fresh_relevance_1-desc\",\n",
    "                \"top_days\":\"900\",\n",
    "                \"geo_radius\":200,\n",
    "                \"geo_id\":[213],\n",
    "                'page': num_page\n",
    "            }\n",
    "            response = requests.post(URL, json=param, headers = HEADERS)\n",
    "            data = response.json()\n",
    "\n",
    "            if data['offers'] != []:\n",
    "                for elem in data['offers']:\n",
    "                    from_elem_to_dict(elem, columns_name_dict)\n",
    "                    auto_ru[iter_of_ads] = columns_name_dict.copy()\n",
    "                    iter_of_ads += 1\n",
    "            else:\n",
    "                break\n",
    "    iter_of_marks +=1\n",
    "\n",
    "\n",
    "    print (f'{iter_of_marks}.{mark} всего стр. {iter_of_ads}')\n",
    "\n",
    "    old_iter_of_ads=iter_of_ads\n",
    "\n",
    "print (f'Всего спарсили := {iter_of_ads} строк.')"
   ]
  },
  {
   "cell_type": "code",
   "execution_count": 27,
   "metadata": {
    "execution": {
     "iopub.execute_input": "2020-12-01T15:00:34.461587Z",
     "iopub.status.busy": "2020-12-01T15:00:34.460711Z",
     "iopub.status.idle": "2020-12-01T15:00:44.943683Z",
     "shell.execute_reply": "2020-12-01T15:00:44.942359Z"
    },
    "papermill": {
     "duration": 10.664902,
     "end_time": "2020-12-01T15:00:44.943872",
     "exception": false,
     "start_time": "2020-12-01T15:00:34.278970",
     "status": "completed"
    },
    "tags": []
   },
   "outputs": [],
   "source": [
    "# запись датасета\n",
    "df_auto_ru = pd.DataFrame(auto_ru).T"
   ]
  },
  {
   "cell_type": "code",
   "execution_count": 28,
   "metadata": {
    "execution": {
     "iopub.execute_input": "2020-12-01T15:00:45.336672Z",
     "iopub.status.busy": "2020-12-01T15:00:45.335840Z",
     "iopub.status.idle": "2020-12-01T15:00:45.343396Z",
     "shell.execute_reply": "2020-12-01T15:00:45.342614Z"
    },
    "papermill": {
     "duration": 0.222369,
     "end_time": "2020-12-01T15:00:45.343547",
     "exception": false,
     "start_time": "2020-12-01T15:00:45.121178",
     "status": "completed"
    },
    "tags": []
   },
   "outputs": [
    {
     "data": {
      "text/html": [
       "<div>\n",
       "<style scoped>\n",
       "    .dataframe tbody tr th:only-of-type {\n",
       "        vertical-align: middle;\n",
       "    }\n",
       "\n",
       "    .dataframe tbody tr th {\n",
       "        vertical-align: top;\n",
       "    }\n",
       "\n",
       "    .dataframe thead th {\n",
       "        text-align: right;\n",
       "    }\n",
       "</style>\n",
       "<table border=\"1\" class=\"dataframe\">\n",
       "  <thead>\n",
       "    <tr style=\"text-align: right;\">\n",
       "      <th></th>\n",
       "      <th>bodyType</th>\n",
       "      <th>brand</th>\n",
       "      <th>color</th>\n",
       "      <th>fuelType</th>\n",
       "      <th>modelDate</th>\n",
       "      <th>name</th>\n",
       "      <th>numberOfDoors</th>\n",
       "      <th>productionDate</th>\n",
       "      <th>vehicleConfiguration</th>\n",
       "      <th>vehicleTransmission</th>\n",
       "      <th>engineDisplacement</th>\n",
       "      <th>enginePower</th>\n",
       "      <th>description</th>\n",
       "      <th>mileage</th>\n",
       "      <th>Комплектация</th>\n",
       "      <th>Привод</th>\n",
       "      <th>Руль</th>\n",
       "      <th>Состояние</th>\n",
       "      <th>Владельцы</th>\n",
       "      <th>ПТС</th>\n",
       "      <th>Таможня</th>\n",
       "      <th>Владение</th>\n",
       "      <th>id</th>\n",
       "      <th>price</th>\n",
       "      <th>model</th>\n",
       "    </tr>\n",
       "  </thead>\n",
       "  <tbody>\n",
       "    <tr>\n",
       "      <th>0</th>\n",
       "      <td>Седан</td>\n",
       "      <td>AUDI</td>\n",
       "      <td>040001</td>\n",
       "      <td>бензин</td>\n",
       "      <td>1990</td>\n",
       "      <td>2.3 MT (133 л.с.)</td>\n",
       "      <td>4</td>\n",
       "      <td>1991</td>\n",
       "      <td>SEDAN MECHANICAL 2.3</td>\n",
       "      <td>MECHANICAL</td>\n",
       "      <td>2.3</td>\n",
       "      <td>133</td>\n",
       "      <td>Перед тем как звонить,дочитайте до конца.\\nМаш...</td>\n",
       "      <td>10000</td>\n",
       "      <td>{'id': '0'}</td>\n",
       "      <td>передний</td>\n",
       "      <td>LEFT</td>\n",
       "      <td>None</td>\n",
       "      <td>3</td>\n",
       "      <td>ORIGINAL</td>\n",
       "      <td>True</td>\n",
       "      <td>{'year': 2020, 'month': 8}</td>\n",
       "      <td>0</td>\n",
       "      <td>200000</td>\n",
       "      <td>100</td>\n",
       "    </tr>\n",
       "    <tr>\n",
       "      <th>1</th>\n",
       "      <td>Седан</td>\n",
       "      <td>AUDI</td>\n",
       "      <td>040001</td>\n",
       "      <td>бензин</td>\n",
       "      <td>1990</td>\n",
       "      <td>2.0 MT (101 л.с.)</td>\n",
       "      <td>4</td>\n",
       "      <td>1994</td>\n",
       "      <td>SEDAN MECHANICAL 2.0</td>\n",
       "      <td>MECHANICAL</td>\n",
       "      <td>2.0</td>\n",
       "      <td>101</td>\n",
       "      <td>Тверская область Удомля</td>\n",
       "      <td>300000</td>\n",
       "      <td>{'id': '0'}</td>\n",
       "      <td>передний</td>\n",
       "      <td>LEFT</td>\n",
       "      <td>None</td>\n",
       "      <td>3</td>\n",
       "      <td>ORIGINAL</td>\n",
       "      <td>True</td>\n",
       "      <td>None</td>\n",
       "      <td>0</td>\n",
       "      <td>125000</td>\n",
       "      <td>100</td>\n",
       "    </tr>\n",
       "    <tr>\n",
       "      <th>2</th>\n",
       "      <td>Седан</td>\n",
       "      <td>AUDI</td>\n",
       "      <td>0000CC</td>\n",
       "      <td>бензин</td>\n",
       "      <td>1988</td>\n",
       "      <td>2.0 MT (115 л.с.)</td>\n",
       "      <td>4</td>\n",
       "      <td>1989</td>\n",
       "      <td>SEDAN MECHANICAL 2.0</td>\n",
       "      <td>MECHANICAL</td>\n",
       "      <td>2.0</td>\n",
       "      <td>115</td>\n",
       "      <td>Рассмотрю обмен.Машина в достойном состоянии,н...</td>\n",
       "      <td>150000</td>\n",
       "      <td>{'id': '0'}</td>\n",
       "      <td>передний</td>\n",
       "      <td>LEFT</td>\n",
       "      <td>None</td>\n",
       "      <td>3</td>\n",
       "      <td>DUPLICATE</td>\n",
       "      <td>True</td>\n",
       "      <td>None</td>\n",
       "      <td>0</td>\n",
       "      <td>90000</td>\n",
       "      <td>100</td>\n",
       "    </tr>\n",
       "    <tr>\n",
       "      <th>3</th>\n",
       "      <td>Седан</td>\n",
       "      <td>AUDI</td>\n",
       "      <td>97948F</td>\n",
       "      <td>бензин</td>\n",
       "      <td>1990</td>\n",
       "      <td>2.3 AT (133 л.с.)</td>\n",
       "      <td>4</td>\n",
       "      <td>1992</td>\n",
       "      <td>SEDAN AUTOMATIC 2.3</td>\n",
       "      <td>AUTOMATIC</td>\n",
       "      <td>2.3</td>\n",
       "      <td>133</td>\n",
       "      <td>Добрый день всем продаю ауди 100 в идеальном с...</td>\n",
       "      <td>422000</td>\n",
       "      <td>{'id': '0'}</td>\n",
       "      <td>передний</td>\n",
       "      <td>LEFT</td>\n",
       "      <td>None</td>\n",
       "      <td>3</td>\n",
       "      <td>ORIGINAL</td>\n",
       "      <td>True</td>\n",
       "      <td>None</td>\n",
       "      <td>0</td>\n",
       "      <td>185000</td>\n",
       "      <td>100</td>\n",
       "    </tr>\n",
       "    <tr>\n",
       "      <th>4</th>\n",
       "      <td>Седан</td>\n",
       "      <td>AUDI</td>\n",
       "      <td>0000CC</td>\n",
       "      <td>бензин</td>\n",
       "      <td>1988</td>\n",
       "      <td>2.3 MT (136 л.с.)</td>\n",
       "      <td>4</td>\n",
       "      <td>1989</td>\n",
       "      <td>SEDAN MECHANICAL 2.3</td>\n",
       "      <td>MECHANICAL</td>\n",
       "      <td>2.3</td>\n",
       "      <td>136</td>\n",
       "      <td>Авто в исправном состоянии без каких либо проб...</td>\n",
       "      <td>268386</td>\n",
       "      <td>{'id': '0'}</td>\n",
       "      <td>передний</td>\n",
       "      <td>LEFT</td>\n",
       "      <td>None</td>\n",
       "      <td>3</td>\n",
       "      <td>ORIGINAL</td>\n",
       "      <td>True</td>\n",
       "      <td>None</td>\n",
       "      <td>0</td>\n",
       "      <td>100000</td>\n",
       "      <td>100</td>\n",
       "    </tr>\n",
       "  </tbody>\n",
       "</table>\n",
       "</div>"
      ],
      "text/plain": [
       "  bodyType brand   color fuelType modelDate               name numberOfDoors  \\\n",
       "0    Седан  AUDI  040001   бензин      1990  2.3 MT (133 л.с.)             4   \n",
       "1    Седан  AUDI  040001   бензин      1990  2.0 MT (101 л.с.)             4   \n",
       "2    Седан  AUDI  0000CC   бензин      1988  2.0 MT (115 л.с.)             4   \n",
       "3    Седан  AUDI  97948F   бензин      1990  2.3 AT (133 л.с.)             4   \n",
       "4    Седан  AUDI  0000CC   бензин      1988  2.3 MT (136 л.с.)             4   \n",
       "\n",
       "  productionDate  vehicleConfiguration vehicleTransmission engineDisplacement  \\\n",
       "0           1991  SEDAN MECHANICAL 2.3          MECHANICAL                2.3   \n",
       "1           1994  SEDAN MECHANICAL 2.0          MECHANICAL                2.0   \n",
       "2           1989  SEDAN MECHANICAL 2.0          MECHANICAL                2.0   \n",
       "3           1992   SEDAN AUTOMATIC 2.3           AUTOMATIC                2.3   \n",
       "4           1989  SEDAN MECHANICAL 2.3          MECHANICAL                2.3   \n",
       "\n",
       "  enginePower                                        description mileage  \\\n",
       "0         133  Перед тем как звонить,дочитайте до конца.\\nМаш...   10000   \n",
       "1         101                            Тверская область Удомля  300000   \n",
       "2         115  Рассмотрю обмен.Машина в достойном состоянии,н...  150000   \n",
       "3         133  Добрый день всем продаю ауди 100 в идеальном с...  422000   \n",
       "4         136  Авто в исправном состоянии без каких либо проб...  268386   \n",
       "\n",
       "  Комплектация    Привод  Руль Состояние Владельцы        ПТС Таможня  \\\n",
       "0  {'id': '0'}  передний  LEFT      None         3   ORIGINAL    True   \n",
       "1  {'id': '0'}  передний  LEFT      None         3   ORIGINAL    True   \n",
       "2  {'id': '0'}  передний  LEFT      None         3  DUPLICATE    True   \n",
       "3  {'id': '0'}  передний  LEFT      None         3   ORIGINAL    True   \n",
       "4  {'id': '0'}  передний  LEFT      None         3   ORIGINAL    True   \n",
       "\n",
       "                     Владение id   price model  \n",
       "0  {'year': 2020, 'month': 8}  0  200000   100  \n",
       "1                        None  0  125000   100  \n",
       "2                        None  0   90000   100  \n",
       "3                        None  0  185000   100  \n",
       "4                        None  0  100000   100  "
      ]
     },
     "execution_count": 28,
     "metadata": {},
     "output_type": "execute_result"
    }
   ],
   "source": [
    "df_auto_ru.head()"
   ]
  },
  {
   "cell_type": "code",
   "execution_count": 29,
   "metadata": {
    "execution": {
     "iopub.execute_input": "2020-12-01T15:00:45.697449Z",
     "iopub.status.busy": "2020-12-01T15:00:45.696669Z",
     "iopub.status.idle": "2020-12-01T15:01:00.942459Z",
     "shell.execute_reply": "2020-12-01T15:01:00.941639Z"
    },
    "papermill": {
     "duration": 15.424228,
     "end_time": "2020-12-01T15:01:00.942645",
     "exception": false,
     "start_time": "2020-12-01T15:00:45.518417",
     "status": "completed"
    },
    "tags": []
   },
   "outputs": [],
   "source": [
    "df_auto_ru.to_csv('all_auto_ru_26_11_2020.csv', index=False)"
   ]
  },
  {
   "cell_type": "code",
   "execution_count": 30,
   "metadata": {
    "execution": {
     "iopub.execute_input": "2020-12-01T15:01:01.299104Z",
     "iopub.status.busy": "2020-12-01T15:01:01.298040Z",
     "iopub.status.idle": "2020-12-01T15:01:01.300606Z",
     "shell.execute_reply": "2020-12-01T15:01:01.301224Z"
    },
    "papermill": {
     "duration": 0.184306,
     "end_time": "2020-12-01T15:01:01.301402",
     "exception": false,
     "start_time": "2020-12-01T15:01:01.117096",
     "status": "completed"
    },
    "tags": []
   },
   "outputs": [],
   "source": [
    "# df_auto_ru = pd.read_csv('all_auto_ru_26_11_2020.csv')"
   ]
  },
  {
   "cell_type": "markdown",
   "metadata": {
    "papermill": {
     "duration": 0.174205,
     "end_time": "2020-12-01T15:01:01.653088",
     "exception": false,
     "start_time": "2020-12-01T15:01:01.478883",
     "status": "completed"
    },
    "tags": []
   },
   "source": [
    "Резюме:\n",
    "    - парсинг показал что за 900 дней удалось собрать только % данных от общего количества, \n",
    "      будем работать именно с этими данными\n",
    "    - парсинг так же показал что не во всех случаях удаётся произвести парсинг данных используя\n",
    "      kaggle notebook, поэтому рекомендуется скачать датасет cars_with_models_from_auto_ru.csv \n",
    "      и произвести парсинг на локальной машине."
   ]
  },
  {
   "cell_type": "markdown",
   "metadata": {
    "papermill": {
     "duration": 0.185384,
     "end_time": "2020-12-01T15:01:02.040466",
     "exception": false,
     "start_time": "2020-12-01T15:01:01.855082",
     "status": "completed"
    },
    "tags": []
   },
   "source": [
    "### 5. Проверка и доработка датасета после парсинга для слияния с тестом"
   ]
  },
  {
   "cell_type": "code",
   "execution_count": 31,
   "metadata": {
    "execution": {
     "iopub.execute_input": "2020-12-01T15:01:02.400994Z",
     "iopub.status.busy": "2020-12-01T15:01:02.399900Z",
     "iopub.status.idle": "2020-12-01T15:01:02.453161Z",
     "shell.execute_reply": "2020-12-01T15:01:02.452331Z"
    },
    "papermill": {
     "duration": 0.234872,
     "end_time": "2020-12-01T15:01:02.453315",
     "exception": false,
     "start_time": "2020-12-01T15:01:02.218443",
     "status": "completed"
    },
    "tags": []
   },
   "outputs": [],
   "source": [
    "df_train = df_auto_ru.copy()"
   ]
  },
  {
   "cell_type": "code",
   "execution_count": 32,
   "metadata": {
    "execution": {
     "iopub.execute_input": "2020-12-01T15:01:02.838092Z",
     "iopub.status.busy": "2020-12-01T15:01:02.837286Z",
     "iopub.status.idle": "2020-12-01T15:01:02.842683Z",
     "shell.execute_reply": "2020-12-01T15:01:02.841907Z"
    },
    "papermill": {
     "duration": 0.217608,
     "end_time": "2020-12-01T15:01:02.842811",
     "exception": false,
     "start_time": "2020-12-01T15:01:02.625203",
     "status": "completed"
    },
    "tags": []
   },
   "outputs": [
    {
     "data": {
      "text/html": [
       "<div>\n",
       "<style scoped>\n",
       "    .dataframe tbody tr th:only-of-type {\n",
       "        vertical-align: middle;\n",
       "    }\n",
       "\n",
       "    .dataframe tbody tr th {\n",
       "        vertical-align: top;\n",
       "    }\n",
       "\n",
       "    .dataframe thead th {\n",
       "        text-align: right;\n",
       "    }\n",
       "</style>\n",
       "<table border=\"1\" class=\"dataframe\">\n",
       "  <thead>\n",
       "    <tr style=\"text-align: right;\">\n",
       "      <th></th>\n",
       "      <th>bodyType</th>\n",
       "      <th>brand</th>\n",
       "      <th>color</th>\n",
       "      <th>fuelType</th>\n",
       "      <th>modelDate</th>\n",
       "      <th>name</th>\n",
       "      <th>numberOfDoors</th>\n",
       "      <th>productionDate</th>\n",
       "      <th>vehicleConfiguration</th>\n",
       "      <th>vehicleTransmission</th>\n",
       "      <th>engineDisplacement</th>\n",
       "      <th>enginePower</th>\n",
       "      <th>description</th>\n",
       "      <th>mileage</th>\n",
       "      <th>Комплектация</th>\n",
       "      <th>Привод</th>\n",
       "      <th>Руль</th>\n",
       "      <th>Состояние</th>\n",
       "      <th>Владельцы</th>\n",
       "      <th>ПТС</th>\n",
       "      <th>Таможня</th>\n",
       "      <th>Владение</th>\n",
       "      <th>id</th>\n",
       "    </tr>\n",
       "  </thead>\n",
       "  <tbody>\n",
       "    <tr>\n",
       "      <th>0</th>\n",
       "      <td>седан</td>\n",
       "      <td>BMW</td>\n",
       "      <td>чёрный</td>\n",
       "      <td>дизель</td>\n",
       "      <td>2016.0</td>\n",
       "      <td>520d 2.0d AT (190 л.с.)</td>\n",
       "      <td>4.0</td>\n",
       "      <td>2017.0</td>\n",
       "      <td>SEDAN AUTOMATIC 2.0</td>\n",
       "      <td>автоматическая</td>\n",
       "      <td>2.0 LTR</td>\n",
       "      <td>190 N12</td>\n",
       "      <td>В РОЛЬФ Ясенево представлено более 500 автомоб...</td>\n",
       "      <td>158836.0</td>\n",
       "      <td>['[{\"name\":\"Безопасность\",\"values\":[\"Антипробу...</td>\n",
       "      <td>задний</td>\n",
       "      <td>Левый</td>\n",
       "      <td>Не требует ремонта</td>\n",
       "      <td>1 владелец</td>\n",
       "      <td>Оригинал</td>\n",
       "      <td>Растаможен</td>\n",
       "      <td>NaN</td>\n",
       "      <td>0</td>\n",
       "    </tr>\n",
       "    <tr>\n",
       "      <th>1</th>\n",
       "      <td>седан</td>\n",
       "      <td>BMW</td>\n",
       "      <td>белый</td>\n",
       "      <td>дизель</td>\n",
       "      <td>2018.0</td>\n",
       "      <td>318d 2.0d AT (150 л.с.)</td>\n",
       "      <td>4.0</td>\n",
       "      <td>2019.0</td>\n",
       "      <td>SEDAN AUTOMATIC 2.0</td>\n",
       "      <td>автоматическая</td>\n",
       "      <td>2.0 LTR</td>\n",
       "      <td>150 N12</td>\n",
       "      <td>Автомобиль из демонстрационного парка по спец ...</td>\n",
       "      <td>10.0</td>\n",
       "      <td>['[{\"name\":\"Комфорт\",\"values\":[\"Круиз-контроль...</td>\n",
       "      <td>задний</td>\n",
       "      <td>Левый</td>\n",
       "      <td>Не требует ремонта</td>\n",
       "      <td>1 владелец</td>\n",
       "      <td>Оригинал</td>\n",
       "      <td>Растаможен</td>\n",
       "      <td>NaN</td>\n",
       "      <td>1</td>\n",
       "    </tr>\n",
       "    <tr>\n",
       "      <th>2</th>\n",
       "      <td>седан</td>\n",
       "      <td>BMW</td>\n",
       "      <td>синий</td>\n",
       "      <td>бензин</td>\n",
       "      <td>2009.0</td>\n",
       "      <td>550i xDrive 4.4 AT (407 л.с.) 4WD</td>\n",
       "      <td>4.0</td>\n",
       "      <td>2012.0</td>\n",
       "      <td>SEDAN AUTOMATIC 4.4</td>\n",
       "      <td>автоматическая</td>\n",
       "      <td>4.4 LTR</td>\n",
       "      <td>407 N12</td>\n",
       "      <td>Машина собиралась под заказ! \\n\\n</td>\n",
       "      <td>120000.0</td>\n",
       "      <td>['[{\"name\":\"Комфорт\",\"values\":[\"Круиз-контроль...</td>\n",
       "      <td>полный</td>\n",
       "      <td>Левый</td>\n",
       "      <td>Не требует ремонта</td>\n",
       "      <td>2 владельца</td>\n",
       "      <td>Оригинал</td>\n",
       "      <td>Растаможен</td>\n",
       "      <td>7 лет и 2 месяца</td>\n",
       "      <td>2</td>\n",
       "    </tr>\n",
       "    <tr>\n",
       "      <th>3</th>\n",
       "      <td>внедорожник 5 дв.</td>\n",
       "      <td>BMW</td>\n",
       "      <td>белый</td>\n",
       "      <td>дизель</td>\n",
       "      <td>2014.0</td>\n",
       "      <td>30d 3.0d AT (249 л.с.) 4WD</td>\n",
       "      <td>5.0</td>\n",
       "      <td>2015.0</td>\n",
       "      <td>ALLROAD_5_DOORS AUTOMATIC 3.0</td>\n",
       "      <td>автоматическая</td>\n",
       "      <td>3.0 LTR</td>\n",
       "      <td>249 N12</td>\n",
       "      <td>АВТОМОБИЛЬ В БЕЗУПРЕЧНОМ ВНЕШНЕМ И ТЕХНИЧЕСКОМ...</td>\n",
       "      <td>111466.0</td>\n",
       "      <td>['[{\"name\":\"Комфорт\",\"values\":[\"Круиз-контроль...</td>\n",
       "      <td>полный</td>\n",
       "      <td>Левый</td>\n",
       "      <td>Не требует ремонта</td>\n",
       "      <td>2 владельца</td>\n",
       "      <td>Оригинал</td>\n",
       "      <td>Растаможен</td>\n",
       "      <td>NaN</td>\n",
       "      <td>3</td>\n",
       "    </tr>\n",
       "    <tr>\n",
       "      <th>4</th>\n",
       "      <td>внедорожник 5 дв.</td>\n",
       "      <td>BMW</td>\n",
       "      <td>синий</td>\n",
       "      <td>дизель</td>\n",
       "      <td>2014.0</td>\n",
       "      <td>M50d 3.0d AT (381 л.с.) 4WD</td>\n",
       "      <td>5.0</td>\n",
       "      <td>2019.0</td>\n",
       "      <td>ALLROAD_5_DOORS AUTOMATIC 3.0</td>\n",
       "      <td>автоматическая</td>\n",
       "      <td>3.0 LTR</td>\n",
       "      <td>381 N12</td>\n",
       "      <td>Автомобиль не имеет собственников ( физ. лиц) ...</td>\n",
       "      <td>11891.0</td>\n",
       "      <td>['[{\"name\":\"Комфорт\",\"values\":[\"Круиз-контроль...</td>\n",
       "      <td>полный</td>\n",
       "      <td>Левый</td>\n",
       "      <td>Не требует ремонта</td>\n",
       "      <td>1 владелец</td>\n",
       "      <td>Оригинал</td>\n",
       "      <td>Растаможен</td>\n",
       "      <td>NaN</td>\n",
       "      <td>4</td>\n",
       "    </tr>\n",
       "  </tbody>\n",
       "</table>\n",
       "</div>"
      ],
      "text/plain": [
       "            bodyType brand   color fuelType  modelDate  \\\n",
       "0              седан   BMW  чёрный   дизель     2016.0   \n",
       "1              седан   BMW   белый   дизель     2018.0   \n",
       "2              седан   BMW   синий   бензин     2009.0   \n",
       "3  внедорожник 5 дв.   BMW   белый   дизель     2014.0   \n",
       "4  внедорожник 5 дв.   BMW   синий   дизель     2014.0   \n",
       "\n",
       "                                name  numberOfDoors  productionDate  \\\n",
       "0            520d 2.0d AT (190 л.с.)            4.0          2017.0   \n",
       "1            318d 2.0d AT (150 л.с.)            4.0          2019.0   \n",
       "2  550i xDrive 4.4 AT (407 л.с.) 4WD            4.0          2012.0   \n",
       "3         30d 3.0d AT (249 л.с.) 4WD            5.0          2015.0   \n",
       "4        M50d 3.0d AT (381 л.с.) 4WD            5.0          2019.0   \n",
       "\n",
       "            vehicleConfiguration vehicleTransmission engineDisplacement  \\\n",
       "0            SEDAN AUTOMATIC 2.0      автоматическая            2.0 LTR   \n",
       "1            SEDAN AUTOMATIC 2.0      автоматическая            2.0 LTR   \n",
       "2            SEDAN AUTOMATIC 4.4      автоматическая            4.4 LTR   \n",
       "3  ALLROAD_5_DOORS AUTOMATIC 3.0      автоматическая            3.0 LTR   \n",
       "4  ALLROAD_5_DOORS AUTOMATIC 3.0      автоматическая            3.0 LTR   \n",
       "\n",
       "  enginePower                                        description   mileage  \\\n",
       "0     190 N12  В РОЛЬФ Ясенево представлено более 500 автомоб...  158836.0   \n",
       "1     150 N12  Автомобиль из демонстрационного парка по спец ...      10.0   \n",
       "2     407 N12                  Машина собиралась под заказ! \\n\\n  120000.0   \n",
       "3     249 N12  АВТОМОБИЛЬ В БЕЗУПРЕЧНОМ ВНЕШНЕМ И ТЕХНИЧЕСКОМ...  111466.0   \n",
       "4     381 N12  Автомобиль не имеет собственников ( физ. лиц) ...   11891.0   \n",
       "\n",
       "                                        Комплектация  Привод   Руль  \\\n",
       "0  ['[{\"name\":\"Безопасность\",\"values\":[\"Антипробу...  задний  Левый   \n",
       "1  ['[{\"name\":\"Комфорт\",\"values\":[\"Круиз-контроль...  задний  Левый   \n",
       "2  ['[{\"name\":\"Комфорт\",\"values\":[\"Круиз-контроль...  полный  Левый   \n",
       "3  ['[{\"name\":\"Комфорт\",\"values\":[\"Круиз-контроль...  полный  Левый   \n",
       "4  ['[{\"name\":\"Комфорт\",\"values\":[\"Круиз-контроль...  полный  Левый   \n",
       "\n",
       "            Состояние    Владельцы       ПТС     Таможня          Владение  id  \n",
       "0  Не требует ремонта   1 владелец  Оригинал  Растаможен               NaN   0  \n",
       "1  Не требует ремонта   1 владелец  Оригинал  Растаможен               NaN   1  \n",
       "2  Не требует ремонта  2 владельца  Оригинал  Растаможен  7 лет и 2 месяца   2  \n",
       "3  Не требует ремонта  2 владельца  Оригинал  Растаможен               NaN   3  \n",
       "4  Не требует ремонта   1 владелец  Оригинал  Растаможен               NaN   4  "
      ]
     },
     "execution_count": 32,
     "metadata": {},
     "output_type": "execute_result"
    }
   ],
   "source": [
    "data_test.head()"
   ]
  },
  {
   "cell_type": "code",
   "execution_count": 33,
   "metadata": {
    "execution": {
     "iopub.execute_input": "2020-12-01T15:01:03.233888Z",
     "iopub.status.busy": "2020-12-01T15:01:03.232804Z",
     "iopub.status.idle": "2020-12-01T15:01:03.238688Z",
     "shell.execute_reply": "2020-12-01T15:01:03.238040Z"
    },
    "papermill": {
     "duration": 0.22127,
     "end_time": "2020-12-01T15:01:03.238838",
     "exception": false,
     "start_time": "2020-12-01T15:01:03.017568",
     "status": "completed"
    },
    "tags": []
   },
   "outputs": [
    {
     "data": {
      "text/html": [
       "<div>\n",
       "<style scoped>\n",
       "    .dataframe tbody tr th:only-of-type {\n",
       "        vertical-align: middle;\n",
       "    }\n",
       "\n",
       "    .dataframe tbody tr th {\n",
       "        vertical-align: top;\n",
       "    }\n",
       "\n",
       "    .dataframe thead th {\n",
       "        text-align: right;\n",
       "    }\n",
       "</style>\n",
       "<table border=\"1\" class=\"dataframe\">\n",
       "  <thead>\n",
       "    <tr style=\"text-align: right;\">\n",
       "      <th></th>\n",
       "      <th>bodyType</th>\n",
       "      <th>brand</th>\n",
       "      <th>color</th>\n",
       "      <th>fuelType</th>\n",
       "      <th>modelDate</th>\n",
       "      <th>name</th>\n",
       "      <th>numberOfDoors</th>\n",
       "      <th>productionDate</th>\n",
       "      <th>vehicleConfiguration</th>\n",
       "      <th>vehicleTransmission</th>\n",
       "      <th>engineDisplacement</th>\n",
       "      <th>enginePower</th>\n",
       "      <th>description</th>\n",
       "      <th>mileage</th>\n",
       "      <th>Комплектация</th>\n",
       "      <th>Привод</th>\n",
       "      <th>Руль</th>\n",
       "      <th>Состояние</th>\n",
       "      <th>Владельцы</th>\n",
       "      <th>ПТС</th>\n",
       "      <th>Таможня</th>\n",
       "      <th>Владение</th>\n",
       "      <th>id</th>\n",
       "      <th>price</th>\n",
       "      <th>model</th>\n",
       "    </tr>\n",
       "  </thead>\n",
       "  <tbody>\n",
       "    <tr>\n",
       "      <th>0</th>\n",
       "      <td>Седан</td>\n",
       "      <td>AUDI</td>\n",
       "      <td>040001</td>\n",
       "      <td>бензин</td>\n",
       "      <td>1990</td>\n",
       "      <td>2.3 MT (133 л.с.)</td>\n",
       "      <td>4</td>\n",
       "      <td>1991</td>\n",
       "      <td>SEDAN MECHANICAL 2.3</td>\n",
       "      <td>MECHANICAL</td>\n",
       "      <td>2.3</td>\n",
       "      <td>133</td>\n",
       "      <td>Перед тем как звонить,дочитайте до конца.\\nМаш...</td>\n",
       "      <td>10000</td>\n",
       "      <td>{'id': '0'}</td>\n",
       "      <td>передний</td>\n",
       "      <td>LEFT</td>\n",
       "      <td>None</td>\n",
       "      <td>3</td>\n",
       "      <td>ORIGINAL</td>\n",
       "      <td>True</td>\n",
       "      <td>{'year': 2020, 'month': 8}</td>\n",
       "      <td>0</td>\n",
       "      <td>200000</td>\n",
       "      <td>100</td>\n",
       "    </tr>\n",
       "    <tr>\n",
       "      <th>1</th>\n",
       "      <td>Седан</td>\n",
       "      <td>AUDI</td>\n",
       "      <td>040001</td>\n",
       "      <td>бензин</td>\n",
       "      <td>1990</td>\n",
       "      <td>2.0 MT (101 л.с.)</td>\n",
       "      <td>4</td>\n",
       "      <td>1994</td>\n",
       "      <td>SEDAN MECHANICAL 2.0</td>\n",
       "      <td>MECHANICAL</td>\n",
       "      <td>2.0</td>\n",
       "      <td>101</td>\n",
       "      <td>Тверская область Удомля</td>\n",
       "      <td>300000</td>\n",
       "      <td>{'id': '0'}</td>\n",
       "      <td>передний</td>\n",
       "      <td>LEFT</td>\n",
       "      <td>None</td>\n",
       "      <td>3</td>\n",
       "      <td>ORIGINAL</td>\n",
       "      <td>True</td>\n",
       "      <td>None</td>\n",
       "      <td>0</td>\n",
       "      <td>125000</td>\n",
       "      <td>100</td>\n",
       "    </tr>\n",
       "    <tr>\n",
       "      <th>2</th>\n",
       "      <td>Седан</td>\n",
       "      <td>AUDI</td>\n",
       "      <td>0000CC</td>\n",
       "      <td>бензин</td>\n",
       "      <td>1988</td>\n",
       "      <td>2.0 MT (115 л.с.)</td>\n",
       "      <td>4</td>\n",
       "      <td>1989</td>\n",
       "      <td>SEDAN MECHANICAL 2.0</td>\n",
       "      <td>MECHANICAL</td>\n",
       "      <td>2.0</td>\n",
       "      <td>115</td>\n",
       "      <td>Рассмотрю обмен.Машина в достойном состоянии,н...</td>\n",
       "      <td>150000</td>\n",
       "      <td>{'id': '0'}</td>\n",
       "      <td>передний</td>\n",
       "      <td>LEFT</td>\n",
       "      <td>None</td>\n",
       "      <td>3</td>\n",
       "      <td>DUPLICATE</td>\n",
       "      <td>True</td>\n",
       "      <td>None</td>\n",
       "      <td>0</td>\n",
       "      <td>90000</td>\n",
       "      <td>100</td>\n",
       "    </tr>\n",
       "    <tr>\n",
       "      <th>3</th>\n",
       "      <td>Седан</td>\n",
       "      <td>AUDI</td>\n",
       "      <td>97948F</td>\n",
       "      <td>бензин</td>\n",
       "      <td>1990</td>\n",
       "      <td>2.3 AT (133 л.с.)</td>\n",
       "      <td>4</td>\n",
       "      <td>1992</td>\n",
       "      <td>SEDAN AUTOMATIC 2.3</td>\n",
       "      <td>AUTOMATIC</td>\n",
       "      <td>2.3</td>\n",
       "      <td>133</td>\n",
       "      <td>Добрый день всем продаю ауди 100 в идеальном с...</td>\n",
       "      <td>422000</td>\n",
       "      <td>{'id': '0'}</td>\n",
       "      <td>передний</td>\n",
       "      <td>LEFT</td>\n",
       "      <td>None</td>\n",
       "      <td>3</td>\n",
       "      <td>ORIGINAL</td>\n",
       "      <td>True</td>\n",
       "      <td>None</td>\n",
       "      <td>0</td>\n",
       "      <td>185000</td>\n",
       "      <td>100</td>\n",
       "    </tr>\n",
       "    <tr>\n",
       "      <th>4</th>\n",
       "      <td>Седан</td>\n",
       "      <td>AUDI</td>\n",
       "      <td>0000CC</td>\n",
       "      <td>бензин</td>\n",
       "      <td>1988</td>\n",
       "      <td>2.3 MT (136 л.с.)</td>\n",
       "      <td>4</td>\n",
       "      <td>1989</td>\n",
       "      <td>SEDAN MECHANICAL 2.3</td>\n",
       "      <td>MECHANICAL</td>\n",
       "      <td>2.3</td>\n",
       "      <td>136</td>\n",
       "      <td>Авто в исправном состоянии без каких либо проб...</td>\n",
       "      <td>268386</td>\n",
       "      <td>{'id': '0'}</td>\n",
       "      <td>передний</td>\n",
       "      <td>LEFT</td>\n",
       "      <td>None</td>\n",
       "      <td>3</td>\n",
       "      <td>ORIGINAL</td>\n",
       "      <td>True</td>\n",
       "      <td>None</td>\n",
       "      <td>0</td>\n",
       "      <td>100000</td>\n",
       "      <td>100</td>\n",
       "    </tr>\n",
       "  </tbody>\n",
       "</table>\n",
       "</div>"
      ],
      "text/plain": [
       "  bodyType brand   color fuelType modelDate               name numberOfDoors  \\\n",
       "0    Седан  AUDI  040001   бензин      1990  2.3 MT (133 л.с.)             4   \n",
       "1    Седан  AUDI  040001   бензин      1990  2.0 MT (101 л.с.)             4   \n",
       "2    Седан  AUDI  0000CC   бензин      1988  2.0 MT (115 л.с.)             4   \n",
       "3    Седан  AUDI  97948F   бензин      1990  2.3 AT (133 л.с.)             4   \n",
       "4    Седан  AUDI  0000CC   бензин      1988  2.3 MT (136 л.с.)             4   \n",
       "\n",
       "  productionDate  vehicleConfiguration vehicleTransmission engineDisplacement  \\\n",
       "0           1991  SEDAN MECHANICAL 2.3          MECHANICAL                2.3   \n",
       "1           1994  SEDAN MECHANICAL 2.0          MECHANICAL                2.0   \n",
       "2           1989  SEDAN MECHANICAL 2.0          MECHANICAL                2.0   \n",
       "3           1992   SEDAN AUTOMATIC 2.3           AUTOMATIC                2.3   \n",
       "4           1989  SEDAN MECHANICAL 2.3          MECHANICAL                2.3   \n",
       "\n",
       "  enginePower                                        description mileage  \\\n",
       "0         133  Перед тем как звонить,дочитайте до конца.\\nМаш...   10000   \n",
       "1         101                            Тверская область Удомля  300000   \n",
       "2         115  Рассмотрю обмен.Машина в достойном состоянии,н...  150000   \n",
       "3         133  Добрый день всем продаю ауди 100 в идеальном с...  422000   \n",
       "4         136  Авто в исправном состоянии без каких либо проб...  268386   \n",
       "\n",
       "  Комплектация    Привод  Руль Состояние Владельцы        ПТС Таможня  \\\n",
       "0  {'id': '0'}  передний  LEFT      None         3   ORIGINAL    True   \n",
       "1  {'id': '0'}  передний  LEFT      None         3   ORIGINAL    True   \n",
       "2  {'id': '0'}  передний  LEFT      None         3  DUPLICATE    True   \n",
       "3  {'id': '0'}  передний  LEFT      None         3   ORIGINAL    True   \n",
       "4  {'id': '0'}  передний  LEFT      None         3   ORIGINAL    True   \n",
       "\n",
       "                     Владение id   price model  \n",
       "0  {'year': 2020, 'month': 8}  0  200000   100  \n",
       "1                        None  0  125000   100  \n",
       "2                        None  0   90000   100  \n",
       "3                        None  0  185000   100  \n",
       "4                        None  0  100000   100  "
      ]
     },
     "execution_count": 33,
     "metadata": {},
     "output_type": "execute_result"
    }
   ],
   "source": [
    "df_train.head()"
   ]
  },
  {
   "cell_type": "markdown",
   "metadata": {
    "papermill": {
     "duration": 0.178212,
     "end_time": "2020-12-01T15:01:03.595846",
     "exception": false,
     "start_time": "2020-12-01T15:01:03.417634",
     "status": "completed"
    },
    "tags": []
   },
   "source": [
    "Необходимые изменения в новом датасете для приведения к тому же виду как тестовый датасет:\n",
    "    - bodyType необходимо изменить написание слова с строчной буквы\n",
    "    - color изменить в новом датасете hex значение на название цвета\n",
    "    - vehicleTransmission в новом датасете изменить на русское обозначение\n",
    "    - engineDisplacement проверить содержание уникальных занчений и принять решение об изменении или удалении\n",
    "    - enginePower в тестовом датасете выделить числовое значения\n",
    "    - Руль в новом датасете перемести на русский\n",
    "    - Состояние удалить в обоих датасетах так как этого значение нельзя спарсить\n",
    "    - ПТС перевести на русский значение в новом датасете\n",
    "    - Владельцы в тетсовом датасете выделить числовое значение\n",
    "    - Владение в тестовом датасете и в тренировочнои представлены в разных форматах, проанализируем эти колонки после объединения"
   ]
  },
  {
   "cell_type": "code",
   "execution_count": 34,
   "metadata": {
    "execution": {
     "iopub.execute_input": "2020-12-01T15:01:03.966364Z",
     "iopub.status.busy": "2020-12-01T15:01:03.965559Z",
     "iopub.status.idle": "2020-12-01T15:01:04.040180Z",
     "shell.execute_reply": "2020-12-01T15:01:04.039332Z"
    },
    "papermill": {
     "duration": 0.266523,
     "end_time": "2020-12-01T15:01:04.040310",
     "exception": false,
     "start_time": "2020-12-01T15:01:03.773787",
     "status": "completed"
    },
    "tags": []
   },
   "outputs": [],
   "source": [
    "# bodyType\n",
    "df_train['bodyType'] = df_train['bodyType'].str.lower()"
   ]
  },
  {
   "cell_type": "code",
   "execution_count": 35,
   "metadata": {
    "execution": {
     "iopub.execute_input": "2020-12-01T15:01:04.421860Z",
     "iopub.status.busy": "2020-12-01T15:01:04.412940Z",
     "iopub.status.idle": "2020-12-01T15:01:04.477550Z",
     "shell.execute_reply": "2020-12-01T15:01:04.478127Z"
    },
    "papermill": {
     "duration": 0.261187,
     "end_time": "2020-12-01T15:01:04.478303",
     "exception": false,
     "start_time": "2020-12-01T15:01:04.217116",
     "status": "completed"
    },
    "tags": []
   },
   "outputs": [
    {
     "data": {
      "text/plain": [
       "array(['040001', '0000CC', '97948F', 'CACECB', 'FAFBFB', 'EE1D19',\n",
       "       'DEA522', '007F00', '660099', '22A0F8', '4A2197', '200204',\n",
       "       'FF8649', 'C49648', 'FFD600', 'FFC0CB'], dtype=object)"
      ]
     },
     "metadata": {},
     "output_type": "display_data"
    }
   ],
   "source": [
    "# color\n",
    "display(df_train.color.unique())\n",
    "color_dict = {'007F00': 'зелёный', '97948F':'серый', '0000CC':'синий', '040001':'чёрный', '200204':'коричневый', 'EE1D19':'красный',\n",
    "       'DEA522':'оранжевый', 'FAFBFB':'белый', '660099':'пурпурный', 'CACECB':'серебристый', 'FF8649':'оранжевый', 'C49648':'бежевый',\n",
    "       '22A0F8':'голубой', 'FFD600':'золотистый', '4A2197':'фиолетовый', 'FFC0CB':'розовый'}\n",
    "df_train['color'] = df_train['color'].map(color_dict)"
   ]
  },
  {
   "cell_type": "code",
   "execution_count": 36,
   "metadata": {
    "execution": {
     "iopub.execute_input": "2020-12-01T15:01:04.892213Z",
     "iopub.status.busy": "2020-12-01T15:01:04.871571Z",
     "iopub.status.idle": "2020-12-01T15:01:04.903647Z",
     "shell.execute_reply": "2020-12-01T15:01:04.902996Z"
    },
    "papermill": {
     "duration": 0.244122,
     "end_time": "2020-12-01T15:01:04.903787",
     "exception": false,
     "start_time": "2020-12-01T15:01:04.659665",
     "status": "completed"
    },
    "tags": []
   },
   "outputs": [],
   "source": [
    "# vehicleTransmission \n",
    "df_train['vehicleTransmission'] = df_train['vehicleTransmission'].map({'MECHANICAL':'механическая','AUTOMATIC':'автоматическая','ROBOT':'роботизированная', 'VARIATOR':'вариатор'})"
   ]
  },
  {
   "cell_type": "code",
   "execution_count": 37,
   "metadata": {
    "execution": {
     "iopub.execute_input": "2020-12-01T15:01:05.326600Z",
     "iopub.status.busy": "2020-12-01T15:01:05.325409Z",
     "iopub.status.idle": "2020-12-01T15:01:05.332202Z",
     "shell.execute_reply": "2020-12-01T15:01:05.331391Z"
    },
    "papermill": {
     "duration": 0.250508,
     "end_time": "2020-12-01T15:01:05.332334",
     "exception": false,
     "start_time": "2020-12-01T15:01:05.081826",
     "status": "completed"
    },
    "tags": []
   },
   "outputs": [
    {
     "data": {
      "text/html": [
       "<div>\n",
       "<style scoped>\n",
       "    .dataframe tbody tr th:only-of-type {\n",
       "        vertical-align: middle;\n",
       "    }\n",
       "\n",
       "    .dataframe tbody tr th {\n",
       "        vertical-align: top;\n",
       "    }\n",
       "\n",
       "    .dataframe thead th {\n",
       "        text-align: right;\n",
       "    }\n",
       "</style>\n",
       "<table border=\"1\" class=\"dataframe\">\n",
       "  <thead>\n",
       "    <tr style=\"text-align: right;\">\n",
       "      <th></th>\n",
       "      <th>bodyType</th>\n",
       "      <th>brand</th>\n",
       "      <th>color</th>\n",
       "      <th>fuelType</th>\n",
       "      <th>modelDate</th>\n",
       "      <th>name</th>\n",
       "      <th>numberOfDoors</th>\n",
       "      <th>productionDate</th>\n",
       "      <th>vehicleConfiguration</th>\n",
       "      <th>vehicleTransmission</th>\n",
       "      <th>engineDisplacement</th>\n",
       "      <th>enginePower</th>\n",
       "      <th>description</th>\n",
       "      <th>mileage</th>\n",
       "      <th>Комплектация</th>\n",
       "      <th>Привод</th>\n",
       "      <th>Руль</th>\n",
       "      <th>Состояние</th>\n",
       "      <th>Владельцы</th>\n",
       "      <th>ПТС</th>\n",
       "      <th>Таможня</th>\n",
       "      <th>Владение</th>\n",
       "      <th>id</th>\n",
       "    </tr>\n",
       "  </thead>\n",
       "  <tbody>\n",
       "    <tr>\n",
       "      <th>0</th>\n",
       "      <td>седан</td>\n",
       "      <td>BMW</td>\n",
       "      <td>чёрный</td>\n",
       "      <td>дизель</td>\n",
       "      <td>2016.0</td>\n",
       "      <td>520d 2.0d AT (190 л.с.)</td>\n",
       "      <td>4.0</td>\n",
       "      <td>2017.0</td>\n",
       "      <td>SEDAN AUTOMATIC 2.0</td>\n",
       "      <td>автоматическая</td>\n",
       "      <td>2.0 LTR</td>\n",
       "      <td>190 N12</td>\n",
       "      <td>В РОЛЬФ Ясенево представлено более 500 автомоб...</td>\n",
       "      <td>158836.0</td>\n",
       "      <td>['[{\"name\":\"Безопасность\",\"values\":[\"Антипробу...</td>\n",
       "      <td>задний</td>\n",
       "      <td>Левый</td>\n",
       "      <td>Не требует ремонта</td>\n",
       "      <td>1 владелец</td>\n",
       "      <td>Оригинал</td>\n",
       "      <td>Растаможен</td>\n",
       "      <td>NaN</td>\n",
       "      <td>0</td>\n",
       "    </tr>\n",
       "    <tr>\n",
       "      <th>1</th>\n",
       "      <td>седан</td>\n",
       "      <td>BMW</td>\n",
       "      <td>белый</td>\n",
       "      <td>дизель</td>\n",
       "      <td>2018.0</td>\n",
       "      <td>318d 2.0d AT (150 л.с.)</td>\n",
       "      <td>4.0</td>\n",
       "      <td>2019.0</td>\n",
       "      <td>SEDAN AUTOMATIC 2.0</td>\n",
       "      <td>автоматическая</td>\n",
       "      <td>2.0 LTR</td>\n",
       "      <td>150 N12</td>\n",
       "      <td>Автомобиль из демонстрационного парка по спец ...</td>\n",
       "      <td>10.0</td>\n",
       "      <td>['[{\"name\":\"Комфорт\",\"values\":[\"Круиз-контроль...</td>\n",
       "      <td>задний</td>\n",
       "      <td>Левый</td>\n",
       "      <td>Не требует ремонта</td>\n",
       "      <td>1 владелец</td>\n",
       "      <td>Оригинал</td>\n",
       "      <td>Растаможен</td>\n",
       "      <td>NaN</td>\n",
       "      <td>1</td>\n",
       "    </tr>\n",
       "    <tr>\n",
       "      <th>2</th>\n",
       "      <td>седан</td>\n",
       "      <td>BMW</td>\n",
       "      <td>синий</td>\n",
       "      <td>бензин</td>\n",
       "      <td>2009.0</td>\n",
       "      <td>550i xDrive 4.4 AT (407 л.с.) 4WD</td>\n",
       "      <td>4.0</td>\n",
       "      <td>2012.0</td>\n",
       "      <td>SEDAN AUTOMATIC 4.4</td>\n",
       "      <td>автоматическая</td>\n",
       "      <td>4.4 LTR</td>\n",
       "      <td>407 N12</td>\n",
       "      <td>Машина собиралась под заказ! \\n\\n</td>\n",
       "      <td>120000.0</td>\n",
       "      <td>['[{\"name\":\"Комфорт\",\"values\":[\"Круиз-контроль...</td>\n",
       "      <td>полный</td>\n",
       "      <td>Левый</td>\n",
       "      <td>Не требует ремонта</td>\n",
       "      <td>2 владельца</td>\n",
       "      <td>Оригинал</td>\n",
       "      <td>Растаможен</td>\n",
       "      <td>7 лет и 2 месяца</td>\n",
       "      <td>2</td>\n",
       "    </tr>\n",
       "    <tr>\n",
       "      <th>3</th>\n",
       "      <td>внедорожник 5 дв.</td>\n",
       "      <td>BMW</td>\n",
       "      <td>белый</td>\n",
       "      <td>дизель</td>\n",
       "      <td>2014.0</td>\n",
       "      <td>30d 3.0d AT (249 л.с.) 4WD</td>\n",
       "      <td>5.0</td>\n",
       "      <td>2015.0</td>\n",
       "      <td>ALLROAD_5_DOORS AUTOMATIC 3.0</td>\n",
       "      <td>автоматическая</td>\n",
       "      <td>3.0 LTR</td>\n",
       "      <td>249 N12</td>\n",
       "      <td>АВТОМОБИЛЬ В БЕЗУПРЕЧНОМ ВНЕШНЕМ И ТЕХНИЧЕСКОМ...</td>\n",
       "      <td>111466.0</td>\n",
       "      <td>['[{\"name\":\"Комфорт\",\"values\":[\"Круиз-контроль...</td>\n",
       "      <td>полный</td>\n",
       "      <td>Левый</td>\n",
       "      <td>Не требует ремонта</td>\n",
       "      <td>2 владельца</td>\n",
       "      <td>Оригинал</td>\n",
       "      <td>Растаможен</td>\n",
       "      <td>NaN</td>\n",
       "      <td>3</td>\n",
       "    </tr>\n",
       "    <tr>\n",
       "      <th>4</th>\n",
       "      <td>внедорожник 5 дв.</td>\n",
       "      <td>BMW</td>\n",
       "      <td>синий</td>\n",
       "      <td>дизель</td>\n",
       "      <td>2014.0</td>\n",
       "      <td>M50d 3.0d AT (381 л.с.) 4WD</td>\n",
       "      <td>5.0</td>\n",
       "      <td>2019.0</td>\n",
       "      <td>ALLROAD_5_DOORS AUTOMATIC 3.0</td>\n",
       "      <td>автоматическая</td>\n",
       "      <td>3.0 LTR</td>\n",
       "      <td>381 N12</td>\n",
       "      <td>Автомобиль не имеет собственников ( физ. лиц) ...</td>\n",
       "      <td>11891.0</td>\n",
       "      <td>['[{\"name\":\"Комфорт\",\"values\":[\"Круиз-контроль...</td>\n",
       "      <td>полный</td>\n",
       "      <td>Левый</td>\n",
       "      <td>Не требует ремонта</td>\n",
       "      <td>1 владелец</td>\n",
       "      <td>Оригинал</td>\n",
       "      <td>Растаможен</td>\n",
       "      <td>NaN</td>\n",
       "      <td>4</td>\n",
       "    </tr>\n",
       "    <tr>\n",
       "      <th>...</th>\n",
       "      <td>...</td>\n",
       "      <td>...</td>\n",
       "      <td>...</td>\n",
       "      <td>...</td>\n",
       "      <td>...</td>\n",
       "      <td>...</td>\n",
       "      <td>...</td>\n",
       "      <td>...</td>\n",
       "      <td>...</td>\n",
       "      <td>...</td>\n",
       "      <td>...</td>\n",
       "      <td>...</td>\n",
       "      <td>...</td>\n",
       "      <td>...</td>\n",
       "      <td>...</td>\n",
       "      <td>...</td>\n",
       "      <td>...</td>\n",
       "      <td>...</td>\n",
       "      <td>...</td>\n",
       "      <td>...</td>\n",
       "      <td>...</td>\n",
       "      <td>...</td>\n",
       "      <td>...</td>\n",
       "    </tr>\n",
       "    <tr>\n",
       "      <th>3832</th>\n",
       "      <td>седан</td>\n",
       "      <td>BMW</td>\n",
       "      <td>чёрный</td>\n",
       "      <td>бензин</td>\n",
       "      <td>2013.0</td>\n",
       "      <td>520i 2.0 AT (184 л.с.)</td>\n",
       "      <td>4.0</td>\n",
       "      <td>2013.0</td>\n",
       "      <td>SEDAN AUTOMATIC 2.0</td>\n",
       "      <td>автоматическая</td>\n",
       "      <td>2.0 LTR</td>\n",
       "      <td>184 N12</td>\n",
       "      <td>Продаётся BMW 5 F10 Рестайлинг\\n2 бережливых в...</td>\n",
       "      <td>98000.0</td>\n",
       "      <td>['[{\"name\":\"Комфорт\",\"values\":[\"Круиз-контроль...</td>\n",
       "      <td>задний</td>\n",
       "      <td>Левый</td>\n",
       "      <td>Не требует ремонта</td>\n",
       "      <td>3 или более</td>\n",
       "      <td>Оригинал</td>\n",
       "      <td>Растаможен</td>\n",
       "      <td>NaN</td>\n",
       "      <td>3832</td>\n",
       "    </tr>\n",
       "    <tr>\n",
       "      <th>3833</th>\n",
       "      <td>внедорожник 5 дв.</td>\n",
       "      <td>BMW</td>\n",
       "      <td>чёрный</td>\n",
       "      <td>дизель</td>\n",
       "      <td>2013.0</td>\n",
       "      <td>30d 3.0d AT (249 л.с.) 4WD</td>\n",
       "      <td>5.0</td>\n",
       "      <td>2016.0</td>\n",
       "      <td>ALLROAD_5_DOORS AUTOMATIC 3.0</td>\n",
       "      <td>автоматическая</td>\n",
       "      <td>3.0 LTR</td>\n",
       "      <td>249 N12</td>\n",
       "      <td>✪  ✪  ✪  ✪  ✪  ✪  ✪  ✪  ✪ ✪  ✪  ✪  ✪  ✪  ✪  ✪ ...</td>\n",
       "      <td>169615.0</td>\n",
       "      <td>['[{\"name\":\"Комфорт\",\"values\":[\"Круиз-контроль...</td>\n",
       "      <td>полный</td>\n",
       "      <td>Левый</td>\n",
       "      <td>Не требует ремонта</td>\n",
       "      <td>1 владелец</td>\n",
       "      <td>Оригинал</td>\n",
       "      <td>Растаможен</td>\n",
       "      <td>NaN</td>\n",
       "      <td>3833</td>\n",
       "    </tr>\n",
       "    <tr>\n",
       "      <th>3834</th>\n",
       "      <td>седан</td>\n",
       "      <td>BMW</td>\n",
       "      <td>чёрный</td>\n",
       "      <td>бензин</td>\n",
       "      <td>2002.0</td>\n",
       "      <td>525xi 2.5 AT (218 л.с.) 4WD</td>\n",
       "      <td>4.0</td>\n",
       "      <td>2006.0</td>\n",
       "      <td>SEDAN AUTOMATIC 2.5</td>\n",
       "      <td>автоматическая</td>\n",
       "      <td>2.5 LTR</td>\n",
       "      <td>218 N12</td>\n",
       "      <td>Продам полностью обслуженный автомобиль , сдел...</td>\n",
       "      <td>180000.0</td>\n",
       "      <td>['[{\"name\":\"Комфорт\",\"values\":[\"Круиз-контроль...</td>\n",
       "      <td>полный</td>\n",
       "      <td>Левый</td>\n",
       "      <td>Не требует ремонта</td>\n",
       "      <td>3 или более</td>\n",
       "      <td>Оригинал</td>\n",
       "      <td>Растаможен</td>\n",
       "      <td>1 год и 7 месяцев</td>\n",
       "      <td>3834</td>\n",
       "    </tr>\n",
       "    <tr>\n",
       "      <th>3835</th>\n",
       "      <td>седан</td>\n",
       "      <td>BMW</td>\n",
       "      <td>коричневый</td>\n",
       "      <td>бензин</td>\n",
       "      <td>2009.0</td>\n",
       "      <td>528i xDrive 2.0 AT (245 л.с.) 4WD</td>\n",
       "      <td>4.0</td>\n",
       "      <td>2012.0</td>\n",
       "      <td>SEDAN AUTOMATIC 2.0</td>\n",
       "      <td>автоматическая</td>\n",
       "      <td>2.0 LTR</td>\n",
       "      <td>245 N12</td>\n",
       "      <td>Продаю отличный авто. Полностью обслужен. Лучш...</td>\n",
       "      <td>137500.0</td>\n",
       "      <td>['[{\"name\":\"Комфорт\",\"values\":[\"Круиз-контроль...</td>\n",
       "      <td>полный</td>\n",
       "      <td>Левый</td>\n",
       "      <td>Не требует ремонта</td>\n",
       "      <td>3 или более</td>\n",
       "      <td>Оригинал</td>\n",
       "      <td>Растаможен</td>\n",
       "      <td>6 лет и 10 месяцев</td>\n",
       "      <td>3835</td>\n",
       "    </tr>\n",
       "    <tr>\n",
       "      <th>3836</th>\n",
       "      <td>внедорожник 5 дв.</td>\n",
       "      <td>BMW</td>\n",
       "      <td>чёрный</td>\n",
       "      <td>бензин</td>\n",
       "      <td>2007.0</td>\n",
       "      <td>50i 4.4 AT (407 л.с.) 4WD</td>\n",
       "      <td>5.0</td>\n",
       "      <td>2010.0</td>\n",
       "      <td>ALLROAD_5_DOORS AUTOMATIC 4.4</td>\n",
       "      <td>автоматическая</td>\n",
       "      <td>4.4 LTR</td>\n",
       "      <td>407 N12</td>\n",
       "      <td>Максимальная комплектация. 22.09.2019 сделано ...</td>\n",
       "      <td>89905.0</td>\n",
       "      <td>['[{\"name\":\"Комфорт\",\"values\":[\"Круиз-контроль...</td>\n",
       "      <td>полный</td>\n",
       "      <td>Левый</td>\n",
       "      <td>Не требует ремонта</td>\n",
       "      <td>1 владелец</td>\n",
       "      <td>Оригинал</td>\n",
       "      <td>Растаможен</td>\n",
       "      <td>7 лет и 5 месяцев</td>\n",
       "      <td>3836</td>\n",
       "    </tr>\n",
       "  </tbody>\n",
       "</table>\n",
       "<p>3837 rows × 23 columns</p>\n",
       "</div>"
      ],
      "text/plain": [
       "               bodyType brand       color fuelType  modelDate  \\\n",
       "0                 седан   BMW      чёрный   дизель     2016.0   \n",
       "1                 седан   BMW       белый   дизель     2018.0   \n",
       "2                 седан   BMW       синий   бензин     2009.0   \n",
       "3     внедорожник 5 дв.   BMW       белый   дизель     2014.0   \n",
       "4     внедорожник 5 дв.   BMW       синий   дизель     2014.0   \n",
       "...                 ...   ...         ...      ...        ...   \n",
       "3832              седан   BMW      чёрный   бензин     2013.0   \n",
       "3833  внедорожник 5 дв.   BMW      чёрный   дизель     2013.0   \n",
       "3834              седан   BMW      чёрный   бензин     2002.0   \n",
       "3835              седан   BMW  коричневый   бензин     2009.0   \n",
       "3836  внедорожник 5 дв.   BMW      чёрный   бензин     2007.0   \n",
       "\n",
       "                                   name  numberOfDoors  productionDate  \\\n",
       "0               520d 2.0d AT (190 л.с.)            4.0          2017.0   \n",
       "1               318d 2.0d AT (150 л.с.)            4.0          2019.0   \n",
       "2     550i xDrive 4.4 AT (407 л.с.) 4WD            4.0          2012.0   \n",
       "3            30d 3.0d AT (249 л.с.) 4WD            5.0          2015.0   \n",
       "4           M50d 3.0d AT (381 л.с.) 4WD            5.0          2019.0   \n",
       "...                                 ...            ...             ...   \n",
       "3832             520i 2.0 AT (184 л.с.)            4.0          2013.0   \n",
       "3833         30d 3.0d AT (249 л.с.) 4WD            5.0          2016.0   \n",
       "3834        525xi 2.5 AT (218 л.с.) 4WD            4.0          2006.0   \n",
       "3835  528i xDrive 2.0 AT (245 л.с.) 4WD            4.0          2012.0   \n",
       "3836          50i 4.4 AT (407 л.с.) 4WD            5.0          2010.0   \n",
       "\n",
       "               vehicleConfiguration vehicleTransmission engineDisplacement  \\\n",
       "0               SEDAN AUTOMATIC 2.0      автоматическая            2.0 LTR   \n",
       "1               SEDAN AUTOMATIC 2.0      автоматическая            2.0 LTR   \n",
       "2               SEDAN AUTOMATIC 4.4      автоматическая            4.4 LTR   \n",
       "3     ALLROAD_5_DOORS AUTOMATIC 3.0      автоматическая            3.0 LTR   \n",
       "4     ALLROAD_5_DOORS AUTOMATIC 3.0      автоматическая            3.0 LTR   \n",
       "...                             ...                 ...                ...   \n",
       "3832            SEDAN AUTOMATIC 2.0      автоматическая            2.0 LTR   \n",
       "3833  ALLROAD_5_DOORS AUTOMATIC 3.0      автоматическая            3.0 LTR   \n",
       "3834            SEDAN AUTOMATIC 2.5      автоматическая            2.5 LTR   \n",
       "3835            SEDAN AUTOMATIC 2.0      автоматическая            2.0 LTR   \n",
       "3836  ALLROAD_5_DOORS AUTOMATIC 4.4      автоматическая            4.4 LTR   \n",
       "\n",
       "     enginePower                                        description   mileage  \\\n",
       "0        190 N12  В РОЛЬФ Ясенево представлено более 500 автомоб...  158836.0   \n",
       "1        150 N12  Автомобиль из демонстрационного парка по спец ...      10.0   \n",
       "2        407 N12                  Машина собиралась под заказ! \\n\\n  120000.0   \n",
       "3        249 N12  АВТОМОБИЛЬ В БЕЗУПРЕЧНОМ ВНЕШНЕМ И ТЕХНИЧЕСКОМ...  111466.0   \n",
       "4        381 N12  Автомобиль не имеет собственников ( физ. лиц) ...   11891.0   \n",
       "...          ...                                                ...       ...   \n",
       "3832     184 N12  Продаётся BMW 5 F10 Рестайлинг\\n2 бережливых в...   98000.0   \n",
       "3833     249 N12  ✪  ✪  ✪  ✪  ✪  ✪  ✪  ✪  ✪ ✪  ✪  ✪  ✪  ✪  ✪  ✪ ...  169615.0   \n",
       "3834     218 N12  Продам полностью обслуженный автомобиль , сдел...  180000.0   \n",
       "3835     245 N12  Продаю отличный авто. Полностью обслужен. Лучш...  137500.0   \n",
       "3836     407 N12  Максимальная комплектация. 22.09.2019 сделано ...   89905.0   \n",
       "\n",
       "                                           Комплектация  Привод   Руль  \\\n",
       "0     ['[{\"name\":\"Безопасность\",\"values\":[\"Антипробу...  задний  Левый   \n",
       "1     ['[{\"name\":\"Комфорт\",\"values\":[\"Круиз-контроль...  задний  Левый   \n",
       "2     ['[{\"name\":\"Комфорт\",\"values\":[\"Круиз-контроль...  полный  Левый   \n",
       "3     ['[{\"name\":\"Комфорт\",\"values\":[\"Круиз-контроль...  полный  Левый   \n",
       "4     ['[{\"name\":\"Комфорт\",\"values\":[\"Круиз-контроль...  полный  Левый   \n",
       "...                                                 ...     ...    ...   \n",
       "3832  ['[{\"name\":\"Комфорт\",\"values\":[\"Круиз-контроль...  задний  Левый   \n",
       "3833  ['[{\"name\":\"Комфорт\",\"values\":[\"Круиз-контроль...  полный  Левый   \n",
       "3834  ['[{\"name\":\"Комфорт\",\"values\":[\"Круиз-контроль...  полный  Левый   \n",
       "3835  ['[{\"name\":\"Комфорт\",\"values\":[\"Круиз-контроль...  полный  Левый   \n",
       "3836  ['[{\"name\":\"Комфорт\",\"values\":[\"Круиз-контроль...  полный  Левый   \n",
       "\n",
       "               Состояние    Владельцы       ПТС     Таможня  \\\n",
       "0     Не требует ремонта   1 владелец  Оригинал  Растаможен   \n",
       "1     Не требует ремонта   1 владелец  Оригинал  Растаможен   \n",
       "2     Не требует ремонта  2 владельца  Оригинал  Растаможен   \n",
       "3     Не требует ремонта  2 владельца  Оригинал  Растаможен   \n",
       "4     Не требует ремонта   1 владелец  Оригинал  Растаможен   \n",
       "...                  ...          ...       ...         ...   \n",
       "3832  Не требует ремонта  3 или более  Оригинал  Растаможен   \n",
       "3833  Не требует ремонта   1 владелец  Оригинал  Растаможен   \n",
       "3834  Не требует ремонта  3 или более  Оригинал  Растаможен   \n",
       "3835  Не требует ремонта  3 или более  Оригинал  Растаможен   \n",
       "3836  Не требует ремонта   1 владелец  Оригинал  Растаможен   \n",
       "\n",
       "                Владение    id  \n",
       "0                    NaN     0  \n",
       "1                    NaN     1  \n",
       "2       7 лет и 2 месяца     2  \n",
       "3                    NaN     3  \n",
       "4                    NaN     4  \n",
       "...                  ...   ...  \n",
       "3832                 NaN  3832  \n",
       "3833                 NaN  3833  \n",
       "3834   1 год и 7 месяцев  3834  \n",
       "3835  6 лет и 10 месяцев  3835  \n",
       "3836   7 лет и 5 месяцев  3836  \n",
       "\n",
       "[3837 rows x 23 columns]"
      ]
     },
     "execution_count": 37,
     "metadata": {},
     "output_type": "execute_result"
    }
   ],
   "source": [
    "data_test"
   ]
  },
  {
   "cell_type": "code",
   "execution_count": 38,
   "metadata": {
    "execution": {
     "iopub.execute_input": "2020-12-01T15:01:06.378242Z",
     "iopub.status.busy": "2020-12-01T15:01:06.375419Z",
     "iopub.status.idle": "2020-12-01T15:01:06.431265Z",
     "shell.execute_reply": "2020-12-01T15:01:06.430159Z"
    },
    "papermill": {
     "duration": 0.246864,
     "end_time": "2020-12-01T15:01:06.431449",
     "exception": false,
     "start_time": "2020-12-01T15:01:06.184585",
     "status": "completed"
    },
    "tags": []
   },
   "outputs": [],
   "source": [
    "# engineDisplacement \n",
    "# Данная колонка имеет много значений которые невозможно представить в виде числа обозначающего объём двигателя в тренировочном датасете\n",
    "# удалим этот признак из трейна и теста\n",
    "data_test.drop(columns=['engineDisplacement'], inplace=True)\n",
    "df_train.drop(columns=['engineDisplacement'], inplace=True)"
   ]
  },
  {
   "cell_type": "code",
   "execution_count": 39,
   "metadata": {
    "execution": {
     "iopub.execute_input": "2020-12-01T15:01:06.821504Z",
     "iopub.status.busy": "2020-12-01T15:01:06.820316Z",
     "iopub.status.idle": "2020-12-01T15:01:06.823443Z",
     "shell.execute_reply": "2020-12-01T15:01:06.824052Z"
    },
    "papermill": {
     "duration": 0.20954,
     "end_time": "2020-12-01T15:01:06.824234",
     "exception": false,
     "start_time": "2020-12-01T15:01:06.614694",
     "status": "completed"
    },
    "tags": []
   },
   "outputs": [],
   "source": [
    "# enginePower\n",
    "# удалим приставку N12 из тестового датасета и изменим тип данных на целочисленный \n",
    "data_test['enginePower'] = data_test['enginePower'].apply(lambda x: int(x.split(' ')[0]))"
   ]
  },
  {
   "cell_type": "code",
   "execution_count": 40,
   "metadata": {
    "execution": {
     "iopub.execute_input": "2020-12-01T15:01:07.222975Z",
     "iopub.status.busy": "2020-12-01T15:01:07.195256Z",
     "iopub.status.idle": "2020-12-01T15:01:07.233027Z",
     "shell.execute_reply": "2020-12-01T15:01:07.232172Z"
    },
    "papermill": {
     "duration": 0.229408,
     "end_time": "2020-12-01T15:01:07.233159",
     "exception": false,
     "start_time": "2020-12-01T15:01:07.003751",
     "status": "completed"
    },
    "tags": []
   },
   "outputs": [],
   "source": [
    "# Руль\n",
    "df_train['Руль'] = df_train['Руль'].map({'LEFT':'Левый','RIGHT':'Правый'})"
   ]
  },
  {
   "cell_type": "code",
   "execution_count": 41,
   "metadata": {
    "execution": {
     "iopub.execute_input": "2020-12-01T15:01:07.661796Z",
     "iopub.status.busy": "2020-12-01T15:01:07.599428Z",
     "iopub.status.idle": "2020-12-01T15:01:07.667965Z",
     "shell.execute_reply": "2020-12-01T15:01:07.667259Z"
    },
    "papermill": {
     "duration": 0.252825,
     "end_time": "2020-12-01T15:01:07.668116",
     "exception": false,
     "start_time": "2020-12-01T15:01:07.415291",
     "status": "completed"
    },
    "tags": []
   },
   "outputs": [],
   "source": [
    "# Состояние\n",
    "df_train.drop(columns=['Состояние'], inplace=True)\n",
    "data_test.drop(columns=['Состояние'], inplace=True)"
   ]
  },
  {
   "cell_type": "code",
   "execution_count": 42,
   "metadata": {
    "execution": {
     "iopub.execute_input": "2020-12-01T15:01:08.074272Z",
     "iopub.status.busy": "2020-12-01T15:01:08.067005Z",
     "iopub.status.idle": "2020-12-01T15:01:08.078063Z",
     "shell.execute_reply": "2020-12-01T15:01:08.077333Z"
    },
    "papermill": {
     "duration": 0.231245,
     "end_time": "2020-12-01T15:01:08.078196",
     "exception": false,
     "start_time": "2020-12-01T15:01:07.846951",
     "status": "completed"
    },
    "tags": []
   },
   "outputs": [],
   "source": [
    "# ПТС\n",
    "df_train['ПТС'] = df_train['ПТС'].map({'ORIGINAL':'Оригинал', 'DUPLICATE':'Дупликат'})"
   ]
  },
  {
   "cell_type": "code",
   "execution_count": 43,
   "metadata": {
    "execution": {
     "iopub.execute_input": "2020-12-01T15:01:08.455929Z",
     "iopub.status.busy": "2020-12-01T15:01:08.454833Z",
     "iopub.status.idle": "2020-12-01T15:01:08.459539Z",
     "shell.execute_reply": "2020-12-01T15:01:08.457862Z"
    },
    "papermill": {
     "duration": 0.200165,
     "end_time": "2020-12-01T15:01:08.459736",
     "exception": false,
     "start_time": "2020-12-01T15:01:08.259571",
     "status": "completed"
    },
    "tags": []
   },
   "outputs": [],
   "source": [
    "# Владельцы\n",
    "data_test['Владельцы'] = data_test['Владельцы'].map({'1\\xa0владелец':1, '2\\xa0владельца':2, '3 или более':3})"
   ]
  },
  {
   "cell_type": "code",
   "execution_count": 44,
   "metadata": {
    "execution": {
     "iopub.execute_input": "2020-12-01T15:01:08.988550Z",
     "iopub.status.busy": "2020-12-01T15:01:08.987270Z",
     "iopub.status.idle": "2020-12-01T15:01:08.993077Z",
     "shell.execute_reply": "2020-12-01T15:01:08.992195Z"
    },
    "papermill": {
     "duration": 0.247526,
     "end_time": "2020-12-01T15:01:08.993221",
     "exception": false,
     "start_time": "2020-12-01T15:01:08.745695",
     "status": "completed"
    },
    "tags": []
   },
   "outputs": [
    {
     "data": {
      "text/plain": [
       "Index(['bodyType', 'brand', 'color', 'fuelType', 'modelDate', 'name',\n",
       "       'numberOfDoors', 'productionDate', 'vehicleConfiguration',\n",
       "       'vehicleTransmission', 'enginePower', 'description', 'mileage',\n",
       "       'Комплектация', 'Привод', 'Руль', 'Владельцы', 'ПТС', 'Таможня',\n",
       "       'Владение', 'id'],\n",
       "      dtype='object')"
      ]
     },
     "execution_count": 44,
     "metadata": {},
     "output_type": "execute_result"
    }
   ],
   "source": [
    "data_test.columns"
   ]
  },
  {
   "cell_type": "code",
   "execution_count": 45,
   "metadata": {
    "execution": {
     "iopub.execute_input": "2020-12-01T15:01:09.379440Z",
     "iopub.status.busy": "2020-12-01T15:01:09.378285Z",
     "iopub.status.idle": "2020-12-01T15:01:09.383579Z",
     "shell.execute_reply": "2020-12-01T15:01:09.382878Z"
    },
    "papermill": {
     "duration": 0.201137,
     "end_time": "2020-12-01T15:01:09.383718",
     "exception": false,
     "start_time": "2020-12-01T15:01:09.182581",
     "status": "completed"
    },
    "tags": []
   },
   "outputs": [
    {
     "data": {
      "text/plain": [
       "Index(['bodyType', 'brand', 'color', 'fuelType', 'modelDate', 'name',\n",
       "       'numberOfDoors', 'productionDate', 'vehicleConfiguration',\n",
       "       'vehicleTransmission', 'enginePower', 'description', 'mileage',\n",
       "       'Комплектация', 'Привод', 'Руль', 'Владельцы', 'ПТС', 'Таможня',\n",
       "       'Владение', 'id', 'price', 'model'],\n",
       "      dtype='object')"
      ]
     },
     "execution_count": 45,
     "metadata": {},
     "output_type": "execute_result"
    }
   ],
   "source": [
    "df_train.columns"
   ]
  },
  {
   "cell_type": "markdown",
   "metadata": {
    "papermill": {
     "duration": 0.197707,
     "end_time": "2020-12-01T15:01:09.769225",
     "exception": false,
     "start_time": "2020-12-01T15:01:09.571518",
     "status": "completed"
    },
    "tags": []
   },
   "source": [
    "### 6. Объединение датасетов в один"
   ]
  },
  {
   "cell_type": "code",
   "execution_count": 46,
   "metadata": {
    "execution": {
     "iopub.execute_input": "2020-12-01T15:01:10.157217Z",
     "iopub.status.busy": "2020-12-01T15:01:10.156204Z",
     "iopub.status.idle": "2020-12-01T15:01:10.298353Z",
     "shell.execute_reply": "2020-12-01T15:01:10.297578Z"
    },
    "papermill": {
     "duration": 0.344993,
     "end_time": "2020-12-01T15:01:10.298537",
     "exception": false,
     "start_time": "2020-12-01T15:01:09.953544",
     "status": "completed"
    },
    "tags": []
   },
   "outputs": [],
   "source": [
    "df_train['Train'] = 1\n",
    "data_test['Train'] = 0\n",
    "df = df_train.append(data_test, sort=False).reset_index(drop=True)"
   ]
  },
  {
   "cell_type": "markdown",
   "metadata": {
    "papermill": {
     "duration": 0.181148,
     "end_time": "2020-12-01T15:01:10.670461",
     "exception": false,
     "start_time": "2020-12-01T15:01:10.489313",
     "status": "completed"
    },
    "tags": []
   },
   "source": [
    "# Часть 2"
   ]
  },
  {
   "cell_type": "markdown",
   "metadata": {
    "papermill": {
     "duration": 0.212154,
     "end_time": "2020-12-01T15:01:11.099224",
     "exception": false,
     "start_time": "2020-12-01T15:01:10.887070",
     "status": "completed"
    },
    "tags": []
   },
   "source": [
    "### 7. Анализ данных"
   ]
  },
  {
   "cell_type": "code",
   "execution_count": 47,
   "metadata": {
    "execution": {
     "iopub.execute_input": "2020-12-01T15:01:11.479306Z",
     "iopub.status.busy": "2020-12-01T15:01:11.478233Z",
     "iopub.status.idle": "2020-12-01T15:01:11.979411Z",
     "shell.execute_reply": "2020-12-01T15:01:11.975509Z"
    },
    "papermill": {
     "duration": 0.691398,
     "end_time": "2020-12-01T15:01:11.979682",
     "exception": false,
     "start_time": "2020-12-01T15:01:11.288284",
     "status": "completed"
    },
    "tags": []
   },
   "outputs": [
    {
     "name": "stdout",
     "output_type": "stream",
     "text": [
      "<class 'pandas.core.frame.DataFrame'>\n",
      "RangeIndex: 77931 entries, 0 to 77930\n",
      "Data columns (total 24 columns):\n",
      " #   Column                Non-Null Count  Dtype \n",
      "---  ------                --------------  ----- \n",
      " 0   bodyType              77929 non-null  object\n",
      " 1   brand                 77931 non-null  object\n",
      " 2   color                 77931 non-null  object\n",
      " 3   fuelType              77931 non-null  object\n",
      " 4   modelDate             77929 non-null  object\n",
      " 5   name                  77929 non-null  object\n",
      " 6   numberOfDoors         77929 non-null  object\n",
      " 7   productionDate        77931 non-null  object\n",
      " 8   vehicleConfiguration  77929 non-null  object\n",
      " 9   vehicleTransmission   77929 non-null  object\n",
      " 10  enginePower           77929 non-null  object\n",
      " 11  description           75128 non-null  object\n",
      " 12  mileage               77931 non-null  object\n",
      " 13  Комплектация          77931 non-null  object\n",
      " 14  Привод                77929 non-null  object\n",
      " 15  Руль                  77931 non-null  object\n",
      " 16  Владельцы             61113 non-null  object\n",
      " 17  ПТС                   77480 non-null  object\n",
      " 18  Таможня               77931 non-null  object\n",
      " 19  Владение              20158 non-null  object\n",
      " 20  id                    77931 non-null  object\n",
      " 21  price                 73831 non-null  object\n",
      " 22  model                 74094 non-null  object\n",
      " 23  Train                 77931 non-null  int64 \n",
      "dtypes: int64(1), object(23)\n",
      "memory usage: 14.3+ MB\n"
     ]
    }
   ],
   "source": [
    "df.info()"
   ]
  },
  {
   "cell_type": "markdown",
   "metadata": {
    "papermill": {
     "duration": 0.185239,
     "end_time": "2020-12-01T15:01:12.351626",
     "exception": false,
     "start_time": "2020-12-01T15:01:12.166387",
     "status": "completed"
    },
    "tags": []
   },
   "source": [
    "Итого имеем 24 признака с общим количеством строк 74544 из которых test - 3837 сток, train - 70707 строк.\n",
    "Пердварительно опредеённые типы признаков:\n",
    "    - 5 числовых: mileage, modelDate, productionDate, enginePower (один из них id - сервисный для генерации submition)\n",
    "    - 18 - категориальных(в дальнейшем определим более точно тип каждого из этих признаков)\n",
    "    - price - целевая переменная"
   ]
  },
  {
   "cell_type": "markdown",
   "metadata": {
    "papermill": {
     "duration": 0.186668,
     "end_time": "2020-12-01T15:01:12.723591",
     "exception": false,
     "start_time": "2020-12-01T15:01:12.536923",
     "status": "completed"
    },
    "tags": []
   },
   "source": [
    "Так как признаков много создадим переменную для хранения названий признаков которые уже обработаны и готовы к использованию для обучения."
   ]
  },
  {
   "cell_type": "code",
   "execution_count": 48,
   "metadata": {
    "execution": {
     "iopub.execute_input": "2020-12-01T15:01:13.098335Z",
     "iopub.status.busy": "2020-12-01T15:01:13.097189Z",
     "iopub.status.idle": "2020-12-01T15:01:13.100545Z",
     "shell.execute_reply": "2020-12-01T15:01:13.099774Z"
    },
    "papermill": {
     "duration": 0.192313,
     "end_time": "2020-12-01T15:01:13.100679",
     "exception": false,
     "start_time": "2020-12-01T15:01:12.908366",
     "status": "completed"
    },
    "tags": []
   },
   "outputs": [],
   "source": [
    "EDA_done_cols = []"
   ]
  },
  {
   "cell_type": "markdown",
   "metadata": {
    "papermill": {
     "duration": 0.189833,
     "end_time": "2020-12-01T15:01:13.477842",
     "exception": false,
     "start_time": "2020-12-01T15:01:13.288009",
     "status": "completed"
    },
    "tags": []
   },
   "source": [
    "#### 7.1 bodyType"
   ]
  },
  {
   "cell_type": "code",
   "execution_count": 49,
   "metadata": {
    "execution": {
     "iopub.execute_input": "2020-12-01T15:01:13.854009Z",
     "iopub.status.busy": "2020-12-01T15:01:13.853158Z",
     "iopub.status.idle": "2020-12-01T15:01:13.955794Z",
     "shell.execute_reply": "2020-12-01T15:01:13.954972Z"
    },
    "papermill": {
     "duration": 0.294211,
     "end_time": "2020-12-01T15:01:13.956058",
     "exception": false,
     "start_time": "2020-12-01T15:01:13.661847",
     "status": "completed"
    },
    "tags": []
   },
   "outputs": [
    {
     "name": "stdout",
     "output_type": "stream",
     "text": [
      "Всего в тесте типов кузова:= 11\n",
      "Всего в трейне типов кузова:= 171\n"
     ]
    }
   ],
   "source": [
    "temp_df_Train = df[df['Train']==1]\n",
    "temp_df_Test = df[df['Train']==0]\n",
    "print(f'Всего в тесте типов кузова:= {temp_df_Test.bodyType.nunique()}')\n",
    "print(f'Всего в трейне типов кузова:= {temp_df_Train.bodyType.nunique()}')"
   ]
  },
  {
   "cell_type": "code",
   "execution_count": 50,
   "metadata": {
    "execution": {
     "iopub.execute_input": "2020-12-01T15:01:14.338298Z",
     "iopub.status.busy": "2020-12-01T15:01:14.337032Z",
     "iopub.status.idle": "2020-12-01T15:01:14.357142Z",
     "shell.execute_reply": "2020-12-01T15:01:14.356377Z"
    },
    "papermill": {
     "duration": 0.214281,
     "end_time": "2020-12-01T15:01:14.357293",
     "exception": false,
     "start_time": "2020-12-01T15:01:14.143012",
     "status": "completed"
    },
    "tags": []
   },
   "outputs": [
    {
     "name": "stdout",
     "output_type": "stream",
     "text": [
      "Список 11 типов кузовов из теста:= ['седан' 'внедорожник 5 дв.' 'хэтчбек 3 дв.' 'хэтчбек 5 дв.' 'купе'\n",
      " 'родстер' 'лифтбек' 'универсал 5 дв.' 'кабриолет' 'седан 2 дв.'\n",
      " 'компактвэн']\n",
      "Список первых 20 из 170 типов кузова из трейна:= ['седан' 'универсал 5 дв.' 'хэтчбек 5 дв. sportback' 'хэтчбек 3 дв.'\n",
      " 'хэтчбек 5 дв.' 'кабриолет' 'купе' 'лифтбек sportback' 'лифтбек'\n",
      " 'седан long' 'внедорожник 5 дв.' 'кабриолет roadster' 'седан 2 дв.'\n",
      " 'седан gran coupe' 'компактвэн' 'компактвэн gran tourer'\n",
      " 'лифтбек gran turismo' 'хэтчбек 3 дв. compact' 'лифтбек gran coupe'\n",
      " 'купе-хардтоп']\n"
     ]
    }
   ],
   "source": [
    "# посмотрим на них \n",
    "print(f'Список 11 типов кузовов из теста:= {temp_df_Test.bodyType.unique()}')\n",
    "print(f'Список первых 20 из 170 типов кузова из трейна:= {temp_df_Train.bodyType.unique()[:20]}')"
   ]
  },
  {
   "cell_type": "code",
   "execution_count": 51,
   "metadata": {
    "execution": {
     "iopub.execute_input": "2020-12-01T15:01:14.743770Z",
     "iopub.status.busy": "2020-12-01T15:01:14.742231Z",
     "iopub.status.idle": "2020-12-01T15:01:14.808784Z",
     "shell.execute_reply": "2020-12-01T15:01:14.808077Z"
    },
    "papermill": {
     "duration": 0.265586,
     "end_time": "2020-12-01T15:01:14.808917",
     "exception": false,
     "start_time": "2020-12-01T15:01:14.543331",
     "status": "completed"
    },
    "tags": []
   },
   "outputs": [],
   "source": [
    "# оставим только типы кузова из тестового набора данных\n",
    "list_bodyType_test = list(temp_df_Test.bodyType.unique())\n",
    "df = df[df['bodyType'].isin(list_bodyType_test)]"
   ]
  },
  {
   "cell_type": "code",
   "execution_count": 52,
   "metadata": {
    "execution": {
     "iopub.execute_input": "2020-12-01T15:01:15.183312Z",
     "iopub.status.busy": "2020-12-01T15:01:15.182193Z",
     "iopub.status.idle": "2020-12-01T15:01:15.185986Z",
     "shell.execute_reply": "2020-12-01T15:01:15.185333Z"
    },
    "papermill": {
     "duration": 0.193233,
     "end_time": "2020-12-01T15:01:15.186127",
     "exception": false,
     "start_time": "2020-12-01T15:01:14.992894",
     "status": "completed"
    },
    "tags": []
   },
   "outputs": [],
   "source": [
    "EDA_done_cols.append('bodyType')"
   ]
  },
  {
   "cell_type": "markdown",
   "metadata": {
    "papermill": {
     "duration": 0.182947,
     "end_time": "2020-12-01T15:01:15.560086",
     "exception": false,
     "start_time": "2020-12-01T15:01:15.377139",
     "status": "completed"
    },
    "tags": []
   },
   "source": [
    "bodyType - категориальный признак. Оставили 11 типов кузовов так как эти типы сильно отличаются в трейне и тесте. После EDA проверим достаточно ли у нас данных и при необходимости детально проанализируем оставшиеся названия признака. Пропусков нет."
   ]
  },
  {
   "cell_type": "markdown",
   "metadata": {
    "papermill": {
     "duration": 0.186141,
     "end_time": "2020-12-01T15:01:15.934463",
     "exception": false,
     "start_time": "2020-12-01T15:01:15.748322",
     "status": "completed"
    },
    "tags": []
   },
   "source": [
    "#### 7.2 name"
   ]
  },
  {
   "cell_type": "markdown",
   "metadata": {
    "papermill": {
     "duration": 0.184651,
     "end_time": "2020-12-01T15:01:16.304989",
     "exception": false,
     "start_time": "2020-12-01T15:01:16.120338",
     "status": "completed"
    },
    "tags": []
   },
   "source": [
    "В этом признаке представленая информация которая уже содержится в признаках enginePower, vehicleTransmission и vehicleConfiguration. Удалим этот признак "
   ]
  },
  {
   "cell_type": "code",
   "execution_count": 53,
   "metadata": {
    "execution": {
     "iopub.execute_input": "2020-12-01T15:01:16.698277Z",
     "iopub.status.busy": "2020-12-01T15:01:16.697445Z",
     "iopub.status.idle": "2020-12-01T15:01:16.765686Z",
     "shell.execute_reply": "2020-12-01T15:01:16.764869Z"
    },
    "papermill": {
     "duration": 0.276657,
     "end_time": "2020-12-01T15:01:16.765829",
     "exception": false,
     "start_time": "2020-12-01T15:01:16.489172",
     "status": "completed"
    },
    "tags": []
   },
   "outputs": [],
   "source": [
    "df.drop(columns=['name'], inplace=True)"
   ]
  },
  {
   "cell_type": "markdown",
   "metadata": {
    "papermill": {
     "duration": 0.182916,
     "end_time": "2020-12-01T15:01:17.131225",
     "exception": false,
     "start_time": "2020-12-01T15:01:16.948309",
     "status": "completed"
    },
    "tags": []
   },
   "source": [
    "#### 7.3 vehicleConfiguration"
   ]
  },
  {
   "cell_type": "markdown",
   "metadata": {
    "papermill": {
     "duration": 0.206521,
     "end_time": "2020-12-01T15:01:17.548952",
     "exception": false,
     "start_time": "2020-12-01T15:01:17.342431",
     "status": "completed"
    },
    "tags": []
   },
   "source": [
    "Информацию из этого признака можно разделить на 2: тип кузова и объём двигателя. Это значит что информация о типе кузова уже представлена в признаке bodyType, а информация об объёме двигателя во внимание принимать не будем так как есть много значения марки BMW которые представлены не объёмом двигателя а маркировкой производителя. Принимаем решение об удалении этого признака."
   ]
  },
  {
   "cell_type": "code",
   "execution_count": 54,
   "metadata": {
    "execution": {
     "iopub.execute_input": "2020-12-01T15:01:17.924014Z",
     "iopub.status.busy": "2020-12-01T15:01:17.923137Z",
     "iopub.status.idle": "2020-12-01T15:01:17.988198Z",
     "shell.execute_reply": "2020-12-01T15:01:17.987418Z"
    },
    "papermill": {
     "duration": 0.256192,
     "end_time": "2020-12-01T15:01:17.988327",
     "exception": false,
     "start_time": "2020-12-01T15:01:17.732135",
     "status": "completed"
    },
    "tags": []
   },
   "outputs": [],
   "source": [
    "df.drop(columns=['vehicleConfiguration'], inplace=True)"
   ]
  },
  {
   "cell_type": "markdown",
   "metadata": {
    "papermill": {
     "duration": 0.18495,
     "end_time": "2020-12-01T15:01:18.356634",
     "exception": false,
     "start_time": "2020-12-01T15:01:18.171684",
     "status": "completed"
    },
    "tags": []
   },
   "source": [
    "#### 7.4 enginePower"
   ]
  },
  {
   "cell_type": "code",
   "execution_count": 55,
   "metadata": {
    "execution": {
     "iopub.execute_input": "2020-12-01T15:01:18.743657Z",
     "iopub.status.busy": "2020-12-01T15:01:18.742580Z",
     "iopub.status.idle": "2020-12-01T15:01:18.802723Z",
     "shell.execute_reply": "2020-12-01T15:01:18.801278Z"
    },
    "papermill": {
     "duration": 0.259549,
     "end_time": "2020-12-01T15:01:18.802959",
     "exception": false,
     "start_time": "2020-12-01T15:01:18.543410",
     "status": "completed"
    },
    "tags": []
   },
   "outputs": [
    {
     "name": "stdout",
     "output_type": "stream",
     "text": [
      "Mean: 179.18653541336448\n",
      "Median: 150.0\n",
      "Min: 11\n",
      "Max: 800\n"
     ]
    }
   ],
   "source": [
    "print('Mean:', df['enginePower'].mean())\n",
    "print('Median:', df['enginePower'].median())\n",
    "print('Min:', df['enginePower'].min())\n",
    "print('Max:', df['enginePower'].max())"
   ]
  },
  {
   "cell_type": "markdown",
   "metadata": {
    "papermill": {
     "duration": 0.185358,
     "end_time": "2020-12-01T15:01:19.172734",
     "exception": false,
     "start_time": "2020-12-01T15:01:18.987376",
     "status": "completed"
    },
    "tags": []
   },
   "source": [
    "Видим что минимальное значение мощности слишком маленькое. Посмотрим на данные метрики в тесте"
   ]
  },
  {
   "cell_type": "code",
   "execution_count": 56,
   "metadata": {
    "execution": {
     "iopub.execute_input": "2020-12-01T15:01:19.552595Z",
     "iopub.status.busy": "2020-12-01T15:01:19.551737Z",
     "iopub.status.idle": "2020-12-01T15:01:19.581384Z",
     "shell.execute_reply": "2020-12-01T15:01:19.580509Z"
    },
    "papermill": {
     "duration": 0.221702,
     "end_time": "2020-12-01T15:01:19.581559",
     "exception": false,
     "start_time": "2020-12-01T15:01:19.359857",
     "status": "completed"
    },
    "tags": []
   },
   "outputs": [
    {
     "name": "stdout",
     "output_type": "stream",
     "text": [
      "Mean: 242.5457388584832\n",
      "Median: 231.0\n",
      "Min: 90\n",
      "Max: 625\n"
     ]
    }
   ],
   "source": [
    "print('Mean:', df[df.Train == 0]['enginePower'].mean())\n",
    "print('Median:', df[df.Train == 0]['enginePower'].median())\n",
    "print('Min:', df[df.Train == 0]['enginePower'].min())\n",
    "print('Max:', df[df.Train == 0]['enginePower'].max())"
   ]
  },
  {
   "cell_type": "code",
   "execution_count": 57,
   "metadata": {
    "execution": {
     "iopub.execute_input": "2020-12-01T15:01:19.967328Z",
     "iopub.status.busy": "2020-12-01T15:01:19.956698Z",
     "iopub.status.idle": "2020-12-01T15:01:20.416121Z",
     "shell.execute_reply": "2020-12-01T15:01:20.416702Z"
    },
    "papermill": {
     "duration": 0.649483,
     "end_time": "2020-12-01T15:01:20.416875",
     "exception": false,
     "start_time": "2020-12-01T15:01:19.767392",
     "status": "completed"
    },
    "tags": []
   },
   "outputs": [
    {
     "data": {
      "text/plain": [
       "<matplotlib.axes._subplots.AxesSubplot at 0x7f8659ddb8d0>"
      ]
     },
     "execution_count": 57,
     "metadata": {},
     "output_type": "execute_result"
    },
    {
     "data": {
      "image/png": "[encoded data removed]",
      "text/plain": [
       "<Figure size 432x288 with 1 Axes>"
      ]
     },
     "metadata": {
      "needs_background": "light"
     },
     "output_type": "display_data"
    }
   ],
   "source": [
    "df[(df['Train']==1) & (df['enginePower']<90)]['brand'].value_counts().plot(kind = 'barh', title='Cтатистика по маркам автомобилей с мощностью менее 90 л.с.')"
   ]
  },
  {
   "cell_type": "code",
   "execution_count": 58,
   "metadata": {
    "execution": {
     "iopub.execute_input": "2020-12-01T15:01:20.800027Z",
     "iopub.status.busy": "2020-12-01T15:01:20.799102Z",
     "iopub.status.idle": "2020-12-01T15:01:20.971809Z",
     "shell.execute_reply": "2020-12-01T15:01:20.971155Z"
    },
    "papermill": {
     "duration": 0.367049,
     "end_time": "2020-12-01T15:01:20.971951",
     "exception": false,
     "start_time": "2020-12-01T15:01:20.604902",
     "status": "completed"
    },
    "tags": []
   },
   "outputs": [
    {
     "data": {
      "text/plain": [
       "<matplotlib.axes._subplots.AxesSubplot at 0x7f8659b45410>"
      ]
     },
     "execution_count": 58,
     "metadata": {},
     "output_type": "execute_result"
    },
    {
     "data": {
      "image/png": "[encoded data removed]",
      "text/plain": [
       "<Figure size 432x288 with 1 Axes>"
      ]
     },
     "metadata": {
      "needs_background": "light"
     },
     "output_type": "display_data"
    }
   ],
   "source": [
    "df[(df['Train']==1) & (df['enginePower']>625)]['brand'].value_counts().plot(kind = 'barh', title='Cтатистика по маркам автомобилей с мощностью более 625 л.с.')"
   ]
  },
  {
   "cell_type": "markdown",
   "metadata": {
    "papermill": {
     "duration": 0.190054,
     "end_time": "2020-12-01T15:01:21.353954",
     "exception": false,
     "start_time": "2020-12-01T15:01:21.163900",
     "status": "completed"
    },
    "tags": []
   },
   "source": [
    "Видим что таких значений не много, удалим их для того чтобы уменьшить количесво вывросов данных"
   ]
  },
  {
   "cell_type": "code",
   "execution_count": 59,
   "metadata": {
    "execution": {
     "iopub.execute_input": "2020-12-01T15:01:21.759416Z",
     "iopub.status.busy": "2020-12-01T15:01:21.758035Z",
     "iopub.status.idle": "2020-12-01T15:01:21.821066Z",
     "shell.execute_reply": "2020-12-01T15:01:21.820234Z"
    },
    "papermill": {
     "duration": 0.277583,
     "end_time": "2020-12-01T15:01:21.821208",
     "exception": false,
     "start_time": "2020-12-01T15:01:21.543625",
     "status": "completed"
    },
    "tags": []
   },
   "outputs": [],
   "source": [
    "df=df[(df['enginePower']<=625) & (df['enginePower']>=90)]"
   ]
  },
  {
   "cell_type": "code",
   "execution_count": 60,
   "metadata": {
    "execution": {
     "iopub.execute_input": "2020-12-01T15:01:22.217256Z",
     "iopub.status.busy": "2020-12-01T15:01:22.216359Z",
     "iopub.status.idle": "2020-12-01T15:01:22.463808Z",
     "shell.execute_reply": "2020-12-01T15:01:22.463078Z"
    },
    "papermill": {
     "duration": 0.447062,
     "end_time": "2020-12-01T15:01:22.463954",
     "exception": false,
     "start_time": "2020-12-01T15:01:22.016892",
     "status": "completed"
    },
    "tags": []
   },
   "outputs": [
    {
     "data": {
      "text/plain": [
       "<matplotlib.axes._subplots.AxesSubplot at 0x7f8659aacc90>"
      ]
     },
     "execution_count": 60,
     "metadata": {},
     "output_type": "execute_result"
    },
    {
     "data": {
      "image/png": "[encoded data removed]",
      "text/plain": [
       "<Figure size 432x288 with 1 Axes>"
      ]
     },
     "metadata": {
      "needs_background": "light"
     },
     "output_type": "display_data"
    }
   ],
   "source": [
    "df['enginePower'].hist()"
   ]
  },
  {
   "cell_type": "code",
   "execution_count": 61,
   "metadata": {
    "execution": {
     "iopub.execute_input": "2020-12-01T15:01:22.856351Z",
     "iopub.status.busy": "2020-12-01T15:01:22.855434Z",
     "iopub.status.idle": "2020-12-01T15:01:22.895397Z",
     "shell.execute_reply": "2020-12-01T15:01:22.894520Z"
    },
    "papermill": {
     "duration": 0.243241,
     "end_time": "2020-12-01T15:01:22.895564",
     "exception": false,
     "start_time": "2020-12-01T15:01:22.652323",
     "status": "completed"
    },
    "tags": []
   },
   "outputs": [],
   "source": [
    "df['enginePower'] = df['enginePower'].astype('int64')"
   ]
  },
  {
   "cell_type": "code",
   "execution_count": 62,
   "metadata": {
    "execution": {
     "iopub.execute_input": "2020-12-01T15:01:23.285207Z",
     "iopub.status.busy": "2020-12-01T15:01:23.284276Z",
     "iopub.status.idle": "2020-12-01T15:01:23.438795Z",
     "shell.execute_reply": "2020-12-01T15:01:23.437999Z"
    },
    "papermill": {
     "duration": 0.34985,
     "end_time": "2020-12-01T15:01:23.438945",
     "exception": false,
     "start_time": "2020-12-01T15:01:23.089095",
     "status": "completed"
    },
    "tags": []
   },
   "outputs": [
    {
     "data": {
      "text/plain": [
       "<matplotlib.axes._subplots.AxesSubplot at 0x7f8659a428d0>"
      ]
     },
     "execution_count": 62,
     "metadata": {},
     "output_type": "execute_result"
    },
    {
     "data": {
      "image/png": "[encoded data removed]",
      "text/plain": [
       "<Figure size 432x288 with 1 Axes>"
      ]
     },
     "metadata": {
      "needs_background": "light"
     },
     "output_type": "display_data"
    }
   ],
   "source": [
    "df.boxplot(column='enginePower')"
   ]
  },
  {
   "cell_type": "code",
   "execution_count": 63,
   "metadata": {
    "execution": {
     "iopub.execute_input": "2020-12-01T15:01:23.824427Z",
     "iopub.status.busy": "2020-12-01T15:01:23.823443Z",
     "iopub.status.idle": "2020-12-01T15:01:23.826807Z",
     "shell.execute_reply": "2020-12-01T15:01:23.826123Z"
    },
    "papermill": {
     "duration": 0.198026,
     "end_time": "2020-12-01T15:01:23.826968",
     "exception": false,
     "start_time": "2020-12-01T15:01:23.628942",
     "status": "completed"
    },
    "tags": []
   },
   "outputs": [],
   "source": [
    "EDA_done_cols.append('enginePower')"
   ]
  },
  {
   "cell_type": "markdown",
   "metadata": {
    "papermill": {
     "duration": 0.192668,
     "end_time": "2020-12-01T15:01:24.213233",
     "exception": false,
     "start_time": "2020-12-01T15:01:24.020565",
     "status": "completed"
    },
    "tags": []
   },
   "source": [
    "Итого обратали признак enginePower и уменьшили количество выбросов."
   ]
  },
  {
   "cell_type": "markdown",
   "metadata": {
    "papermill": {
     "duration": 0.190498,
     "end_time": "2020-12-01T15:01:24.597287",
     "exception": false,
     "start_time": "2020-12-01T15:01:24.406789",
     "status": "completed"
    },
    "tags": []
   },
   "source": [
    "#### 7.5 numberOfDoors"
   ]
  },
  {
   "cell_type": "code",
   "execution_count": 64,
   "metadata": {
    "execution": {
     "iopub.execute_input": "2020-12-01T15:01:24.987972Z",
     "iopub.status.busy": "2020-12-01T15:01:24.986969Z",
     "iopub.status.idle": "2020-12-01T15:01:25.026500Z",
     "shell.execute_reply": "2020-12-01T15:01:25.025694Z"
    },
    "papermill": {
     "duration": 0.240008,
     "end_time": "2020-12-01T15:01:25.026638",
     "exception": false,
     "start_time": "2020-12-01T15:01:24.786630",
     "status": "completed"
    },
    "tags": []
   },
   "outputs": [],
   "source": [
    "# изменим тип занчений этого признака на int64\n",
    "df['numberOfDoors'] = df['numberOfDoors'].astype('int64')"
   ]
  },
  {
   "cell_type": "code",
   "execution_count": 65,
   "metadata": {
    "execution": {
     "iopub.execute_input": "2020-12-01T15:01:25.416720Z",
     "iopub.status.busy": "2020-12-01T15:01:25.415743Z",
     "iopub.status.idle": "2020-12-01T15:01:25.419735Z",
     "shell.execute_reply": "2020-12-01T15:01:25.419085Z"
    },
    "papermill": {
     "duration": 0.20191,
     "end_time": "2020-12-01T15:01:25.419880",
     "exception": false,
     "start_time": "2020-12-01T15:01:25.217970",
     "status": "completed"
    },
    "tags": []
   },
   "outputs": [],
   "source": [
    "EDA_done_cols.append('numberOfDoors')"
   ]
  },
  {
   "cell_type": "markdown",
   "metadata": {
    "papermill": {
     "duration": 0.250702,
     "end_time": "2020-12-01T15:01:25.862729",
     "exception": false,
     "start_time": "2020-12-01T15:01:25.612027",
     "status": "completed"
    },
    "tags": []
   },
   "source": [
    "В данном признаке больше нет других проблем. Оставим его как есть."
   ]
  },
  {
   "cell_type": "markdown",
   "metadata": {
    "papermill": {
     "duration": 0.190414,
     "end_time": "2020-12-01T15:01:26.245222",
     "exception": false,
     "start_time": "2020-12-01T15:01:26.054808",
     "status": "completed"
    },
    "tags": []
   },
   "source": [
    "#### 7.6 mileage"
   ]
  },
  {
   "cell_type": "code",
   "execution_count": 66,
   "metadata": {
    "execution": {
     "iopub.execute_input": "2020-12-01T15:01:26.647510Z",
     "iopub.status.busy": "2020-12-01T15:01:26.645826Z",
     "iopub.status.idle": "2020-12-01T15:01:26.684289Z",
     "shell.execute_reply": "2020-12-01T15:01:26.683518Z"
    },
    "papermill": {
     "duration": 0.245636,
     "end_time": "2020-12-01T15:01:26.684418",
     "exception": false,
     "start_time": "2020-12-01T15:01:26.438782",
     "status": "completed"
    },
    "tags": []
   },
   "outputs": [],
   "source": [
    "# изменим тип данных на int64\n",
    "df['mileage'] = df['mileage'].astype('int64')"
   ]
  },
  {
   "cell_type": "code",
   "execution_count": 67,
   "metadata": {
    "execution": {
     "iopub.execute_input": "2020-12-01T15:01:27.076322Z",
     "iopub.status.busy": "2020-12-01T15:01:27.075271Z",
     "iopub.status.idle": "2020-12-01T15:01:27.081976Z",
     "shell.execute_reply": "2020-12-01T15:01:27.082753Z"
    },
    "papermill": {
     "duration": 0.205737,
     "end_time": "2020-12-01T15:01:27.082969",
     "exception": false,
     "start_time": "2020-12-01T15:01:26.877232",
     "status": "completed"
    },
    "tags": []
   },
   "outputs": [
    {
     "name": "stdout",
     "output_type": "stream",
     "text": [
      "Mean: 114772.70906354315\n",
      "Median: 105510.5\n",
      "Min: 0\n",
      "Max: 1000000\n"
     ]
    }
   ],
   "source": [
    "print('Mean:', df['mileage'].mean())\n",
    "print('Median:', df['mileage'].median())\n",
    "print('Min:', df['mileage'].min())\n",
    "print('Max:', df['mileage'].max())"
   ]
  },
  {
   "cell_type": "code",
   "execution_count": 68,
   "metadata": {
    "execution": {
     "iopub.execute_input": "2020-12-01T15:01:27.474260Z",
     "iopub.status.busy": "2020-12-01T15:01:27.473130Z",
     "iopub.status.idle": "2020-12-01T15:01:27.704549Z",
     "shell.execute_reply": "2020-12-01T15:01:27.705313Z"
    },
    "papermill": {
     "duration": 0.431138,
     "end_time": "2020-12-01T15:01:27.705539",
     "exception": false,
     "start_time": "2020-12-01T15:01:27.274401",
     "status": "completed"
    },
    "tags": []
   },
   "outputs": [
    {
     "data": {
      "text/plain": [
       "<matplotlib.axes._subplots.AxesSubplot at 0x7f86599c2150>"
      ]
     },
     "execution_count": 68,
     "metadata": {},
     "output_type": "execute_result"
    },
    {
     "data": {
      "image/png": "[encoded data removed]",
      "text/plain": [
       "<Figure size 432x288 with 1 Axes>"
      ]
     },
     "metadata": {
      "needs_background": "light"
     },
     "output_type": "display_data"
    }
   ],
   "source": [
    "df['mileage'].hist()"
   ]
  },
  {
   "cell_type": "code",
   "execution_count": 69,
   "metadata": {
    "execution": {
     "iopub.execute_input": "2020-12-01T15:01:28.114522Z",
     "iopub.status.busy": "2020-12-01T15:01:28.113249Z",
     "iopub.status.idle": "2020-12-01T15:01:28.262060Z",
     "shell.execute_reply": "2020-12-01T15:01:28.261093Z"
    },
    "papermill": {
     "duration": 0.356479,
     "end_time": "2020-12-01T15:01:28.262206",
     "exception": false,
     "start_time": "2020-12-01T15:01:27.905727",
     "status": "completed"
    },
    "tags": []
   },
   "outputs": [
    {
     "data": {
      "text/plain": [
       "<matplotlib.axes._subplots.AxesSubplot at 0x7f8659952d50>"
      ]
     },
     "execution_count": 69,
     "metadata": {},
     "output_type": "execute_result"
    },
    {
     "data": {
      "image/png": "[encoded data removed]",
      "text/plain": [
       "<Figure size 432x288 with 1 Axes>"
      ]
     },
     "metadata": {
      "needs_background": "light"
     },
     "output_type": "display_data"
    }
   ],
   "source": [
    "df.boxplot(column='mileage')"
   ]
  },
  {
   "cell_type": "code",
   "execution_count": 70,
   "metadata": {
    "execution": {
     "iopub.execute_input": "2020-12-01T15:01:28.672366Z",
     "iopub.status.busy": "2020-12-01T15:01:28.671552Z",
     "iopub.status.idle": "2020-12-01T15:01:28.907370Z",
     "shell.execute_reply": "2020-12-01T15:01:28.906652Z"
    },
    "papermill": {
     "duration": 0.436232,
     "end_time": "2020-12-01T15:01:28.907544",
     "exception": false,
     "start_time": "2020-12-01T15:01:28.471312",
     "status": "completed"
    },
    "tags": []
   },
   "outputs": [
    {
     "data": {
      "text/plain": [
       "<matplotlib.axes._subplots.AxesSubplot at 0x7f8659896c50>"
      ]
     },
     "execution_count": 70,
     "metadata": {},
     "output_type": "execute_result"
    },
    {
     "data": {
      "image/png": "[encoded data removed]",
      "text/plain": [
       "<Figure size 432x288 with 1 Axes>"
      ]
     },
     "metadata": {
      "needs_background": "light"
     },
     "output_type": "display_data"
    }
   ],
   "source": [
    "# посмотрим на гистограммы на автомабилях с пробегом\n",
    "df[df['mileage'] > 1000]['mileage'].hist()"
   ]
  },
  {
   "cell_type": "code",
   "execution_count": 71,
   "metadata": {
    "execution": {
     "iopub.execute_input": "2020-12-01T15:01:29.307745Z",
     "iopub.status.busy": "2020-12-01T15:01:29.306946Z",
     "iopub.status.idle": "2020-12-01T15:01:29.493168Z",
     "shell.execute_reply": "2020-12-01T15:01:29.492520Z"
    },
    "papermill": {
     "duration": 0.389287,
     "end_time": "2020-12-01T15:01:29.493296",
     "exception": false,
     "start_time": "2020-12-01T15:01:29.104009",
     "status": "completed"
    },
    "tags": []
   },
   "outputs": [
    {
     "data": {
      "text/plain": [
       "<matplotlib.axes._subplots.AxesSubplot at 0x7f865986d8d0>"
      ]
     },
     "execution_count": 71,
     "metadata": {},
     "output_type": "execute_result"
    },
    {
     "data": {
      "image/png": "[encoded data removed]",
      "text/plain": [
       "<Figure size 432x288 with 1 Axes>"
      ]
     },
     "metadata": {
      "needs_background": "light"
     },
     "output_type": "display_data"
    }
   ],
   "source": [
    "df[df['mileage'] > 1000].boxplot(column='mileage')"
   ]
  },
  {
   "cell_type": "code",
   "execution_count": 72,
   "metadata": {
    "execution": {
     "iopub.execute_input": "2020-12-01T15:01:29.905337Z",
     "iopub.status.busy": "2020-12-01T15:01:29.904454Z",
     "iopub.status.idle": "2020-12-01T15:01:30.293112Z",
     "shell.execute_reply": "2020-12-01T15:01:30.292376Z"
    },
    "papermill": {
     "duration": 0.598852,
     "end_time": "2020-12-01T15:01:30.293244",
     "exception": false,
     "start_time": "2020-12-01T15:01:29.694392",
     "status": "completed"
    },
    "tags": []
   },
   "outputs": [
    {
     "name": "stdout",
     "output_type": "stream",
     "text": [
      "fence_low: -258611.25  fence_high: 441246.75\n",
      "Количество значений за границей: 395\n"
     ]
    },
    {
     "data": {
      "text/plain": [
       "<matplotlib.axes._subplots.AxesSubplot at 0x7f86597b55d0>"
      ]
     },
     "execution_count": 72,
     "metadata": {},
     "output_type": "execute_result"
    },
    {
     "data": {
      "image/png": "[encoded data removed]",
      "text/plain": [
       "<Figure size 432x288 with 1 Axes>"
      ]
     },
     "metadata": {
      "needs_background": "light"
     },
     "output_type": "display_data"
    }
   ],
   "source": [
    "# посмотрим на граници выбросов\n",
    "q_low = df[df.Train==1]['mileage'].quantile(0.25)\n",
    "q_high = df[df.Train==1]['mileage'].quantile(0.75)\n",
    "iqr = q_high - q_low\n",
    "fence_low = q_low - 1.5*iqr\n",
    "fence_high = q_high + 1.5*iqr\n",
    "print('fence_low:', fence_low, ' fence_high:', fence_high)\n",
    "print('Количество значений за границей:', len(df[df.Train==1]) - len(df[(df.Train==1) & (df['mileage'] > fence_low) & (df['mileage'] < fence_high)]))\n",
    "df[(df.Train==1) & (df['mileage'] > fence_low) & (df['mileage'] < fence_high)].boxplot(column='mileage')"
   ]
  },
  {
   "cell_type": "code",
   "execution_count": 73,
   "metadata": {
    "execution": {
     "iopub.execute_input": "2020-12-01T15:01:30.708540Z",
     "iopub.status.busy": "2020-12-01T15:01:30.707334Z",
     "iopub.status.idle": "2020-12-01T15:01:30.720128Z",
     "shell.execute_reply": "2020-12-01T15:01:30.719495Z"
    },
    "papermill": {
     "duration": 0.223049,
     "end_time": "2020-12-01T15:01:30.720264",
     "exception": false,
     "start_time": "2020-12-01T15:01:30.497215",
     "status": "completed"
    },
    "tags": []
   },
   "outputs": [
    {
     "data": {
      "text/plain": [
       "MERCEDES      75\n",
       "TOYOTA        72\n",
       "AUDI          64\n",
       "VOLKSWAGEN    58\n",
       "BMW           57\n",
       "NISSAN        34\n",
       "MITSUBISHI    28\n",
       "VOLVO         24\n",
       "FORD          19\n",
       "OPEL          17\n",
       "SKODA         13\n",
       "HYUNDAI       12\n",
       "SAAB          10\n",
       "SUBARU        10\n",
       "PEUGEOT        8\n",
       "KIA            7\n",
       "HONDA          7\n",
       "MAZDA          6\n",
       "RENAULT        5\n",
       "LAND_ROVER     4\n",
       "JEEP           4\n",
       "CHEVROLET      3\n",
       "SUZUKI         3\n",
       "DAEWOO         3\n",
       "LEXUS          3\n",
       "CITROEN        2\n",
       "CHRYSLER       1\n",
       "DODGE          1\n",
       "Name: brand, dtype: int64"
      ]
     },
     "execution_count": 73,
     "metadata": {},
     "output_type": "execute_result"
    }
   ],
   "source": [
    "# посмотрим какие это марки с такими пробегами более 417000\n",
    "df[(df['Train']==1) & (df['mileage']>417000)].brand.value_counts()"
   ]
  },
  {
   "cell_type": "code",
   "execution_count": 74,
   "metadata": {
    "execution": {
     "iopub.execute_input": "2020-12-01T15:01:31.127357Z",
     "iopub.status.busy": "2020-12-01T15:01:31.126548Z",
     "iopub.status.idle": "2020-12-01T15:01:31.136655Z",
     "shell.execute_reply": "2020-12-01T15:01:31.135855Z"
    },
    "papermill": {
     "duration": 0.216133,
     "end_time": "2020-12-01T15:01:31.136789",
     "exception": false,
     "start_time": "2020-12-01T15:01:30.920656",
     "status": "completed"
    },
    "tags": []
   },
   "outputs": [
    {
     "data": {
      "text/plain": [
       "BMW    27\n",
       "Name: brand, dtype: int64"
      ]
     },
     "execution_count": 74,
     "metadata": {},
     "output_type": "execute_result"
    }
   ],
   "source": [
    "# проверим то же самое в тесте\n",
    "df[(df['Train']==0) & (df['mileage']>417000)].brand.value_counts()"
   ]
  },
  {
   "cell_type": "code",
   "execution_count": 75,
   "metadata": {
    "execution": {
     "iopub.execute_input": "2020-12-01T15:01:31.548302Z",
     "iopub.status.busy": "2020-12-01T15:01:31.547356Z",
     "iopub.status.idle": "2020-12-01T15:01:31.599399Z",
     "shell.execute_reply": "2020-12-01T15:01:31.600055Z"
    },
    "papermill": {
     "duration": 0.261653,
     "end_time": "2020-12-01T15:01:31.600221",
     "exception": false,
     "start_time": "2020-12-01T15:01:31.338568",
     "status": "completed"
    },
    "tags": []
   },
   "outputs": [],
   "source": [
    "df = df[((df.Train==1) & (df['mileage'] <= 417000)) | (df.Train==0)]"
   ]
  },
  {
   "cell_type": "code",
   "execution_count": 76,
   "metadata": {
    "execution": {
     "iopub.execute_input": "2020-12-01T15:01:32.011639Z",
     "iopub.status.busy": "2020-12-01T15:01:32.010717Z",
     "iopub.status.idle": "2020-12-01T15:01:32.015433Z",
     "shell.execute_reply": "2020-12-01T15:01:32.014591Z"
    },
    "papermill": {
     "duration": 0.210659,
     "end_time": "2020-12-01T15:01:32.015593",
     "exception": false,
     "start_time": "2020-12-01T15:01:31.804934",
     "status": "completed"
    },
    "tags": []
   },
   "outputs": [],
   "source": [
    "EDA_done_cols.append('mileage')"
   ]
  },
  {
   "cell_type": "markdown",
   "metadata": {
    "papermill": {
     "duration": 0.203684,
     "end_time": "2020-12-01T15:01:32.423705",
     "exception": false,
     "start_time": "2020-12-01T15:01:32.220021",
     "status": "completed"
    },
    "tags": []
   },
   "source": [
    "Итого удалили 556 выбросов с пробегом выше 417000 км. Пропусков нет."
   ]
  },
  {
   "cell_type": "markdown",
   "metadata": {
    "papermill": {
     "duration": 0.207119,
     "end_time": "2020-12-01T15:01:32.830249",
     "exception": false,
     "start_time": "2020-12-01T15:01:32.623130",
     "status": "completed"
    },
    "tags": []
   },
   "source": [
    "#### 7.7 Владельцы"
   ]
  },
  {
   "cell_type": "code",
   "execution_count": 77,
   "metadata": {
    "execution": {
     "iopub.execute_input": "2020-12-01T15:01:33.248226Z",
     "iopub.status.busy": "2020-12-01T15:01:33.247390Z",
     "iopub.status.idle": "2020-12-01T15:01:33.266767Z",
     "shell.execute_reply": "2020-12-01T15:01:33.266124Z"
    },
    "papermill": {
     "duration": 0.234013,
     "end_time": "2020-12-01T15:01:33.266900",
     "exception": false,
     "start_time": "2020-12-01T15:01:33.032887",
     "status": "completed"
    },
    "tags": []
   },
   "outputs": [
    {
     "data": {
      "text/plain": [
       "15428"
      ]
     },
     "execution_count": 77,
     "metadata": {},
     "output_type": "execute_result"
    }
   ],
   "source": [
    "len(df[df['Владельцы'].isna()])"
   ]
  },
  {
   "cell_type": "markdown",
   "metadata": {
    "papermill": {
     "duration": 0.199892,
     "end_time": "2020-12-01T15:01:33.674211",
     "exception": false,
     "start_time": "2020-12-01T15:01:33.474319",
     "status": "completed"
    },
    "tags": []
   },
   "source": [
    "Видим что этот признак содержит достаточно много значений NaN. Посмотрим на пробег автомобилей у которых этот признак NaN"
   ]
  },
  {
   "cell_type": "code",
   "execution_count": 78,
   "metadata": {
    "execution": {
     "iopub.execute_input": "2020-12-01T15:01:34.089986Z",
     "iopub.status.busy": "2020-12-01T15:01:34.089074Z",
     "iopub.status.idle": "2020-12-01T15:01:34.111082Z",
     "shell.execute_reply": "2020-12-01T15:01:34.110312Z"
    },
    "papermill": {
     "duration": 0.236439,
     "end_time": "2020-12-01T15:01:34.111211",
     "exception": false,
     "start_time": "2020-12-01T15:01:33.874772",
     "status": "completed"
    },
    "tags": []
   },
   "outputs": [
    {
     "data": {
      "text/plain": [
       "array([0])"
      ]
     },
     "execution_count": 78,
     "metadata": {},
     "output_type": "execute_result"
    }
   ],
   "source": [
    "df[df['Владельцы'].isna()].mileage.unique()"
   ]
  },
  {
   "cell_type": "markdown",
   "metadata": {
    "papermill": {
     "duration": 0.203631,
     "end_time": "2020-12-01T15:01:34.519971",
     "exception": false,
     "start_time": "2020-12-01T15:01:34.316340",
     "status": "completed"
    },
    "tags": []
   },
   "source": [
    "Видно что все значения в признаке Владельцы равные NaN это новые автомобили у которых пока ещё нет владельца. Заполним пропуски нулями."
   ]
  },
  {
   "cell_type": "code",
   "execution_count": 79,
   "metadata": {
    "execution": {
     "iopub.execute_input": "2020-12-01T15:01:34.962850Z",
     "iopub.status.busy": "2020-12-01T15:01:34.932413Z",
     "iopub.status.idle": "2020-12-01T15:01:34.998750Z",
     "shell.execute_reply": "2020-12-01T15:01:34.997775Z"
    },
    "papermill": {
     "duration": 0.278574,
     "end_time": "2020-12-01T15:01:34.998923",
     "exception": false,
     "start_time": "2020-12-01T15:01:34.720349",
     "status": "completed"
    },
    "tags": []
   },
   "outputs": [],
   "source": [
    "df['Владельцы'].fillna(0, inplace=True)"
   ]
  },
  {
   "cell_type": "code",
   "execution_count": 80,
   "metadata": {
    "execution": {
     "iopub.execute_input": "2020-12-01T15:01:35.412698Z",
     "iopub.status.busy": "2020-12-01T15:01:35.411813Z",
     "iopub.status.idle": "2020-12-01T15:01:35.414841Z",
     "shell.execute_reply": "2020-12-01T15:01:35.414081Z"
    },
    "papermill": {
     "duration": 0.212091,
     "end_time": "2020-12-01T15:01:35.414968",
     "exception": false,
     "start_time": "2020-12-01T15:01:35.202877",
     "status": "completed"
    },
    "tags": []
   },
   "outputs": [],
   "source": [
    "EDA_done_cols.append('Владельцы')"
   ]
  },
  {
   "cell_type": "markdown",
   "metadata": {
    "papermill": {
     "duration": 0.201654,
     "end_time": "2020-12-01T15:01:35.819669",
     "exception": false,
     "start_time": "2020-12-01T15:01:35.618015",
     "status": "completed"
    },
    "tags": []
   },
   "source": [
    "#### 7.8 price"
   ]
  },
  {
   "cell_type": "markdown",
   "metadata": {
    "papermill": {
     "duration": 0.204125,
     "end_time": "2020-12-01T15:01:36.227697",
     "exception": false,
     "start_time": "2020-12-01T15:01:36.023572",
     "status": "completed"
    },
    "tags": []
   },
   "source": [
    "В этом признаке есть много пропусков. Посмотрим на их количество в трейне"
   ]
  },
  {
   "cell_type": "code",
   "execution_count": 81,
   "metadata": {
    "execution": {
     "iopub.execute_input": "2020-12-01T15:01:36.653198Z",
     "iopub.status.busy": "2020-12-01T15:01:36.651456Z",
     "iopub.status.idle": "2020-12-01T15:01:36.662253Z",
     "shell.execute_reply": "2020-12-01T15:01:36.661632Z"
    },
    "papermill": {
     "duration": 0.229743,
     "end_time": "2020-12-01T15:01:36.662399",
     "exception": false,
     "start_time": "2020-12-01T15:01:36.432656",
     "status": "completed"
    },
    "tags": []
   },
   "outputs": [
    {
     "data": {
      "text/plain": [
       "214"
      ]
     },
     "execution_count": 81,
     "metadata": {},
     "output_type": "execute_result"
    }
   ],
   "source": [
    "len(df[(df.Train == 1) & (df['price'].isna())])"
   ]
  },
  {
   "cell_type": "markdown",
   "metadata": {
    "papermill": {
     "duration": 0.202366,
     "end_time": "2020-12-01T15:01:37.067977",
     "exception": false,
     "start_time": "2020-12-01T15:01:36.865611",
     "status": "completed"
    },
    "tags": []
   },
   "source": [
    "Значений не много, удалим их."
   ]
  },
  {
   "cell_type": "code",
   "execution_count": 82,
   "metadata": {
    "execution": {
     "iopub.execute_input": "2020-12-01T15:01:37.481430Z",
     "iopub.status.busy": "2020-12-01T15:01:37.480423Z",
     "iopub.status.idle": "2020-12-01T15:01:37.544954Z",
     "shell.execute_reply": "2020-12-01T15:01:37.544122Z"
    },
    "papermill": {
     "duration": 0.274252,
     "end_time": "2020-12-01T15:01:37.545094",
     "exception": false,
     "start_time": "2020-12-01T15:01:37.270842",
     "status": "completed"
    },
    "tags": []
   },
   "outputs": [],
   "source": [
    "df = df[((df['Train']==1)&(df['price'].isna()==False)) | (df['Train']==0)] "
   ]
  },
  {
   "cell_type": "code",
   "execution_count": 83,
   "metadata": {
    "execution": {
     "iopub.execute_input": "2020-12-01T15:01:37.960097Z",
     "iopub.status.busy": "2020-12-01T15:01:37.958896Z",
     "iopub.status.idle": "2020-12-01T15:01:37.963036Z",
     "shell.execute_reply": "2020-12-01T15:01:37.962347Z"
    },
    "papermill": {
     "duration": 0.213722,
     "end_time": "2020-12-01T15:01:37.963173",
     "exception": false,
     "start_time": "2020-12-01T15:01:37.749451",
     "status": "completed"
    },
    "tags": []
   },
   "outputs": [],
   "source": [
    "EDA_done_cols.append('price')"
   ]
  },
  {
   "cell_type": "markdown",
   "metadata": {
    "papermill": {
     "duration": 0.205909,
     "end_time": "2020-12-01T15:01:38.371871",
     "exception": false,
     "start_time": "2020-12-01T15:01:38.165962",
     "status": "completed"
    },
    "tags": []
   },
   "source": [
    "#### 7.9 modelDate"
   ]
  },
  {
   "cell_type": "code",
   "execution_count": 84,
   "metadata": {
    "execution": {
     "iopub.execute_input": "2020-12-01T15:01:38.837635Z",
     "iopub.status.busy": "2020-12-01T15:01:38.836054Z",
     "iopub.status.idle": "2020-12-01T15:01:38.870854Z",
     "shell.execute_reply": "2020-12-01T15:01:38.869888Z"
    },
    "papermill": {
     "duration": 0.292187,
     "end_time": "2020-12-01T15:01:38.871009",
     "exception": false,
     "start_time": "2020-12-01T15:01:38.578822",
     "status": "completed"
    },
    "tags": []
   },
   "outputs": [],
   "source": [
    "df['modelDate'] = df['modelDate'].astype('int')"
   ]
  },
  {
   "cell_type": "code",
   "execution_count": 85,
   "metadata": {
    "execution": {
     "iopub.execute_input": "2020-12-01T15:01:39.292163Z",
     "iopub.status.busy": "2020-12-01T15:01:39.291339Z",
     "iopub.status.idle": "2020-12-01T15:01:39.303602Z",
     "shell.execute_reply": "2020-12-01T15:01:39.302945Z"
    },
    "papermill": {
     "duration": 0.226158,
     "end_time": "2020-12-01T15:01:39.303746",
     "exception": false,
     "start_time": "2020-12-01T15:01:39.077588",
     "status": "completed"
    },
    "tags": []
   },
   "outputs": [
    {
     "data": {
      "text/plain": [
       "count    66340.000000\n",
       "mean      2010.577902\n",
       "std          7.171502\n",
       "min       1949.000000\n",
       "25%       2006.000000\n",
       "50%       2011.000000\n",
       "75%       2017.000000\n",
       "max       2020.000000\n",
       "Name: modelDate, dtype: float64"
      ]
     },
     "execution_count": 85,
     "metadata": {},
     "output_type": "execute_result"
    }
   ],
   "source": [
    "df.modelDate.describe()"
   ]
  },
  {
   "cell_type": "code",
   "execution_count": 86,
   "metadata": {
    "execution": {
     "iopub.execute_input": "2020-12-01T15:01:39.745239Z",
     "iopub.status.busy": "2020-12-01T15:01:39.744385Z",
     "iopub.status.idle": "2020-12-01T15:01:39.761656Z",
     "shell.execute_reply": "2020-12-01T15:01:39.762285Z"
    },
    "papermill": {
     "duration": 0.246372,
     "end_time": "2020-12-01T15:01:39.762509",
     "exception": false,
     "start_time": "2020-12-01T15:01:39.516137",
     "status": "completed"
    },
    "tags": []
   },
   "outputs": [
    {
     "data": {
      "text/plain": [
       "count    3837.000000\n",
       "mean     2009.948137\n",
       "std         5.451623\n",
       "min      1975.000000\n",
       "25%      2007.000000\n",
       "50%      2011.000000\n",
       "75%      2014.000000\n",
       "max      2019.000000\n",
       "Name: modelDate, dtype: float64"
      ]
     },
     "execution_count": 86,
     "metadata": {},
     "output_type": "execute_result"
    }
   ],
   "source": [
    "df[df.Train == 0].modelDate.describe()"
   ]
  },
  {
   "cell_type": "markdown",
   "metadata": {
    "papermill": {
     "duration": 0.213027,
     "end_time": "2020-12-01T15:01:40.186738",
     "exception": false,
     "start_time": "2020-12-01T15:01:39.973711",
     "status": "completed"
    },
    "tags": []
   },
   "source": [
    "Видим что в тесте нет данных о моделях 2020 года и о моделях младше 1975 года. Посмотрим количество авто которые находятся за пределами 2019 и 1975 годов."
   ]
  },
  {
   "cell_type": "code",
   "execution_count": 87,
   "metadata": {
    "execution": {
     "iopub.execute_input": "2020-12-01T15:01:40.628845Z",
     "iopub.status.busy": "2020-12-01T15:01:40.627947Z",
     "iopub.status.idle": "2020-12-01T15:01:40.639175Z",
     "shell.execute_reply": "2020-12-01T15:01:40.638360Z"
    },
    "papermill": {
     "duration": 0.231077,
     "end_time": "2020-12-01T15:01:40.639325",
     "exception": false,
     "start_time": "2020-12-01T15:01:40.408248",
     "status": "completed"
    },
    "tags": []
   },
   "outputs": [
    {
     "data": {
      "text/plain": [
       "2677"
      ]
     },
     "execution_count": 87,
     "metadata": {},
     "output_type": "execute_result"
    }
   ],
   "source": [
    "len(df[(df.modelDate > 2019) | (df.modelDate < 1975)])"
   ]
  },
  {
   "cell_type": "markdown",
   "metadata": {
    "papermill": {
     "duration": 0.222624,
     "end_time": "2020-12-01T15:01:41.076420",
     "exception": false,
     "start_time": "2020-12-01T15:01:40.853796",
     "status": "completed"
    },
    "tags": []
   },
   "source": [
    "Видим что таких автомобилей не так уж и много, удалим их чтобы уменьшить разброс цен."
   ]
  },
  {
   "cell_type": "code",
   "execution_count": 88,
   "metadata": {
    "execution": {
     "iopub.execute_input": "2020-12-01T15:01:41.506089Z",
     "iopub.status.busy": "2020-12-01T15:01:41.505202Z",
     "iopub.status.idle": "2020-12-01T15:01:41.554395Z",
     "shell.execute_reply": "2020-12-01T15:01:41.553574Z"
    },
    "papermill": {
     "duration": 0.270069,
     "end_time": "2020-12-01T15:01:41.554561",
     "exception": false,
     "start_time": "2020-12-01T15:01:41.284492",
     "status": "completed"
    },
    "tags": []
   },
   "outputs": [],
   "source": [
    "df = df[((df['Train']==1) & (df['modelDate']>=1975) & (df['modelDate']<=2019)) | (df['Train']==0)]"
   ]
  },
  {
   "cell_type": "code",
   "execution_count": 89,
   "metadata": {
    "execution": {
     "iopub.execute_input": "2020-12-01T15:01:41.985239Z",
     "iopub.status.busy": "2020-12-01T15:01:41.984373Z",
     "iopub.status.idle": "2020-12-01T15:01:41.989375Z",
     "shell.execute_reply": "2020-12-01T15:01:41.988406Z"
    },
    "papermill": {
     "duration": 0.224897,
     "end_time": "2020-12-01T15:01:41.989577",
     "exception": false,
     "start_time": "2020-12-01T15:01:41.764680",
     "status": "completed"
    },
    "tags": []
   },
   "outputs": [],
   "source": [
    "EDA_done_cols.append('price')"
   ]
  },
  {
   "cell_type": "markdown",
   "metadata": {
    "papermill": {
     "duration": 0.21085,
     "end_time": "2020-12-01T15:01:42.422647",
     "exception": false,
     "start_time": "2020-12-01T15:01:42.211797",
     "status": "completed"
    },
    "tags": []
   },
   "source": [
    "Итого мы удалили 1867 выброса авто старше 1975 года и авто 2020 года."
   ]
  },
  {
   "cell_type": "markdown",
   "metadata": {
    "papermill": {
     "duration": 0.21285,
     "end_time": "2020-12-01T15:01:42.843705",
     "exception": false,
     "start_time": "2020-12-01T15:01:42.630855",
     "status": "completed"
    },
    "tags": []
   },
   "source": [
    "#### 7.10 productionDate"
   ]
  },
  {
   "cell_type": "code",
   "execution_count": 90,
   "metadata": {
    "execution": {
     "iopub.execute_input": "2020-12-01T15:01:43.297445Z",
     "iopub.status.busy": "2020-12-01T15:01:43.296435Z",
     "iopub.status.idle": "2020-12-01T15:01:43.328745Z",
     "shell.execute_reply": "2020-12-01T15:01:43.327876Z"
    },
    "papermill": {
     "duration": 0.264759,
     "end_time": "2020-12-01T15:01:43.328890",
     "exception": false,
     "start_time": "2020-12-01T15:01:43.064131",
     "status": "completed"
    },
    "tags": []
   },
   "outputs": [],
   "source": [
    "df['productionDate'] = df['productionDate'].astype('int')"
   ]
  },
  {
   "cell_type": "code",
   "execution_count": 91,
   "metadata": {
    "execution": {
     "iopub.execute_input": "2020-12-01T15:01:43.775999Z",
     "iopub.status.busy": "2020-12-01T15:01:43.775045Z",
     "iopub.status.idle": "2020-12-01T15:01:43.828091Z",
     "shell.execute_reply": "2020-12-01T15:01:43.827199Z"
    },
    "papermill": {
     "duration": 0.276831,
     "end_time": "2020-12-01T15:01:43.828224",
     "exception": false,
     "start_time": "2020-12-01T15:01:43.551393",
     "status": "completed"
    },
    "tags": []
   },
   "outputs": [
    {
     "data": {
      "text/plain": [
       "count    59826.000000\n",
       "mean      2012.341708\n",
       "std          6.734625\n",
       "min       1976.000000\n",
       "25%       2008.000000\n",
       "50%       2013.000000\n",
       "75%       2018.000000\n",
       "max       2020.000000\n",
       "Name: productionDate, dtype: float64"
      ]
     },
     "execution_count": 91,
     "metadata": {},
     "output_type": "execute_result"
    }
   ],
   "source": [
    "df[df.Train == 1].productionDate.describe()"
   ]
  },
  {
   "cell_type": "code",
   "execution_count": 92,
   "metadata": {
    "execution": {
     "iopub.execute_input": "2020-12-01T15:01:44.292047Z",
     "iopub.status.busy": "2020-12-01T15:01:44.287982Z",
     "iopub.status.idle": "2020-12-01T15:01:44.303815Z",
     "shell.execute_reply": "2020-12-01T15:01:44.302656Z"
    },
    "papermill": {
     "duration": 0.251217,
     "end_time": "2020-12-01T15:01:44.304007",
     "exception": false,
     "start_time": "2020-12-01T15:01:44.052790",
     "status": "completed"
    },
    "tags": []
   },
   "outputs": [
    {
     "data": {
      "text/plain": [
       "count    3837.000000\n",
       "mean     2011.934584\n",
       "std         5.186576\n",
       "min      1981.000000\n",
       "25%      2010.000000\n",
       "50%      2013.000000\n",
       "75%      2016.000000\n",
       "max      2019.000000\n",
       "Name: productionDate, dtype: float64"
      ]
     },
     "execution_count": 92,
     "metadata": {},
     "output_type": "execute_result"
    }
   ],
   "source": [
    "df[df.Train == 0].productionDate.describe()"
   ]
  },
  {
   "cell_type": "code",
   "execution_count": 93,
   "metadata": {
    "execution": {
     "iopub.execute_input": "2020-12-01T15:01:44.757836Z",
     "iopub.status.busy": "2020-12-01T15:01:44.756956Z",
     "iopub.status.idle": "2020-12-01T15:01:44.776868Z",
     "shell.execute_reply": "2020-12-01T15:01:44.776221Z"
    },
    "papermill": {
     "duration": 0.248361,
     "end_time": "2020-12-01T15:01:44.777026",
     "exception": false,
     "start_time": "2020-12-01T15:01:44.528665",
     "status": "completed"
    },
    "tags": []
   },
   "outputs": [
    {
     "data": {
      "text/plain": [
       "12865"
      ]
     },
     "execution_count": 93,
     "metadata": {},
     "output_type": "execute_result"
    }
   ],
   "source": [
    "len(df[(df.Train == 1) & (df.productionDate > 2019)])"
   ]
  },
  {
   "cell_type": "markdown",
   "metadata": {
    "papermill": {
     "duration": 0.219405,
     "end_time": "2020-12-01T15:01:45.209527",
     "exception": false,
     "start_time": "2020-12-01T15:01:44.990122",
     "status": "completed"
    },
    "tags": []
   },
   "source": [
    "Такое количество это нормально так как тестовый датасет формировался в начале года и это значит что в тесте авто с датой производства 2020 нет. Удалим их.\n",
    "Посмотрим на количество авто с датой производства меньше 1981."
   ]
  },
  {
   "cell_type": "code",
   "execution_count": 94,
   "metadata": {
    "execution": {
     "iopub.execute_input": "2020-12-01T15:01:45.655210Z",
     "iopub.status.busy": "2020-12-01T15:01:45.653988Z",
     "iopub.status.idle": "2020-12-01T15:01:45.663131Z",
     "shell.execute_reply": "2020-12-01T15:01:45.662400Z"
    },
    "papermill": {
     "duration": 0.237141,
     "end_time": "2020-12-01T15:01:45.663267",
     "exception": false,
     "start_time": "2020-12-01T15:01:45.426126",
     "status": "completed"
    },
    "tags": []
   },
   "outputs": [
    {
     "data": {
      "text/plain": [
       "15"
      ]
     },
     "execution_count": 94,
     "metadata": {},
     "output_type": "execute_result"
    }
   ],
   "source": [
    "len(df[(df['Train']==1) & (df['productionDate']<1981)])"
   ]
  },
  {
   "cell_type": "code",
   "execution_count": 95,
   "metadata": {
    "execution": {
     "iopub.execute_input": "2020-12-01T15:01:46.100838Z",
     "iopub.status.busy": "2020-12-01T15:01:46.099888Z",
     "iopub.status.idle": "2020-12-01T15:01:46.142824Z",
     "shell.execute_reply": "2020-12-01T15:01:46.141911Z"
    },
    "papermill": {
     "duration": 0.265107,
     "end_time": "2020-12-01T15:01:46.142966",
     "exception": false,
     "start_time": "2020-12-01T15:01:45.877859",
     "status": "completed"
    },
    "tags": []
   },
   "outputs": [],
   "source": [
    "# Удалим выбросы по порогу\n",
    "df = df[((df['Train']==1) & (df['productionDate']>=1981) & (df['productionDate']<=2019)) | (df['Train']==0)]"
   ]
  },
  {
   "cell_type": "code",
   "execution_count": 96,
   "metadata": {
    "execution": {
     "iopub.execute_input": "2020-12-01T15:01:46.614522Z",
     "iopub.status.busy": "2020-12-01T15:01:46.599289Z",
     "iopub.status.idle": "2020-12-01T15:01:46.841777Z",
     "shell.execute_reply": "2020-12-01T15:01:46.840995Z"
    },
    "papermill": {
     "duration": 0.468528,
     "end_time": "2020-12-01T15:01:46.841910",
     "exception": false,
     "start_time": "2020-12-01T15:01:46.373382",
     "status": "completed"
    },
    "tags": []
   },
   "outputs": [
    {
     "data": {
      "text/plain": [
       "<matplotlib.axes._subplots.AxesSubplot at 0x7f8659719490>"
      ]
     },
     "execution_count": 96,
     "metadata": {},
     "output_type": "execute_result"
    },
    {
     "data": {
      "image/png": "[encoded data removed]",
      "text/plain": [
       "<Figure size 432x288 with 1 Axes>"
      ]
     },
     "metadata": {
      "needs_background": "light"
     },
     "output_type": "display_data"
    }
   ],
   "source": [
    "df['productionDate'].hist()"
   ]
  },
  {
   "cell_type": "code",
   "execution_count": 97,
   "metadata": {
    "execution": {
     "iopub.execute_input": "2020-12-01T15:01:47.288953Z",
     "iopub.status.busy": "2020-12-01T15:01:47.287509Z",
     "iopub.status.idle": "2020-12-01T15:01:47.294344Z",
     "shell.execute_reply": "2020-12-01T15:01:47.293530Z"
    },
    "papermill": {
     "duration": 0.232077,
     "end_time": "2020-12-01T15:01:47.294498",
     "exception": false,
     "start_time": "2020-12-01T15:01:47.062421",
     "status": "completed"
    },
    "tags": []
   },
   "outputs": [],
   "source": [
    "# Добавим два новый признака: 'km_per_year' который равен пробегу авто поделённому на его возраст\n",
    "current_year = 2020\n",
    "df['km_per_year'] = df['mileage'] / (current_year-df['productionDate'])"
   ]
  },
  {
   "cell_type": "markdown",
   "metadata": {
    "papermill": {
     "duration": 0.226219,
     "end_time": "2020-12-01T15:01:47.737886",
     "exception": false,
     "start_time": "2020-12-01T15:01:47.511667",
     "status": "completed"
    },
    "tags": []
   },
   "source": [
    "Было бы не плохо добавить категориальный признак который мог бы определить авто в один из 4 классов: новый, относительно новые, относительно старые, старые. Для этого посмотрим как меняется стоимость на авто в зависимотси от года выпуска на примере марки BMW"
   ]
  },
  {
   "cell_type": "code",
   "execution_count": 98,
   "metadata": {
    "execution": {
     "iopub.execute_input": "2020-12-01T15:01:48.191287Z",
     "iopub.status.busy": "2020-12-01T15:01:48.189939Z",
     "iopub.status.idle": "2020-12-01T15:01:48.661772Z",
     "shell.execute_reply": "2020-12-01T15:01:48.662357Z"
    },
    "papermill": {
     "duration": 0.70432,
     "end_time": "2020-12-01T15:01:48.662559",
     "exception": false,
     "start_time": "2020-12-01T15:01:47.958239",
     "status": "completed"
    },
    "tags": []
   },
   "outputs": [
    {
     "name": "stderr",
     "output_type": "stream",
     "text": [
      "/opt/conda/lib/python3.7/site-packages/ipykernel_launcher.py:2: UserWarning: Boolean Series key will be reindexed to match DataFrame index.\n",
      "  \n"
     ]
    },
    {
     "data": {
      "text/plain": [
       "<matplotlib.collections.PathCollection at 0x7f86596837d0>"
      ]
     },
     "execution_count": 98,
     "metadata": {},
     "output_type": "execute_result"
    },
    {
     "data": {
      "image/png": "[encoded data removed]",
      "text/plain": [
       "<Figure size 1440x720 with 1 Axes>"
      ]
     },
     "metadata": {
      "needs_background": "light"
     },
     "output_type": "display_data"
    }
   ],
   "source": [
    "df_temp = df[(df['Train']==1)&(df['productionDate']<2020)]\n",
    "df_temp_bmw = df_temp[df['brand']=='BMW']\n",
    "year = df_temp['productionDate'].values\n",
    "price = df_temp['price'].values\n",
    "year_bmw = df_temp_bmw['productionDate'].values\n",
    "price_bmw = df_temp_bmw['price'].values\n",
    "plt.figure(figsize=(20,10))\n",
    "plt.scatter(year,price,c='b')\n",
    "plt.scatter(year_bmw,price_bmw,c='r')"
   ]
  },
  {
   "cell_type": "markdown",
   "metadata": {
    "papermill": {
     "duration": 0.222604,
     "end_time": "2020-12-01T15:01:49.106738",
     "exception": false,
     "start_time": "2020-12-01T15:01:48.884134",
     "status": "completed"
    },
    "tags": []
   },
   "source": [
    "Видим что за первые 5 лет стоимость авто падает очень быстро, это связано с рыночной ситуацией так как после покупки у новых авто гарантийный период длится в пределах от 3 до 5 лет, дальше видим что цена падает не так сильно в периоде от 2015 до 2005 года. Далее наблюдаем относительное удержание цены на примерно одном уровне в периоде с 1990 до 2005, после 1990 цена на авто падает. Добавим новый категориальный признак в котором разделим авто на 4 класса: младше 2015, с 2005 до 2015, с 1990 до 2005, старше 1990."
   ]
  },
  {
   "cell_type": "code",
   "execution_count": 99,
   "metadata": {
    "execution": {
     "iopub.execute_input": "2020-12-01T15:01:49.559279Z",
     "iopub.status.busy": "2020-12-01T15:01:49.558154Z",
     "iopub.status.idle": "2020-12-01T15:01:49.570277Z",
     "shell.execute_reply": "2020-12-01T15:01:49.571216Z"
    },
    "papermill": {
     "duration": 0.243087,
     "end_time": "2020-12-01T15:01:49.571404",
     "exception": false,
     "start_time": "2020-12-01T15:01:49.328317",
     "status": "completed"
    },
    "tags": []
   },
   "outputs": [],
   "source": [
    "df['pDate_more_2015']=df['productionDate']>=2015\n",
    "df['pDate_more_2005']=(df['productionDate']>=2005)&(df['productionDate']<2015)\n",
    "df['pDate_more_1990']=(df['productionDate']>=1990)&(df['productionDate']<2005)\n",
    "df['pDate_less_1990']=(df['productionDate']<1990)"
   ]
  },
  {
   "cell_type": "code",
   "execution_count": 100,
   "metadata": {
    "execution": {
     "iopub.execute_input": "2020-12-01T15:01:50.139279Z",
     "iopub.status.busy": "2020-12-01T15:01:50.138125Z",
     "iopub.status.idle": "2020-12-01T15:01:50.142024Z",
     "shell.execute_reply": "2020-12-01T15:01:50.141255Z"
    },
    "papermill": {
     "duration": 0.27011,
     "end_time": "2020-12-01T15:01:50.142222",
     "exception": false,
     "start_time": "2020-12-01T15:01:49.872112",
     "status": "completed"
    },
    "tags": []
   },
   "outputs": [],
   "source": [
    "EDA_done_cols.append('productionDate')"
   ]
  },
  {
   "cell_type": "markdown",
   "metadata": {
    "papermill": {
     "duration": 0.226106,
     "end_time": "2020-12-01T15:01:50.596793",
     "exception": false,
     "start_time": "2020-12-01T15:01:50.370687",
     "status": "completed"
    },
    "tags": []
   },
   "source": [
    "#### 7.11 vehicleTransmission"
   ]
  },
  {
   "cell_type": "code",
   "execution_count": 101,
   "metadata": {
    "execution": {
     "iopub.execute_input": "2020-12-01T15:01:51.050284Z",
     "iopub.status.busy": "2020-12-01T15:01:51.049080Z",
     "iopub.status.idle": "2020-12-01T15:01:51.105685Z",
     "shell.execute_reply": "2020-12-01T15:01:51.104891Z"
    },
    "papermill": {
     "duration": 0.285088,
     "end_time": "2020-12-01T15:01:51.105881",
     "exception": false,
     "start_time": "2020-12-01T15:01:50.820793",
     "status": "completed"
    },
    "tags": []
   },
   "outputs": [
    {
     "data": {
      "text/plain": [
       "автоматическая      26557\n",
       "механическая        12632\n",
       "роботизированная     4222\n",
       "вариатор             3535\n",
       "Name: vehicleTransmission, dtype: int64"
      ]
     },
     "execution_count": 101,
     "metadata": {},
     "output_type": "execute_result"
    }
   ],
   "source": [
    "df[df['Train']==1]['vehicleTransmission'].value_counts()"
   ]
  },
  {
   "cell_type": "code",
   "execution_count": 102,
   "metadata": {
    "execution": {
     "iopub.execute_input": "2020-12-01T15:01:51.568300Z",
     "iopub.status.busy": "2020-12-01T15:01:51.567316Z",
     "iopub.status.idle": "2020-12-01T15:01:51.572489Z",
     "shell.execute_reply": "2020-12-01T15:01:51.571685Z"
    },
    "papermill": {
     "duration": 0.245673,
     "end_time": "2020-12-01T15:01:51.572687",
     "exception": false,
     "start_time": "2020-12-01T15:01:51.327014",
     "status": "completed"
    },
    "tags": []
   },
   "outputs": [
    {
     "data": {
      "text/plain": [
       "автоматическая      3677\n",
       "механическая         111\n",
       "роботизированная      49\n",
       "Name: vehicleTransmission, dtype: int64"
      ]
     },
     "execution_count": 102,
     "metadata": {},
     "output_type": "execute_result"
    }
   ],
   "source": [
    "df[df['Train']==0]['vehicleTransmission'].value_counts()"
   ]
  },
  {
   "cell_type": "code",
   "execution_count": 103,
   "metadata": {
    "execution": {
     "iopub.execute_input": "2020-12-01T15:01:52.041634Z",
     "iopub.status.busy": "2020-12-01T15:01:52.032072Z",
     "iopub.status.idle": "2020-12-01T15:01:52.078960Z",
     "shell.execute_reply": "2020-12-01T15:01:52.078243Z"
    },
    "papermill": {
     "duration": 0.273931,
     "end_time": "2020-12-01T15:01:52.079090",
     "exception": false,
     "start_time": "2020-12-01T15:01:51.805159",
     "status": "completed"
    },
    "tags": []
   },
   "outputs": [],
   "source": [
    "# удалим вариатор\n",
    "df = df[((df['Train']==1) & (df['vehicleTransmission']!='вариатор')) | (df['Train']==0)]"
   ]
  },
  {
   "cell_type": "code",
   "execution_count": 104,
   "metadata": {
    "execution": {
     "iopub.execute_input": "2020-12-01T15:01:52.524960Z",
     "iopub.status.busy": "2020-12-01T15:01:52.524065Z",
     "iopub.status.idle": "2020-12-01T15:01:52.527675Z",
     "shell.execute_reply": "2020-12-01T15:01:52.526889Z"
    },
    "papermill": {
     "duration": 0.228849,
     "end_time": "2020-12-01T15:01:52.527800",
     "exception": false,
     "start_time": "2020-12-01T15:01:52.298951",
     "status": "completed"
    },
    "tags": []
   },
   "outputs": [],
   "source": [
    "EDA_done_cols.append('vehicleTransmission')"
   ]
  },
  {
   "cell_type": "markdown",
   "metadata": {
    "papermill": {
     "duration": 0.219087,
     "end_time": "2020-12-01T15:01:52.967523",
     "exception": false,
     "start_time": "2020-12-01T15:01:52.748436",
     "status": "completed"
    },
    "tags": []
   },
   "source": [
    "Итого удалили из признака значения равные \"вариатор\" так как их нет а тесте. Пропусков нет."
   ]
  },
  {
   "cell_type": "markdown",
   "metadata": {
    "papermill": {
     "duration": 0.22507,
     "end_time": "2020-12-01T15:01:53.425123",
     "exception": false,
     "start_time": "2020-12-01T15:01:53.200053",
     "status": "completed"
    },
    "tags": []
   },
   "source": [
    "#### 7.12 Комплектация"
   ]
  },
  {
   "cell_type": "markdown",
   "metadata": {
    "papermill": {
     "duration": 0.236785,
     "end_time": "2020-12-01T15:01:53.884169",
     "exception": false,
     "start_time": "2020-12-01T15:01:53.647384",
     "status": "completed"
    },
    "tags": []
   },
   "source": [
    "В этом признаке было много не заполненных значений равных \"{id:0}\". Посмотрим что изменилось"
   ]
  },
  {
   "cell_type": "code",
   "execution_count": 105,
   "metadata": {
    "execution": {
     "iopub.execute_input": "2020-12-01T15:01:54.344963Z",
     "iopub.status.busy": "2020-12-01T15:01:54.344079Z",
     "iopub.status.idle": "2020-12-01T15:01:54.394107Z",
     "shell.execute_reply": "2020-12-01T15:01:54.393349Z"
    },
    "papermill": {
     "duration": 0.282381,
     "end_time": "2020-12-01T15:01:54.394263",
     "exception": false,
     "start_time": "2020-12-01T15:01:54.111882",
     "status": "completed"
    },
    "tags": []
   },
   "outputs": [
    {
     "data": {
      "text/plain": [
       "0.7954896224459238"
      ]
     },
     "execution_count": 105,
     "metadata": {},
     "output_type": "execute_result"
    }
   ],
   "source": [
    "temp_df = df[df['Train']==1]\n",
    "(temp_df['Комплектация']=={'id': '0'}).sum()/len(temp_df)"
   ]
  },
  {
   "cell_type": "markdown",
   "metadata": {
    "papermill": {
     "duration": 0.224384,
     "end_time": "2020-12-01T15:01:54.838933",
     "exception": false,
     "start_time": "2020-12-01T15:01:54.614549",
     "status": "completed"
    },
    "tags": []
   },
   "source": [
    "Почти 80% данных не заполнены, удаляем это признак."
   ]
  },
  {
   "cell_type": "code",
   "execution_count": 106,
   "metadata": {
    "execution": {
     "iopub.execute_input": "2020-12-01T15:01:55.320705Z",
     "iopub.status.busy": "2020-12-01T15:01:55.308694Z",
     "iopub.status.idle": "2020-12-01T15:01:55.324524Z",
     "shell.execute_reply": "2020-12-01T15:01:55.323686Z"
    },
    "papermill": {
     "duration": 0.261989,
     "end_time": "2020-12-01T15:01:55.324663",
     "exception": false,
     "start_time": "2020-12-01T15:01:55.062674",
     "status": "completed"
    },
    "tags": []
   },
   "outputs": [],
   "source": [
    "df.drop(columns=['Комплектация'], inplace=True)"
   ]
  },
  {
   "cell_type": "markdown",
   "metadata": {
    "papermill": {
     "duration": 0.220329,
     "end_time": "2020-12-01T15:01:55.763966",
     "exception": false,
     "start_time": "2020-12-01T15:01:55.543637",
     "status": "completed"
    },
    "tags": []
   },
   "source": [
    "#### 7.13 description"
   ]
  },
  {
   "cell_type": "markdown",
   "metadata": {
    "papermill": {
     "duration": 0.225615,
     "end_time": "2020-12-01T15:01:56.206647",
     "exception": false,
     "start_time": "2020-12-01T15:01:55.981032",
     "status": "completed"
    },
    "tags": []
   },
   "source": [
    "Данный признак содержит описание авто владельцем. Достаточно трудный для анализа признак так как содержит много текстовой информации. Заполним пропуски 0 и выделим новый признак который подсчитает количество слова в тексте каждого объявления."
   ]
  },
  {
   "cell_type": "code",
   "execution_count": 107,
   "metadata": {
    "execution": {
     "iopub.execute_input": "2020-12-01T15:01:56.678700Z",
     "iopub.status.busy": "2020-12-01T15:01:56.677324Z",
     "iopub.status.idle": "2020-12-01T15:01:56.691847Z",
     "shell.execute_reply": "2020-12-01T15:01:56.691028Z"
    },
    "papermill": {
     "duration": 0.258882,
     "end_time": "2020-12-01T15:01:56.691979",
     "exception": false,
     "start_time": "2020-12-01T15:01:56.433097",
     "status": "completed"
    },
    "tags": []
   },
   "outputs": [],
   "source": [
    "# заполним пропуски\n",
    "df['description'] = df['description'].fillna('[]')"
   ]
  },
  {
   "cell_type": "code",
   "execution_count": 108,
   "metadata": {
    "execution": {
     "iopub.execute_input": "2020-12-01T15:01:57.176944Z",
     "iopub.status.busy": "2020-12-01T15:01:57.171834Z",
     "iopub.status.idle": "2020-12-01T15:02:00.867649Z",
     "shell.execute_reply": "2020-12-01T15:02:00.866808Z"
    },
    "papermill": {
     "duration": 3.954261,
     "end_time": "2020-12-01T15:02:00.867815",
     "exception": false,
     "start_time": "2020-12-01T15:01:56.913554",
     "status": "completed"
    },
    "tags": []
   },
   "outputs": [],
   "source": [
    "# запишем списки слов в описании в отдельный столбец\n",
    "df['words_in_description'] = df['description'].apply(lambda x: [str(i).lower() for i in x.split()])"
   ]
  },
  {
   "cell_type": "code",
   "execution_count": 109,
   "metadata": {
    "execution": {
     "iopub.execute_input": "2020-12-01T15:02:01.333068Z",
     "iopub.status.busy": "2020-12-01T15:02:01.328034Z",
     "iopub.status.idle": "2020-12-01T15:02:01.995246Z",
     "shell.execute_reply": "2020-12-01T15:02:01.994088Z"
    },
    "papermill": {
     "duration": 0.904392,
     "end_time": "2020-12-01T15:02:01.995690",
     "exception": false,
     "start_time": "2020-12-01T15:02:01.091298",
     "status": "completed"
    },
    "tags": []
   },
   "outputs": [],
   "source": [
    "# создаем новый признак кол-во слов в описании\n",
    "df['count_words_d'] = df['description'].apply(lambda x: len(x.split()))"
   ]
  },
  {
   "cell_type": "code",
   "execution_count": 110,
   "metadata": {
    "execution": {
     "iopub.execute_input": "2020-12-01T15:02:02.487446Z",
     "iopub.status.busy": "2020-12-01T15:02:02.486167Z",
     "iopub.status.idle": "2020-12-01T15:02:02.490092Z",
     "shell.execute_reply": "2020-12-01T15:02:02.489235Z"
    },
    "papermill": {
     "duration": 0.235664,
     "end_time": "2020-12-01T15:02:02.490241",
     "exception": false,
     "start_time": "2020-12-01T15:02:02.254577",
     "status": "completed"
    },
    "tags": []
   },
   "outputs": [],
   "source": [
    "EDA_done_cols.append('description')"
   ]
  },
  {
   "cell_type": "markdown",
   "metadata": {
    "papermill": {
     "duration": 0.218068,
     "end_time": "2020-12-01T15:02:02.927078",
     "exception": false,
     "start_time": "2020-12-01T15:02:02.709010",
     "status": "completed"
    },
    "tags": []
   },
   "source": [
    "Итого заполнили пропуски и добавили новый признак words_in_description"
   ]
  },
  {
   "cell_type": "markdown",
   "metadata": {
    "papermill": {
     "duration": 0.220447,
     "end_time": "2020-12-01T15:02:03.367672",
     "exception": false,
     "start_time": "2020-12-01T15:02:03.147225",
     "status": "completed"
    },
    "tags": []
   },
   "source": [
    "#### 7.14 ПТС"
   ]
  },
  {
   "cell_type": "code",
   "execution_count": 111,
   "metadata": {
    "execution": {
     "iopub.execute_input": "2020-12-01T15:02:03.817921Z",
     "iopub.status.busy": "2020-12-01T15:02:03.816995Z",
     "iopub.status.idle": "2020-12-01T15:02:03.884426Z",
     "shell.execute_reply": "2020-12-01T15:02:03.883519Z"
    },
    "papermill": {
     "duration": 0.297899,
     "end_time": "2020-12-01T15:02:03.884590",
     "exception": false,
     "start_time": "2020-12-01T15:02:03.586691",
     "status": "completed"
    },
    "tags": []
   },
   "outputs": [
    {
     "data": {
      "text/plain": [
       "12"
      ]
     },
     "execution_count": 111,
     "metadata": {},
     "output_type": "execute_result"
    }
   ],
   "source": [
    "# Посмотрим на количество пропусков\n",
    "len(df[(df.Train == 1) & (df['ПТС'].isna())])"
   ]
  },
  {
   "cell_type": "markdown",
   "metadata": {
    "papermill": {
     "duration": 0.220268,
     "end_time": "2020-12-01T15:02:04.325320",
     "exception": false,
     "start_time": "2020-12-01T15:02:04.105052",
     "status": "completed"
    },
    "tags": []
   },
   "source": [
    "Всего 14 пропусков. Эти пропуски относятся к новым автомобилям у которых ещё нет владельцев. Удалим эти авто."
   ]
  },
  {
   "cell_type": "code",
   "execution_count": 112,
   "metadata": {
    "execution": {
     "iopub.execute_input": "2020-12-01T15:02:04.786021Z",
     "iopub.status.busy": "2020-12-01T15:02:04.785036Z",
     "iopub.status.idle": "2020-12-01T15:02:04.818760Z",
     "shell.execute_reply": "2020-12-01T15:02:04.819318Z"
    },
    "papermill": {
     "duration": 0.271673,
     "end_time": "2020-12-01T15:02:04.819509",
     "exception": false,
     "start_time": "2020-12-01T15:02:04.547836",
     "status": "completed"
    },
    "tags": []
   },
   "outputs": [],
   "source": [
    "df.dropna(subset=['ПТС'], inplace=True)"
   ]
  },
  {
   "cell_type": "code",
   "execution_count": 113,
   "metadata": {
    "execution": {
     "iopub.execute_input": "2020-12-01T15:02:05.260606Z",
     "iopub.status.busy": "2020-12-01T15:02:05.259611Z",
     "iopub.status.idle": "2020-12-01T15:02:05.263191Z",
     "shell.execute_reply": "2020-12-01T15:02:05.262408Z"
    },
    "papermill": {
     "duration": 0.227159,
     "end_time": "2020-12-01T15:02:05.263335",
     "exception": false,
     "start_time": "2020-12-01T15:02:05.036176",
     "status": "completed"
    },
    "tags": []
   },
   "outputs": [],
   "source": [
    "EDA_done_cols.append('ПТС')"
   ]
  },
  {
   "cell_type": "markdown",
   "metadata": {
    "papermill": {
     "duration": 0.233804,
     "end_time": "2020-12-01T15:02:05.721782",
     "exception": false,
     "start_time": "2020-12-01T15:02:05.487978",
     "status": "completed"
    },
    "tags": []
   },
   "source": [
    "#### 7.15 Владение"
   ]
  },
  {
   "cell_type": "code",
   "execution_count": 114,
   "metadata": {
    "execution": {
     "iopub.execute_input": "2020-12-01T15:02:06.172360Z",
     "iopub.status.busy": "2020-12-01T15:02:06.171065Z",
     "iopub.status.idle": "2020-12-01T15:02:06.236402Z",
     "shell.execute_reply": "2020-12-01T15:02:06.235721Z"
    },
    "papermill": {
     "duration": 0.29083,
     "end_time": "2020-12-01T15:02:06.236567",
     "exception": false,
     "start_time": "2020-12-01T15:02:05.945737",
     "status": "completed"
    },
    "tags": []
   },
   "outputs": [
    {
     "data": {
      "text/plain": [
       "0.679762206502454"
      ]
     },
     "execution_count": 114,
     "metadata": {},
     "output_type": "execute_result"
    }
   ],
   "source": [
    "# Посмотрим на колчество пропусков в этом признаке\n",
    "temp_df = df[df['Train']==1]\n",
    "len(temp_df[temp_df['Владение'].isna()])/len(temp_df)"
   ]
  },
  {
   "cell_type": "markdown",
   "metadata": {
    "papermill": {
     "duration": 0.218078,
     "end_time": "2020-12-01T15:02:06.675943",
     "exception": false,
     "start_time": "2020-12-01T15:02:06.457865",
     "status": "completed"
    },
    "tags": []
   },
   "source": [
    "Видим что 68% данных в этом признаке это пропуски, удалим его."
   ]
  },
  {
   "cell_type": "code",
   "execution_count": 115,
   "metadata": {
    "execution": {
     "iopub.execute_input": "2020-12-01T15:02:07.133644Z",
     "iopub.status.busy": "2020-12-01T15:02:07.132798Z",
     "iopub.status.idle": "2020-12-01T15:02:07.159109Z",
     "shell.execute_reply": "2020-12-01T15:02:07.158329Z"
    },
    "papermill": {
     "duration": 0.255369,
     "end_time": "2020-12-01T15:02:07.159242",
     "exception": false,
     "start_time": "2020-12-01T15:02:06.903873",
     "status": "completed"
    },
    "tags": []
   },
   "outputs": [],
   "source": [
    "df.drop(columns=['Владение'], inplace=True)"
   ]
  },
  {
   "cell_type": "markdown",
   "metadata": {
    "papermill": {
     "duration": 0.225912,
     "end_time": "2020-12-01T15:02:07.613172",
     "exception": false,
     "start_time": "2020-12-01T15:02:07.387260",
     "status": "completed"
    },
    "tags": []
   },
   "source": [
    "#### 7.16 model"
   ]
  },
  {
   "cell_type": "markdown",
   "metadata": {
    "papermill": {
     "duration": 0.225218,
     "end_time": "2020-12-01T15:02:08.063008",
     "exception": false,
     "start_time": "2020-12-01T15:02:07.837790",
     "status": "completed"
    },
    "tags": []
   },
   "source": [
    "Этого признака нет а тестовом наборе данных, поэтому удаляем его"
   ]
  },
  {
   "cell_type": "code",
   "execution_count": 116,
   "metadata": {
    "execution": {
     "iopub.execute_input": "2020-12-01T15:02:08.528147Z",
     "iopub.status.busy": "2020-12-01T15:02:08.527075Z",
     "iopub.status.idle": "2020-12-01T15:02:08.552824Z",
     "shell.execute_reply": "2020-12-01T15:02:08.553446Z"
    },
    "papermill": {
     "duration": 0.263693,
     "end_time": "2020-12-01T15:02:08.553634",
     "exception": false,
     "start_time": "2020-12-01T15:02:08.289941",
     "status": "completed"
    },
    "tags": []
   },
   "outputs": [],
   "source": [
    "df.drop(columns=['model'], inplace=True)"
   ]
  },
  {
   "cell_type": "markdown",
   "metadata": {
    "papermill": {
     "duration": 0.227943,
     "end_time": "2020-12-01T15:02:09.008073",
     "exception": false,
     "start_time": "2020-12-01T15:02:08.780130",
     "status": "completed"
    },
    "tags": []
   },
   "source": [
    "#### Итог EDA:\n",
    "    - были обработаны все данные и приведены к доступному для дальнейшей работы формату\n",
    "    - удалены пропуски\n",
    "    - добавлены новые признаки"
   ]
  },
  {
   "cell_type": "code",
   "execution_count": 117,
   "metadata": {
    "execution": {
     "iopub.execute_input": "2020-12-01T15:02:09.474756Z",
     "iopub.status.busy": "2020-12-01T15:02:09.464448Z",
     "iopub.status.idle": "2020-12-01T15:02:15.434578Z",
     "shell.execute_reply": "2020-12-01T15:02:15.433805Z"
    },
    "papermill": {
     "duration": 6.2039,
     "end_time": "2020-12-01T15:02:15.434731",
     "exception": false,
     "start_time": "2020-12-01T15:02:09.230831",
     "status": "completed"
    },
    "tags": []
   },
   "outputs": [],
   "source": [
    "df.to_csv('EDA_analised_auto_ru_data.csv', index=False)"
   ]
  },
  {
   "cell_type": "code",
   "execution_count": 118,
   "metadata": {
    "execution": {
     "iopub.execute_input": "2020-12-01T15:02:15.884677Z",
     "iopub.status.busy": "2020-12-01T15:02:15.883781Z",
     "iopub.status.idle": "2020-12-01T15:02:17.973108Z",
     "shell.execute_reply": "2020-12-01T15:02:17.971748Z"
    },
    "papermill": {
     "duration": 2.315654,
     "end_time": "2020-12-01T15:02:17.973311",
     "exception": false,
     "start_time": "2020-12-01T15:02:15.657657",
     "status": "completed"
    },
    "tags": []
   },
   "outputs": [
    {
     "name": "stderr",
     "output_type": "stream",
     "text": [
      "/opt/conda/lib/python3.7/site-packages/IPython/core/interactiveshell.py:3063: DtypeWarning: Columns (15) have mixed types.Specify dtype option on import or set low_memory=False.\n",
      "  interactivity=interactivity, compiler=compiler, result=result)\n"
     ]
    }
   ],
   "source": [
    "df = pd.read_csv('EDA_analised_auto_ru_data.csv')"
   ]
  },
  {
   "cell_type": "markdown",
   "metadata": {
    "papermill": {
     "duration": 0.223013,
     "end_time": "2020-12-01T15:02:18.420028",
     "exception": false,
     "start_time": "2020-12-01T15:02:18.197015",
     "status": "completed"
    },
    "tags": []
   },
   "source": [
    "### 8 Перекрёстный анализ между переменными и целевой переменной price"
   ]
  },
  {
   "cell_type": "code",
   "execution_count": 119,
   "metadata": {
    "execution": {
     "iopub.execute_input": "2020-12-01T15:02:18.869240Z",
     "iopub.status.busy": "2020-12-01T15:02:18.868415Z",
     "iopub.status.idle": "2020-12-01T15:02:20.249912Z",
     "shell.execute_reply": "2020-12-01T15:02:20.249003Z"
    },
    "papermill": {
     "duration": 1.607997,
     "end_time": "2020-12-01T15:02:20.250063",
     "exception": false,
     "start_time": "2020-12-01T15:02:18.642066",
     "status": "completed"
    },
    "tags": []
   },
   "outputs": [],
   "source": [
    "import seaborn as sns"
   ]
  },
  {
   "cell_type": "code",
   "execution_count": 120,
   "metadata": {
    "execution": {
     "iopub.execute_input": "2020-12-01T15:02:20.716698Z",
     "iopub.status.busy": "2020-12-01T15:02:20.715646Z",
     "iopub.status.idle": "2020-12-01T15:02:20.750621Z",
     "shell.execute_reply": "2020-12-01T15:02:20.749533Z"
    },
    "papermill": {
     "duration": 0.266612,
     "end_time": "2020-12-01T15:02:20.750784",
     "exception": false,
     "start_time": "2020-12-01T15:02:20.484172",
     "status": "completed"
    },
    "tags": []
   },
   "outputs": [],
   "source": [
    "corrMatrix = df.corr()"
   ]
  },
  {
   "cell_type": "code",
   "execution_count": 121,
   "metadata": {
    "execution": {
     "iopub.execute_input": "2020-12-01T15:02:21.213555Z",
     "iopub.status.busy": "2020-12-01T15:02:21.212174Z",
     "iopub.status.idle": "2020-12-01T15:02:22.325378Z",
     "shell.execute_reply": "2020-12-01T15:02:22.326020Z"
    },
    "papermill": {
     "duration": 1.35268,
     "end_time": "2020-12-01T15:02:22.326201",
     "exception": false,
     "start_time": "2020-12-01T15:02:20.973521",
     "status": "completed"
    },
    "tags": []
   },
   "outputs": [
    {
     "data": {
      "image/png": "[encoded data removed]",
      "text/plain": [
       "<Figure size 720x720 with 2 Axes>"
      ]
     },
     "metadata": {
      "needs_background": "light"
     },
     "output_type": "display_data"
    }
   ],
   "source": [
    "plt.figure(figsize=(10,10))\n",
    "sns.heatmap(corrMatrix, annot=True)\n",
    "plt.show()"
   ]
  },
  {
   "cell_type": "markdown",
   "metadata": {
    "papermill": {
     "duration": 0.293397,
     "end_time": "2020-12-01T15:02:22.859287",
     "exception": false,
     "start_time": "2020-12-01T15:02:22.565890",
     "status": "completed"
    },
    "tags": []
   },
   "source": [
    "Видим что большая корреляция наблюдается между двумя признаками modelDate и productionDate, остальные признаки скоррелированы не так сильно. На данном этапе не будем принимать решение какой из столбцов modelDate или productionDate удалять."
   ]
  },
  {
   "cell_type": "markdown",
   "metadata": {
    "papermill": {
     "duration": 0.233221,
     "end_time": "2020-12-01T15:02:23.320272",
     "exception": false,
     "start_time": "2020-12-01T15:02:23.087051",
     "status": "completed"
    },
    "tags": []
   },
   "source": [
    "### 9 Добавление новых признаков"
   ]
  },
  {
   "cell_type": "code",
   "execution_count": 122,
   "metadata": {
    "execution": {
     "iopub.execute_input": "2020-12-01T15:02:23.791702Z",
     "iopub.status.busy": "2020-12-01T15:02:23.790913Z",
     "iopub.status.idle": "2020-12-01T15:02:23.843037Z",
     "shell.execute_reply": "2020-12-01T15:02:23.842305Z"
    },
    "papermill": {
     "duration": 0.28807,
     "end_time": "2020-12-01T15:02:23.843165",
     "exception": false,
     "start_time": "2020-12-01T15:02:23.555095",
     "status": "completed"
    },
    "tags": []
   },
   "outputs": [],
   "source": [
    "df['Руль_num'] = 0\n",
    "for i in range(1, len(df['Руль'].unique())+1):\n",
    "    df.loc[df[df['Руль'] == df['Руль'].unique()[i-1]].index, 'Руль_num'] = i"
   ]
  },
  {
   "cell_type": "code",
   "execution_count": 123,
   "metadata": {
    "execution": {
     "iopub.execute_input": "2020-12-01T15:02:24.302995Z",
     "iopub.status.busy": "2020-12-01T15:02:24.301862Z",
     "iopub.status.idle": "2020-12-01T15:02:24.306592Z",
     "shell.execute_reply": "2020-12-01T15:02:24.307186Z"
    },
    "papermill": {
     "duration": 0.242411,
     "end_time": "2020-12-01T15:02:24.307424",
     "exception": false,
     "start_time": "2020-12-01T15:02:24.065013",
     "status": "completed"
    },
    "tags": []
   },
   "outputs": [
    {
     "data": {
      "text/plain": [
       "array([True, 'True', 'Растаможен'], dtype=object)"
      ]
     },
     "execution_count": 123,
     "metadata": {},
     "output_type": "execute_result"
    }
   ],
   "source": [
    "# признак Таможня содержит одинаковые значения, удалим его\n",
    "df['Таможня'].unique()"
   ]
  },
  {
   "cell_type": "code",
   "execution_count": 124,
   "metadata": {
    "execution": {
     "iopub.execute_input": "2020-12-01T15:02:24.768617Z",
     "iopub.status.busy": "2020-12-01T15:02:24.767766Z",
     "iopub.status.idle": "2020-12-01T15:02:24.782727Z",
     "shell.execute_reply": "2020-12-01T15:02:24.781911Z"
    },
    "papermill": {
     "duration": 0.246309,
     "end_time": "2020-12-01T15:02:24.782866",
     "exception": false,
     "start_time": "2020-12-01T15:02:24.536557",
     "status": "completed"
    },
    "tags": []
   },
   "outputs": [],
   "source": [
    "df.drop(columns=['Таможня'], inplace=True)"
   ]
  },
  {
   "cell_type": "code",
   "execution_count": 125,
   "metadata": {
    "execution": {
     "iopub.execute_input": "2020-12-01T15:02:25.241721Z",
     "iopub.status.busy": "2020-12-01T15:02:25.240492Z",
     "iopub.status.idle": "2020-12-01T15:02:25.261277Z",
     "shell.execute_reply": "2020-12-01T15:02:25.260523Z"
    },
    "papermill": {
     "duration": 0.253971,
     "end_time": "2020-12-01T15:02:25.261414",
     "exception": false,
     "start_time": "2020-12-01T15:02:25.007443",
     "status": "completed"
    },
    "tags": []
   },
   "outputs": [],
   "source": [
    "df.drop(columns=['description'], inplace=True)"
   ]
  },
  {
   "cell_type": "code",
   "execution_count": 126,
   "metadata": {
    "execution": {
     "iopub.execute_input": "2020-12-01T15:02:25.719223Z",
     "iopub.status.busy": "2020-12-01T15:02:25.718375Z",
     "iopub.status.idle": "2020-12-01T15:02:25.723888Z",
     "shell.execute_reply": "2020-12-01T15:02:25.723229Z"
    },
    "papermill": {
     "duration": 0.236835,
     "end_time": "2020-12-01T15:02:25.724026",
     "exception": false,
     "start_time": "2020-12-01T15:02:25.487191",
     "status": "completed"
    },
    "tags": []
   },
   "outputs": [
    {
     "data": {
      "text/plain": [
       "Index(['bodyType', 'brand', 'color', 'fuelType', 'modelDate', 'numberOfDoors',\n",
       "       'productionDate', 'vehicleTransmission', 'enginePower', 'mileage',\n",
       "       'Привод', 'Руль', 'Владельцы', 'ПТС', 'id', 'price', 'Train',\n",
       "       'km_per_year', 'pDate_more_2015', 'pDate_more_2005', 'pDate_more_1990',\n",
       "       'pDate_less_1990', 'words_in_description', 'count_words_d', 'Руль_num'],\n",
       "      dtype='object')"
      ]
     },
     "execution_count": 126,
     "metadata": {},
     "output_type": "execute_result"
    }
   ],
   "source": [
    "df.columns"
   ]
  },
  {
   "cell_type": "code",
   "execution_count": 127,
   "metadata": {
    "execution": {
     "iopub.execute_input": "2020-12-01T15:02:26.215648Z",
     "iopub.status.busy": "2020-12-01T15:02:26.210284Z",
     "iopub.status.idle": "2020-12-01T15:02:26.305168Z",
     "shell.execute_reply": "2020-12-01T15:02:26.304362Z"
    },
    "papermill": {
     "duration": 0.355815,
     "end_time": "2020-12-01T15:02:26.305302",
     "exception": false,
     "start_time": "2020-12-01T15:02:25.949487",
     "status": "completed"
    },
    "tags": []
   },
   "outputs": [],
   "source": [
    "df['price'] = df['price'].apply(lambda x: np.log(x))"
   ]
  },
  {
   "cell_type": "code",
   "execution_count": 128,
   "metadata": {
    "execution": {
     "iopub.execute_input": "2020-12-01T15:02:26.767141Z",
     "iopub.status.busy": "2020-12-01T15:02:26.766249Z",
     "iopub.status.idle": "2020-12-01T15:02:26.833859Z",
     "shell.execute_reply": "2020-12-01T15:02:26.833060Z"
    },
    "papermill": {
     "duration": 0.301564,
     "end_time": "2020-12-01T15:02:26.833998",
     "exception": false,
     "start_time": "2020-12-01T15:02:26.532434",
     "status": "completed"
    },
    "tags": []
   },
   "outputs": [],
   "source": [
    "df = pd.get_dummies(df, columns = ['bodyType', 'color', 'fuelType', 'vehicleTransmission', 'Привод', 'ПТС'], dummy_na=False)"
   ]
  },
  {
   "cell_type": "code",
   "execution_count": 129,
   "metadata": {
    "execution": {
     "iopub.execute_input": "2020-12-01T15:02:27.293959Z",
     "iopub.status.busy": "2020-12-01T15:02:27.291823Z",
     "iopub.status.idle": "2020-12-01T15:02:27.316537Z",
     "shell.execute_reply": "2020-12-01T15:02:27.315658Z"
    },
    "papermill": {
     "duration": 0.257484,
     "end_time": "2020-12-01T15:02:27.316700",
     "exception": false,
     "start_time": "2020-12-01T15:02:27.059216",
     "status": "completed"
    },
    "tags": []
   },
   "outputs": [],
   "source": [
    "X_train = df[df.Train==1]\n",
    "X_sub = df[df.Train==0]"
   ]
  },
  {
   "cell_type": "markdown",
   "metadata": {
    "papermill": {
     "duration": 0.226046,
     "end_time": "2020-12-01T15:02:27.770464",
     "exception": false,
     "start_time": "2020-12-01T15:02:27.544418",
     "status": "completed"
    },
    "tags": []
   },
   "source": [
    "### 10 Подготовка датасета для машинного обучения"
   ]
  },
  {
   "cell_type": "code",
   "execution_count": 130,
   "metadata": {
    "execution": {
     "iopub.execute_input": "2020-12-01T15:02:28.228990Z",
     "iopub.status.busy": "2020-12-01T15:02:28.228186Z",
     "iopub.status.idle": "2020-12-01T15:02:28.420597Z",
     "shell.execute_reply": "2020-12-01T15:02:28.419735Z"
    },
    "papermill": {
     "duration": 0.423978,
     "end_time": "2020-12-01T15:02:28.420739",
     "exception": false,
     "start_time": "2020-12-01T15:02:27.996761",
     "status": "completed"
    },
    "tags": []
   },
   "outputs": [],
   "source": [
    "from sklearn.model_selection import train_test_split"
   ]
  },
  {
   "cell_type": "code",
   "execution_count": 131,
   "metadata": {
    "execution": {
     "iopub.execute_input": "2020-12-01T15:02:28.889429Z",
     "iopub.status.busy": "2020-12-01T15:02:28.888643Z",
     "iopub.status.idle": "2020-12-01T15:02:28.893661Z",
     "shell.execute_reply": "2020-12-01T15:02:28.892930Z"
    },
    "papermill": {
     "duration": 0.244966,
     "end_time": "2020-12-01T15:02:28.893798",
     "exception": false,
     "start_time": "2020-12-01T15:02:28.648832",
     "status": "completed"
    },
    "tags": []
   },
   "outputs": [],
   "source": [
    "X = X_train.drop(columns=['brand', 'id', 'Train', 'words_in_description', 'Руль', 'price'])\n",
    "y = X_train['price'].values"
   ]
  },
  {
   "cell_type": "code",
   "execution_count": 132,
   "metadata": {
    "execution": {
     "iopub.execute_input": "2020-12-01T15:02:29.361490Z",
     "iopub.status.busy": "2020-12-01T15:02:29.360630Z",
     "iopub.status.idle": "2020-12-01T15:02:29.364206Z",
     "shell.execute_reply": "2020-12-01T15:02:29.364862Z"
    },
    "papermill": {
     "duration": 0.240785,
     "end_time": "2020-12-01T15:02:29.365032",
     "exception": false,
     "start_time": "2020-12-01T15:02:29.124247",
     "status": "completed"
    },
    "tags": []
   },
   "outputs": [],
   "source": [
    "X_test = X_sub.drop(columns=['brand', 'id', 'price', 'Train', 'Руль', 'words_in_description']) "
   ]
  },
  {
   "cell_type": "code",
   "execution_count": 133,
   "metadata": {
    "execution": {
     "iopub.execute_input": "2020-12-01T15:02:29.832627Z",
     "iopub.status.busy": "2020-12-01T15:02:29.831465Z",
     "iopub.status.idle": "2020-12-01T15:02:29.845756Z",
     "shell.execute_reply": "2020-12-01T15:02:29.844903Z"
    },
    "papermill": {
     "duration": 0.249234,
     "end_time": "2020-12-01T15:02:29.845898",
     "exception": false,
     "start_time": "2020-12-01T15:02:29.596664",
     "status": "completed"
    },
    "tags": []
   },
   "outputs": [],
   "source": [
    "X_train_split, X_val_split, y_train_split, y_val_split = train_test_split(X, y, test_size=0.3)"
   ]
  },
  {
   "cell_type": "markdown",
   "metadata": {
    "papermill": {
     "duration": 0.228955,
     "end_time": "2020-12-01T15:02:30.303564",
     "exception": false,
     "start_time": "2020-12-01T15:02:30.074609",
     "status": "completed"
    },
    "tags": []
   },
   "source": [
    "### 11 Single model"
   ]
  },
  {
   "cell_type": "code",
   "execution_count": 134,
   "metadata": {
    "execution": {
     "iopub.execute_input": "2020-12-01T15:02:30.766064Z",
     "iopub.status.busy": "2020-12-01T15:02:30.765184Z",
     "iopub.status.idle": "2020-12-01T15:02:31.029946Z",
     "shell.execute_reply": "2020-12-01T15:02:31.029047Z"
    },
    "papermill": {
     "duration": 0.495905,
     "end_time": "2020-12-01T15:02:31.030086",
     "exception": false,
     "start_time": "2020-12-01T15:02:30.534181",
     "status": "completed"
    },
    "tags": []
   },
   "outputs": [],
   "source": [
    "from sklearn.ensemble import RandomForestRegressor"
   ]
  },
  {
   "cell_type": "code",
   "execution_count": 135,
   "metadata": {
    "execution": {
     "iopub.execute_input": "2020-12-01T15:02:31.501198Z",
     "iopub.status.busy": "2020-12-01T15:02:31.499813Z",
     "iopub.status.idle": "2020-12-01T15:02:31.503302Z",
     "shell.execute_reply": "2020-12-01T15:02:31.502493Z"
    },
    "papermill": {
     "duration": 0.245871,
     "end_time": "2020-12-01T15:02:31.503553",
     "exception": false,
     "start_time": "2020-12-01T15:02:31.257682",
     "status": "completed"
    },
    "tags": []
   },
   "outputs": [],
   "source": [
    "def mape(actual, pred): \n",
    "    actual, pred = np.array(actual), np.array(pred)\n",
    "    return np.mean(np.abs((actual - pred) / actual)) * 100"
   ]
  },
  {
   "cell_type": "code",
   "execution_count": 136,
   "metadata": {
    "execution": {
     "iopub.execute_input": "2020-12-01T15:02:31.975625Z",
     "iopub.status.busy": "2020-12-01T15:02:31.974497Z",
     "iopub.status.idle": "2020-12-01T15:02:31.978147Z",
     "shell.execute_reply": "2020-12-01T15:02:31.977341Z"
    },
    "papermill": {
     "duration": 0.242415,
     "end_time": "2020-12-01T15:02:31.978288",
     "exception": false,
     "start_time": "2020-12-01T15:02:31.735873",
     "status": "completed"
    },
    "tags": []
   },
   "outputs": [],
   "source": [
    "RANDOM_SEED = 42\n",
    "ITERATIONS = 5000"
   ]
  },
  {
   "cell_type": "code",
   "execution_count": 137,
   "metadata": {
    "execution": {
     "iopub.execute_input": "2020-12-01T15:02:32.450735Z",
     "iopub.status.busy": "2020-12-01T15:02:32.449168Z",
     "iopub.status.idle": "2020-12-01T15:02:32.453447Z",
     "shell.execute_reply": "2020-12-01T15:02:32.452799Z"
    },
    "papermill": {
     "duration": 0.244036,
     "end_time": "2020-12-01T15:02:32.453610",
     "exception": false,
     "start_time": "2020-12-01T15:02:32.209574",
     "status": "completed"
    },
    "tags": []
   },
   "outputs": [],
   "source": [
    "model = RandomForestRegressor(random_state = RANDOM_SEED, n_jobs = -1, verbose = 1)"
   ]
  },
  {
   "cell_type": "code",
   "execution_count": 138,
   "metadata": {
    "execution": {
     "iopub.execute_input": "2020-12-01T15:02:32.923233Z",
     "iopub.status.busy": "2020-12-01T15:02:32.921407Z",
     "iopub.status.idle": "2020-12-01T15:02:42.952874Z",
     "shell.execute_reply": "2020-12-01T15:02:42.951535Z"
    },
    "papermill": {
     "duration": 10.26764,
     "end_time": "2020-12-01T15:02:42.953016",
     "exception": false,
     "start_time": "2020-12-01T15:02:32.685376",
     "status": "completed"
    },
    "tags": []
   },
   "outputs": [
    {
     "name": "stderr",
     "output_type": "stream",
     "text": [
      "[Parallel(n_jobs=-1)]: Using backend ThreadingBackend with 4 concurrent workers.\n",
      "[Parallel(n_jobs=-1)]: Done  42 tasks      | elapsed:    4.3s\n",
      "[Parallel(n_jobs=-1)]: Done 100 out of 100 | elapsed:    9.7s finished\n"
     ]
    },
    {
     "data": {
      "text/plain": [
       "RandomForestRegressor(n_jobs=-1, random_state=42, verbose=1)"
      ]
     },
     "execution_count": 138,
     "metadata": {},
     "output_type": "execute_result"
    }
   ],
   "source": [
    "model.fit(X_train_split, y_train_split)"
   ]
  },
  {
   "cell_type": "code",
   "execution_count": 139,
   "metadata": {
    "execution": {
     "iopub.execute_input": "2020-12-01T15:02:43.423920Z",
     "iopub.status.busy": "2020-12-01T15:02:43.422743Z",
     "iopub.status.idle": "2020-12-01T15:02:43.828783Z",
     "shell.execute_reply": "2020-12-01T15:02:43.829511Z"
    },
    "papermill": {
     "duration": 0.646508,
     "end_time": "2020-12-01T15:02:43.829695",
     "exception": false,
     "start_time": "2020-12-01T15:02:43.183187",
     "status": "completed"
    },
    "tags": []
   },
   "outputs": [
    {
     "name": "stderr",
     "output_type": "stream",
     "text": [
      "[Parallel(n_jobs=4)]: Using backend ThreadingBackend with 4 concurrent workers.\n",
      "[Parallel(n_jobs=4)]: Done  42 tasks      | elapsed:    0.1s\n"
     ]
    },
    {
     "name": "stdout",
     "output_type": "stream",
     "text": [
      "1.1881726587603503\n"
     ]
    },
    {
     "name": "stderr",
     "output_type": "stream",
     "text": [
      "[Parallel(n_jobs=4)]: Done 100 out of 100 | elapsed:    0.2s finished\n"
     ]
    }
   ],
   "source": [
    "print(mape(y_val_split, model.predict(X_val_split)))"
   ]
  },
  {
   "cell_type": "code",
   "execution_count": 140,
   "metadata": {
    "execution": {
     "iopub.execute_input": "2020-12-01T15:02:44.305027Z",
     "iopub.status.busy": "2020-12-01T15:02:44.303819Z",
     "iopub.status.idle": "2020-12-01T15:02:44.307368Z",
     "shell.execute_reply": "2020-12-01T15:02:44.306684Z"
    },
    "papermill": {
     "duration": 0.241642,
     "end_time": "2020-12-01T15:02:44.307525",
     "exception": false,
     "start_time": "2020-12-01T15:02:44.065883",
     "status": "completed"
    },
    "tags": []
   },
   "outputs": [],
   "source": [
    "import pickle"
   ]
  },
  {
   "cell_type": "code",
   "execution_count": 141,
   "metadata": {
    "execution": {
     "iopub.execute_input": "2020-12-01T15:02:44.817703Z",
     "iopub.status.busy": "2020-12-01T15:02:44.816623Z",
     "iopub.status.idle": "2020-12-01T15:02:45.365352Z",
     "shell.execute_reply": "2020-12-01T15:02:45.364551Z"
    },
    "papermill": {
     "duration": 0.822619,
     "end_time": "2020-12-01T15:02:45.365518",
     "exception": false,
     "start_time": "2020-12-01T15:02:44.542899",
     "status": "completed"
    },
    "tags": []
   },
   "outputs": [],
   "source": [
    "filename = 'RandomForestRegressor_single_model.sav'\n",
    "pickle.dump(model, open(filename, 'wb'))"
   ]
  },
  {
   "cell_type": "code",
   "execution_count": 142,
   "metadata": {
    "execution": {
     "iopub.execute_input": "2020-12-01T15:02:45.847372Z",
     "iopub.status.busy": "2020-12-01T15:02:45.846581Z",
     "iopub.status.idle": "2020-12-01T15:02:46.006740Z",
     "shell.execute_reply": "2020-12-01T15:02:46.005521Z"
    },
    "papermill": {
     "duration": 0.401597,
     "end_time": "2020-12-01T15:02:46.006935",
     "exception": false,
     "start_time": "2020-12-01T15:02:45.605338",
     "status": "completed"
    },
    "tags": []
   },
   "outputs": [
    {
     "name": "stderr",
     "output_type": "stream",
     "text": [
      "[Parallel(n_jobs=4)]: Using backend ThreadingBackend with 4 concurrent workers.\n",
      "[Parallel(n_jobs=4)]: Done  42 tasks      | elapsed:    0.0s\n",
      "[Parallel(n_jobs=4)]: Done 100 out of 100 | elapsed:    0.1s finished\n"
     ]
    }
   ],
   "source": [
    "predict_submission = model.predict(X_test)\n",
    "sample_submission['price'] = predict_submission\n",
    "sample_submission['price'] = sample_submission['price'].apply(lambda x: np.exp(x))\n",
    "sample_submission['price'] = sample_submission['price'].apply(lambda x: round(x/1000)*1000)\n",
    "sample_submission.to_csv(f'catboost_submission_v3.csv', index=False)"
   ]
  },
  {
   "cell_type": "code",
   "execution_count": 143,
   "metadata": {
    "execution": {
     "iopub.execute_input": "2020-12-01T15:02:46.487179Z",
     "iopub.status.busy": "2020-12-01T15:02:46.486156Z",
     "iopub.status.idle": "2020-12-01T15:02:46.491357Z",
     "shell.execute_reply": "2020-12-01T15:02:46.490761Z"
    },
    "papermill": {
     "duration": 0.249802,
     "end_time": "2020-12-01T15:02:46.491526",
     "exception": false,
     "start_time": "2020-12-01T15:02:46.241724",
     "status": "completed"
    },
    "tags": []
   },
   "outputs": [
    {
     "data": {
      "text/html": [
       "<div>\n",
       "<style scoped>\n",
       "    .dataframe tbody tr th:only-of-type {\n",
       "        vertical-align: middle;\n",
       "    }\n",
       "\n",
       "    .dataframe tbody tr th {\n",
       "        vertical-align: top;\n",
       "    }\n",
       "\n",
       "    .dataframe thead th {\n",
       "        text-align: right;\n",
       "    }\n",
       "</style>\n",
       "<table border=\"1\" class=\"dataframe\">\n",
       "  <thead>\n",
       "    <tr style=\"text-align: right;\">\n",
       "      <th></th>\n",
       "      <th>id</th>\n",
       "      <th>price</th>\n",
       "    </tr>\n",
       "  </thead>\n",
       "  <tbody>\n",
       "    <tr>\n",
       "      <th>0</th>\n",
       "      <td>0</td>\n",
       "      <td>2074000</td>\n",
       "    </tr>\n",
       "    <tr>\n",
       "      <th>1</th>\n",
       "      <td>1</td>\n",
       "      <td>2988000</td>\n",
       "    </tr>\n",
       "    <tr>\n",
       "      <th>2</th>\n",
       "      <td>2</td>\n",
       "      <td>1556000</td>\n",
       "    </tr>\n",
       "    <tr>\n",
       "      <th>3</th>\n",
       "      <td>3</td>\n",
       "      <td>3129000</td>\n",
       "    </tr>\n",
       "    <tr>\n",
       "      <th>4</th>\n",
       "      <td>4</td>\n",
       "      <td>5730000</td>\n",
       "    </tr>\n",
       "  </tbody>\n",
       "</table>\n",
       "</div>"
      ],
      "text/plain": [
       "   id    price\n",
       "0   0  2074000\n",
       "1   1  2988000\n",
       "2   2  1556000\n",
       "3   3  3129000\n",
       "4   4  5730000"
      ]
     },
     "execution_count": 143,
     "metadata": {},
     "output_type": "execute_result"
    }
   ],
   "source": [
    "sample_submission.head()"
   ]
  },
  {
   "cell_type": "markdown",
   "metadata": {
    "papermill": {
     "duration": 0.234949,
     "end_time": "2020-12-01T15:02:46.958035",
     "exception": false,
     "start_time": "2020-12-01T15:02:46.723086",
     "status": "completed"
    },
    "tags": []
   },
   "source": [
    "### Fit&Submit Stacking"
   ]
  },
  {
   "cell_type": "code",
   "execution_count": 144,
   "metadata": {
    "execution": {
     "iopub.execute_input": "2020-12-01T15:02:47.431232Z",
     "iopub.status.busy": "2020-12-01T15:02:47.430356Z",
     "iopub.status.idle": "2020-12-01T15:02:47.438548Z",
     "shell.execute_reply": "2020-12-01T15:02:47.437851Z"
    },
    "papermill": {
     "duration": 0.246142,
     "end_time": "2020-12-01T15:02:47.438695",
     "exception": false,
     "start_time": "2020-12-01T15:02:47.192553",
     "status": "completed"
    },
    "tags": []
   },
   "outputs": [],
   "source": [
    "from sklearn.ensemble import BaggingRegressor\n",
    "from sklearn.tree import ExtraTreeRegressor\n",
    "from tqdm.notebook import tqdm"
   ]
  },
  {
   "cell_type": "code",
   "execution_count": 145,
   "metadata": {
    "execution": {
     "iopub.execute_input": "2020-12-01T15:02:47.919985Z",
     "iopub.status.busy": "2020-12-01T15:02:47.918440Z",
     "iopub.status.idle": "2020-12-01T15:03:17.564274Z",
     "shell.execute_reply": "2020-12-01T15:03:17.563453Z"
    },
    "papermill": {
     "duration": 29.892308,
     "end_time": "2020-12-01T15:03:17.564409",
     "exception": false,
     "start_time": "2020-12-01T15:02:47.672101",
     "status": "completed"
    },
    "tags": []
   },
   "outputs": [
    {
     "data": {
      "application/vnd.jupyter.widget-view+json": {
       "model_id": "434a4eef180e4442916bf9a049f7c7be",
       "version_major": 2,
       "version_minor": 0
      },
      "text/plain": [
       "HBox(children=(FloatProgress(value=0.0, max=2.0), HTML(value='')))"
      ]
     },
     "metadata": {},
     "output_type": "display_data"
    },
    {
     "name": "stderr",
     "output_type": "stream",
     "text": [
      "[Parallel(n_jobs=-1)]: Using backend ThreadingBackend with 4 concurrent workers.\n",
      "[Parallel(n_jobs=-1)]: Done  42 tasks      | elapsed:    4.3s\n",
      "[Parallel(n_jobs=-1)]: Done 192 tasks      | elapsed:   19.9s\n",
      "[Parallel(n_jobs=-1)]: Done 250 out of 250 | elapsed:   25.6s finished\n",
      "[Parallel(n_jobs=4)]: Using backend ThreadingBackend with 4 concurrent workers.\n",
      "[Parallel(n_jobs=4)]: Done  42 tasks      | elapsed:    0.0s\n",
      "[Parallel(n_jobs=4)]: Done 192 tasks      | elapsed:    0.1s\n",
      "[Parallel(n_jobs=4)]: Done 250 out of 250 | elapsed:    0.1s finished\n"
     ]
    },
    {
     "name": "stdout",
     "output_type": "stream",
     "text": [
      "\n"
     ]
    }
   ],
   "source": [
    "models = [RandomForestRegressor(n_estimators =250,random_state = RANDOM_SEED, n_jobs = -1, verbose = 1),\n",
    "         BaggingRegressor(ExtraTreeRegressor(random_state=RANDOM_SEED), random_state=RANDOM_SEED)]\n",
    "\n",
    "def stacking_model_predict(models, X, y, X_sub, sample_submission):\n",
    "    for model_ in tqdm(models):\n",
    "        model_.fit(X, y)\n",
    "        pred_subm = model_.predict(X_sub)\n",
    "        \n",
    "        sample_submission[str(model_)[:6]] = pred_subm\n",
    "        sample_submission[str(model_)[:6]] = sample_submission[str(model_)[:6]].apply(lambda x: np.exp(x) )\n",
    "        sample_submission[str(model_)[:6]] = sample_submission[str(model_)[:6]].apply(lambda x: round(x/1000)*1000)\n",
    "    \n",
    "    sample_submission['price'] = sample_submission.iloc[:,2:].mean(axis=1)\n",
    "    sample_submission['price'] = sample_submission['price'].apply(lambda x: round(x/1000)*1000)\n",
    "    sample_submission[['id', 'price']].to_csv(f'submission_stack_v3.csv', index=False)\n",
    "\n",
    "stacking_model_predict(models, X_train_split, y_train_split, X_test, sample_submission)"
   ]
  },
  {
   "cell_type": "code",
   "execution_count": 146,
   "metadata": {
    "execution": {
     "iopub.execute_input": "2020-12-01T15:03:18.095613Z",
     "iopub.status.busy": "2020-12-01T15:03:18.094661Z",
     "iopub.status.idle": "2020-12-01T15:03:18.099502Z",
     "shell.execute_reply": "2020-12-01T15:03:18.098887Z"
    },
    "papermill": {
     "duration": 0.25223,
     "end_time": "2020-12-01T15:03:18.099643",
     "exception": false,
     "start_time": "2020-12-01T15:03:17.847413",
     "status": "completed"
    },
    "tags": []
   },
   "outputs": [
    {
     "data": {
      "text/html": [
       "<div>\n",
       "<style scoped>\n",
       "    .dataframe tbody tr th:only-of-type {\n",
       "        vertical-align: middle;\n",
       "    }\n",
       "\n",
       "    .dataframe tbody tr th {\n",
       "        vertical-align: top;\n",
       "    }\n",
       "\n",
       "    .dataframe thead th {\n",
       "        text-align: right;\n",
       "    }\n",
       "</style>\n",
       "<table border=\"1\" class=\"dataframe\">\n",
       "  <thead>\n",
       "    <tr style=\"text-align: right;\">\n",
       "      <th></th>\n",
       "      <th>id</th>\n",
       "      <th>price</th>\n",
       "      <th>Random</th>\n",
       "      <th>Baggin</th>\n",
       "    </tr>\n",
       "  </thead>\n",
       "  <tbody>\n",
       "    <tr>\n",
       "      <th>0</th>\n",
       "      <td>0</td>\n",
       "      <td>2131000</td>\n",
       "      <td>2066000</td>\n",
       "      <td>2196000</td>\n",
       "    </tr>\n",
       "    <tr>\n",
       "      <th>1</th>\n",
       "      <td>1</td>\n",
       "      <td>2864000</td>\n",
       "      <td>2906000</td>\n",
       "      <td>2823000</td>\n",
       "    </tr>\n",
       "    <tr>\n",
       "      <th>2</th>\n",
       "      <td>2</td>\n",
       "      <td>1548000</td>\n",
       "      <td>1556000</td>\n",
       "      <td>1540000</td>\n",
       "    </tr>\n",
       "    <tr>\n",
       "      <th>3</th>\n",
       "      <td>3</td>\n",
       "      <td>3193000</td>\n",
       "      <td>3130000</td>\n",
       "      <td>3256000</td>\n",
       "    </tr>\n",
       "    <tr>\n",
       "      <th>4</th>\n",
       "      <td>4</td>\n",
       "      <td>6384000</td>\n",
       "      <td>5722000</td>\n",
       "      <td>7045000</td>\n",
       "    </tr>\n",
       "  </tbody>\n",
       "</table>\n",
       "</div>"
      ],
      "text/plain": [
       "   id    price   Random   Baggin\n",
       "0   0  2131000  2066000  2196000\n",
       "1   1  2864000  2906000  2823000\n",
       "2   2  1548000  1556000  1540000\n",
       "3   3  3193000  3130000  3256000\n",
       "4   4  6384000  5722000  7045000"
      ]
     },
     "execution_count": 146,
     "metadata": {},
     "output_type": "execute_result"
    }
   ],
   "source": [
    "sample_submission.head()"
   ]
  },
  {
   "cell_type": "code",
   "execution_count": null,
   "metadata": {
    "papermill": {
     "duration": 0.23806,
     "end_time": "2020-12-01T15:03:18.578522",
     "exception": false,
     "start_time": "2020-12-01T15:03:18.340462",
     "status": "completed"
    },
    "tags": []
   },
   "outputs": [],
   "source": []
  }
 ],
 "metadata": {
  "kernelspec": {
   "display_name": "Python 3",
   "language": "python",
   "name": "python3"
  },
  "language_info": {
   "codemirror_mode": {
    "name": "ipython",
    "version": 3
   },
   "file_extension": ".py",
   "mimetype": "text/x-python",
   "name": "python",
   "nbconvert_exporter": "python",
   "pygments_lexer": "ipython3",
   "version": "3.7.6"
  },
  "papermill": {
   "duration": 8327.552482,
   "end_time": "2020-12-01T15:03:19.845027",
   "environment_variables": {},
   "exception": null,
   "input_path": "__notebook__.ipynb",
   "output_path": "__notebook__.ipynb",
   "parameters": {},
   "start_time": "2020-12-01T12:44:32.292545",
   "version": "2.1.0"
  },
  "widgets": {
   "application/vnd.jupyter.widget-state+json": {
    "state": {
     "0e64d9ac8a2544409eea833a57500621": {
      "model_module": "@jupyter-widgets/controls",
      "model_module_version": "1.5.0",
      "model_name": "DescriptionStyleModel",
      "state": {
       "_model_module": "@jupyter-widgets/controls",
       "_model_module_version": "1.5.0",
       "_model_name": "DescriptionStyleModel",
       "_view_count": null,
       "_view_module": "@jupyter-widgets/base",
       "_view_module_version": "1.2.0",
       "_view_name": "StyleView",
       "description_width": ""
      }
     },
     "1b992befd6fc4445a3ad66dc73194aab": {
      "model_module": "@jupyter-widgets/controls",
      "model_module_version": "1.5.0",
      "model_name": "FloatProgressModel",
      "state": {
       "_dom_classes": [],
       "_model_module": "@jupyter-widgets/controls",
       "_model_module_version": "1.5.0",
       "_model_name": "FloatProgressModel",
       "_view_count": null,
       "_view_module": "@jupyter-widgets/controls",
       "_view_module_version": "1.5.0",
       "_view_name": "ProgressView",
       "bar_style": "success",
       "description": "100%",
       "description_tooltip": null,
       "layout": "IPY_MODEL_d119a97e83a44cabba5551dea86823e9",
       "max": 2.0,
       "min": 0.0,
       "orientation": "horizontal",
       "style": "IPY_MODEL_34413a8758c54eb5b08a11778a1b808d",
       "value": 2.0
      }
     },
     "3066cc0ff6344fe38fbbb50aea8f2c31": {
      "model_module": "@jupyter-widgets/base",
      "model_module_version": "1.2.0",
      "model_name": "LayoutModel",
      "state": {
       "_model_module": "@jupyter-widgets/base",
       "_model_module_version": "1.2.0",
       "_model_name": "LayoutModel",
       "_view_count": null,
       "_view_module": "@jupyter-widgets/base",
       "_view_module_version": "1.2.0",
       "_view_name": "LayoutView",
       "align_content": null,
       "align_items": null,
       "align_self": null,
       "border": null,
       "bottom": null,
       "display": null,
       "flex": null,
       "flex_flow": null,
       "grid_area": null,
       "grid_auto_columns": null,
       "grid_auto_flow": null,
       "grid_auto_rows": null,
       "grid_column": null,
       "grid_gap": null,
       "grid_row": null,
       "grid_template_areas": null,
       "grid_template_columns": null,
       "grid_template_rows": null,
       "height": null,
       "justify_content": null,
       "justify_items": null,
       "left": null,
       "margin": null,
       "max_height": null,
       "max_width": null,
       "min_height": null,
       "min_width": null,
       "object_fit": null,
       "object_position": null,
       "order": null,
       "overflow": null,
       "overflow_x": null,
       "overflow_y": null,
       "padding": null,
       "right": null,
       "top": null,
       "visibility": null,
       "width": null
      }
     },
     "34413a8758c54eb5b08a11778a1b808d": {
      "model_module": "@jupyter-widgets/controls",
      "model_module_version": "1.5.0",
      "model_name": "ProgressStyleModel",
      "state": {
       "_model_module": "@jupyter-widgets/controls",
       "_model_module_version": "1.5.0",
       "_model_name": "ProgressStyleModel",
       "_view_count": null,
       "_view_module": "@jupyter-widgets/base",
       "_view_module_version": "1.2.0",
       "_view_name": "StyleView",
       "bar_color": null,
       "description_width": "initial"
      }
     },
     "434a4eef180e4442916bf9a049f7c7be": {
      "model_module": "@jupyter-widgets/controls",
      "model_module_version": "1.5.0",
      "model_name": "HBoxModel",
      "state": {
       "_dom_classes": [],
       "_model_module": "@jupyter-widgets/controls",
       "_model_module_version": "1.5.0",
       "_model_name": "HBoxModel",
       "_view_count": null,
       "_view_module": "@jupyter-widgets/controls",
       "_view_module_version": "1.5.0",
       "_view_name": "HBoxView",
       "box_style": "",
       "children": [
        "IPY_MODEL_1b992befd6fc4445a3ad66dc73194aab",
        "IPY_MODEL_ae464039400945f183650c146249e9fb"
       ],
       "layout": "IPY_MODEL_3066cc0ff6344fe38fbbb50aea8f2c31"
      }
     },
     "84c4a5ddad3542269fcc3f5fa025bbe7": {
      "model_module": "@jupyter-widgets/base",
      "model_module_version": "1.2.0",
      "model_name": "LayoutModel",
      "state": {
       "_model_module": "@jupyter-widgets/base",
       "_model_module_version": "1.2.0",
       "_model_name": "LayoutModel",
       "_view_count": null,
       "_view_module": "@jupyter-widgets/base",
       "_view_module_version": "1.2.0",
       "_view_name": "LayoutView",
       "align_content": null,
       "align_items": null,
       "align_self": null,
       "border": null,
       "bottom": null,
       "display": null,
       "flex": null,
       "flex_flow": null,
       "grid_area": null,
       "grid_auto_columns": null,
       "grid_auto_flow": null,
       "grid_auto_rows": null,
       "grid_column": null,
       "grid_gap": null,
       "grid_row": null,
       "grid_template_areas": null,
       "grid_template_columns": null,
       "grid_template_rows": null,
       "height": null,
       "justify_content": null,
       "justify_items": null,
       "left": null,
       "margin": null,
       "max_height": null,
       "max_width": null,
       "min_height": null,
       "min_width": null,
       "object_fit": null,
       "object_position": null,
       "order": null,
       "overflow": null,
       "overflow_x": null,
       "overflow_y": null,
       "padding": null,
       "right": null,
       "top": null,
       "visibility": null,
       "width": null
      }
     },
     "ae464039400945f183650c146249e9fb": {
      "model_module": "@jupyter-widgets/controls",
      "model_module_version": "1.5.0",
      "model_name": "HTMLModel",
      "state": {
       "_dom_classes": [],
       "_model_module": "@jupyter-widgets/controls",
       "_model_module_version": "1.5.0",
       "_model_name": "HTMLModel",
       "_view_count": null,
       "_view_module": "@jupyter-widgets/controls",
       "_view_module_version": "1.5.0",
       "_view_name": "HTMLView",
       "description": "",
       "description_tooltip": null,
       "layout": "IPY_MODEL_84c4a5ddad3542269fcc3f5fa025bbe7",
       "placeholder": "​",
       "style": "IPY_MODEL_0e64d9ac8a2544409eea833a57500621",
       "value": " 2/2 [00:29&lt;00:00, 14.81s/it]"
      }
     },
     "d119a97e83a44cabba5551dea86823e9": {
      "model_module": "@jupyter-widgets/base",
      "model_module_version": "1.2.0",
      "model_name": "LayoutModel",
      "state": {
       "_model_module": "@jupyter-widgets/base",
       "_model_module_version": "1.2.0",
       "_model_name": "LayoutModel",
       "_view_count": null,
       "_view_module": "@jupyter-widgets/base",
       "_view_module_version": "1.2.0",
       "_view_name": "LayoutView",
       "align_content": null,
       "align_items": null,
       "align_self": null,
       "border": null,
       "bottom": null,
       "display": null,
       "flex": null,
       "flex_flow": null,
       "grid_area": null,
       "grid_auto_columns": null,
       "grid_auto_flow": null,
       "grid_auto_rows": null,
       "grid_column": null,
       "grid_gap": null,
       "grid_row": null,
       "grid_template_areas": null,
       "grid_template_columns": null,
       "grid_template_rows": null,
       "height": null,
       "justify_content": null,
       "justify_items": null,
       "left": null,
       "margin": null,
       "max_height": null,
       "max_width": null,
       "min_height": null,
       "min_width": null,
       "object_fit": null,
       "object_position": null,
       "order": null,
       "overflow": null,
       "overflow_x": null,
       "overflow_y": null,
       "padding": null,
       "right": null,
       "top": null,
       "visibility": null,
       "width": null
      }
     }
    },
    "version_major": 2,
    "version_minor": 0
   }
  }
 },
 "nbformat": 4,
 "nbformat_minor": 4
}
