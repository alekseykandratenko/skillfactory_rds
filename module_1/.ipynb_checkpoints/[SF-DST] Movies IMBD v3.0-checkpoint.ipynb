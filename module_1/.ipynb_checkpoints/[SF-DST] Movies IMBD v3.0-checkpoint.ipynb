{
 "cells": [
  {
   "cell_type": "code",
   "execution_count": 1,
   "metadata": {
    "_cell_guid": "b1076dfc-b9ad-4769-8c92-a6c4dae69d19",
    "_uuid": "8f2839f25d086af736a60e9eeb907d3b93b6e0e5"
   },
   "outputs": [
    {
     "name": "stdout",
     "output_type": "stream",
     "text": [
      "['.ipynb_checkpoints', 'answers_unit_1.csv', 'data.csv', '[SF-DST] Movies IMBD v3.0.ipynb']\n"
     ]
    }
   ],
   "source": [
    "import numpy as np\n",
    "import pandas as pd\n",
    "import seaborn as sns\n",
    "import matplotlib.pyplot as plt\n",
    "import os\n",
    "from collections import Counter\n",
    "print(os.listdir())"
   ]
  },
  {
   "cell_type": "code",
   "execution_count": 2,
   "metadata": {},
   "outputs": [],
   "source": [
    "import warnings\n",
    "warnings.filterwarnings('ignore')"
   ]
  },
  {
   "cell_type": "code",
   "execution_count": 2,
   "metadata": {},
   "outputs": [
    {
     "data": {
      "text/html": [
       "<div>\n",
       "<style scoped>\n",
       "    .dataframe tbody tr th:only-of-type {\n",
       "        vertical-align: middle;\n",
       "    }\n",
       "\n",
       "    .dataframe tbody tr th {\n",
       "        vertical-align: top;\n",
       "    }\n",
       "\n",
       "    .dataframe thead th {\n",
       "        text-align: right;\n",
       "    }\n",
       "</style>\n",
       "<table border=\"1\" class=\"dataframe\">\n",
       "  <thead>\n",
       "    <tr style=\"text-align: right;\">\n",
       "      <th></th>\n",
       "      <th>imdb_id</th>\n",
       "      <th>popularity</th>\n",
       "      <th>budget</th>\n",
       "      <th>revenue</th>\n",
       "      <th>original_title</th>\n",
       "      <th>cast</th>\n",
       "      <th>director</th>\n",
       "      <th>tagline</th>\n",
       "      <th>overview</th>\n",
       "      <th>runtime</th>\n",
       "      <th>genres</th>\n",
       "      <th>production_companies</th>\n",
       "      <th>release_date</th>\n",
       "      <th>vote_count</th>\n",
       "      <th>vote_average</th>\n",
       "      <th>release_year</th>\n",
       "    </tr>\n",
       "  </thead>\n",
       "  <tbody>\n",
       "    <tr>\n",
       "      <th>0</th>\n",
       "      <td>tt0369610</td>\n",
       "      <td>32.985763</td>\n",
       "      <td>150000000</td>\n",
       "      <td>1513528810</td>\n",
       "      <td>Jurassic World</td>\n",
       "      <td>Chris Pratt|Bryce Dallas Howard|Irrfan Khan|Vi...</td>\n",
       "      <td>Colin Trevorrow</td>\n",
       "      <td>The park is open.</td>\n",
       "      <td>Twenty-two years after the events of Jurassic ...</td>\n",
       "      <td>124</td>\n",
       "      <td>Action|Adventure|Science Fiction|Thriller</td>\n",
       "      <td>Universal Studios|Amblin Entertainment|Legenda...</td>\n",
       "      <td>6/9/2015</td>\n",
       "      <td>5562</td>\n",
       "      <td>6.5</td>\n",
       "      <td>2015</td>\n",
       "    </tr>\n",
       "    <tr>\n",
       "      <th>1</th>\n",
       "      <td>tt1392190</td>\n",
       "      <td>28.419936</td>\n",
       "      <td>150000000</td>\n",
       "      <td>378436354</td>\n",
       "      <td>Mad Max: Fury Road</td>\n",
       "      <td>Tom Hardy|Charlize Theron|Hugh Keays-Byrne|Nic...</td>\n",
       "      <td>George Miller</td>\n",
       "      <td>What a Lovely Day.</td>\n",
       "      <td>An apocalyptic story set in the furthest reach...</td>\n",
       "      <td>120</td>\n",
       "      <td>Action|Adventure|Science Fiction|Thriller</td>\n",
       "      <td>Village Roadshow Pictures|Kennedy Miller Produ...</td>\n",
       "      <td>5/13/2015</td>\n",
       "      <td>6185</td>\n",
       "      <td>7.1</td>\n",
       "      <td>2015</td>\n",
       "    </tr>\n",
       "    <tr>\n",
       "      <th>2</th>\n",
       "      <td>tt2908446</td>\n",
       "      <td>13.112507</td>\n",
       "      <td>110000000</td>\n",
       "      <td>295238201</td>\n",
       "      <td>Insurgent</td>\n",
       "      <td>Shailene Woodley|Theo James|Kate Winslet|Ansel...</td>\n",
       "      <td>Robert Schwentke</td>\n",
       "      <td>One Choice Can Destroy You</td>\n",
       "      <td>Beatrice Prior must confront her inner demons ...</td>\n",
       "      <td>119</td>\n",
       "      <td>Adventure|Science Fiction|Thriller</td>\n",
       "      <td>Summit Entertainment|Mandeville Films|Red Wago...</td>\n",
       "      <td>3/18/2015</td>\n",
       "      <td>2480</td>\n",
       "      <td>6.3</td>\n",
       "      <td>2015</td>\n",
       "    </tr>\n",
       "    <tr>\n",
       "      <th>3</th>\n",
       "      <td>tt2488496</td>\n",
       "      <td>11.173104</td>\n",
       "      <td>200000000</td>\n",
       "      <td>2068178225</td>\n",
       "      <td>Star Wars: The Force Awakens</td>\n",
       "      <td>Harrison Ford|Mark Hamill|Carrie Fisher|Adam D...</td>\n",
       "      <td>J.J. Abrams</td>\n",
       "      <td>Every generation has a story.</td>\n",
       "      <td>Thirty years after defeating the Galactic Empi...</td>\n",
       "      <td>136</td>\n",
       "      <td>Action|Adventure|Science Fiction|Fantasy</td>\n",
       "      <td>Lucasfilm|Truenorth Productions|Bad Robot</td>\n",
       "      <td>12/15/2015</td>\n",
       "      <td>5292</td>\n",
       "      <td>7.5</td>\n",
       "      <td>2015</td>\n",
       "    </tr>\n",
       "    <tr>\n",
       "      <th>4</th>\n",
       "      <td>tt2820852</td>\n",
       "      <td>9.335014</td>\n",
       "      <td>190000000</td>\n",
       "      <td>1506249360</td>\n",
       "      <td>Furious 7</td>\n",
       "      <td>Vin Diesel|Paul Walker|Jason Statham|Michelle ...</td>\n",
       "      <td>James Wan</td>\n",
       "      <td>Vengeance Hits Home</td>\n",
       "      <td>Deckard Shaw seeks revenge against Dominic Tor...</td>\n",
       "      <td>137</td>\n",
       "      <td>Action|Crime|Thriller</td>\n",
       "      <td>Universal Pictures|Original Film|Media Rights ...</td>\n",
       "      <td>4/1/2015</td>\n",
       "      <td>2947</td>\n",
       "      <td>7.3</td>\n",
       "      <td>2015</td>\n",
       "    </tr>\n",
       "  </tbody>\n",
       "</table>\n",
       "</div>"
      ],
      "text/plain": [
       "     imdb_id  popularity     budget     revenue                original_title  \\\n",
       "0  tt0369610   32.985763  150000000  1513528810                Jurassic World   \n",
       "1  tt1392190   28.419936  150000000   378436354            Mad Max: Fury Road   \n",
       "2  tt2908446   13.112507  110000000   295238201                     Insurgent   \n",
       "3  tt2488496   11.173104  200000000  2068178225  Star Wars: The Force Awakens   \n",
       "4  tt2820852    9.335014  190000000  1506249360                     Furious 7   \n",
       "\n",
       "                                                cast          director  \\\n",
       "0  Chris Pratt|Bryce Dallas Howard|Irrfan Khan|Vi...   Colin Trevorrow   \n",
       "1  Tom Hardy|Charlize Theron|Hugh Keays-Byrne|Nic...     George Miller   \n",
       "2  Shailene Woodley|Theo James|Kate Winslet|Ansel...  Robert Schwentke   \n",
       "3  Harrison Ford|Mark Hamill|Carrie Fisher|Adam D...       J.J. Abrams   \n",
       "4  Vin Diesel|Paul Walker|Jason Statham|Michelle ...         James Wan   \n",
       "\n",
       "                         tagline  \\\n",
       "0              The park is open.   \n",
       "1             What a Lovely Day.   \n",
       "2     One Choice Can Destroy You   \n",
       "3  Every generation has a story.   \n",
       "4            Vengeance Hits Home   \n",
       "\n",
       "                                            overview  runtime  \\\n",
       "0  Twenty-two years after the events of Jurassic ...      124   \n",
       "1  An apocalyptic story set in the furthest reach...      120   \n",
       "2  Beatrice Prior must confront her inner demons ...      119   \n",
       "3  Thirty years after defeating the Galactic Empi...      136   \n",
       "4  Deckard Shaw seeks revenge against Dominic Tor...      137   \n",
       "\n",
       "                                      genres  \\\n",
       "0  Action|Adventure|Science Fiction|Thriller   \n",
       "1  Action|Adventure|Science Fiction|Thriller   \n",
       "2         Adventure|Science Fiction|Thriller   \n",
       "3   Action|Adventure|Science Fiction|Fantasy   \n",
       "4                      Action|Crime|Thriller   \n",
       "\n",
       "                                production_companies release_date  vote_count  \\\n",
       "0  Universal Studios|Amblin Entertainment|Legenda...     6/9/2015        5562   \n",
       "1  Village Roadshow Pictures|Kennedy Miller Produ...    5/13/2015        6185   \n",
       "2  Summit Entertainment|Mandeville Films|Red Wago...    3/18/2015        2480   \n",
       "3          Lucasfilm|Truenorth Productions|Bad Robot   12/15/2015        5292   \n",
       "4  Universal Pictures|Original Film|Media Rights ...     4/1/2015        2947   \n",
       "\n",
       "   vote_average  release_year  \n",
       "0           6.5          2015  \n",
       "1           7.1          2015  \n",
       "2           6.3          2015  \n",
       "3           7.5          2015  \n",
       "4           7.3          2015  "
      ]
     },
     "execution_count": 2,
     "metadata": {},
     "output_type": "execute_result"
    }
   ],
   "source": [
    "data = pd.read_csv('data.csv')\n",
    "data.head(5)"
   ]
  },
  {
   "cell_type": "code",
   "execution_count": 4,
   "metadata": {},
   "outputs": [
    {
     "data": {
      "text/plain": [
       "1890"
      ]
     },
     "execution_count": 4,
     "metadata": {},
     "output_type": "execute_result"
    }
   ],
   "source": [
    "len(data)"
   ]
  },
  {
   "cell_type": "code",
   "execution_count": 8,
   "metadata": {},
   "outputs": [
    {
     "name": "stdout",
     "output_type": "stream",
     "text": [
      "[('Peter Jackson', 7)]\n"
     ]
    }
   ],
   "source": [
    "data['month'] = pd.DatetimeIndex(data['release_date']).month\n",
    "zima = data.query('month == 12 | month == 1 | month == 2')\n",
    "zima = zima.director.str.split('|').sum()\n",
    "most_popular_winter_director = Counter(zima).most_common(1)\n",
    "print(most_popular_winter_director)"
   ]
  },
  {
   "cell_type": "markdown",
   "metadata": {},
   "source": [
    "# Предобработка датасета"
   ]
  },
  {
   "cell_type": "code",
   "execution_count": 82,
   "metadata": {},
   "outputs": [],
   "source": [
    "answer_ls = [] # создадим список с ответами. сюда будем добавлять ответы по мере прохождения теста\n",
    "# сюда можем вписать создание новых колонок в датасете"
   ]
  },
  {
   "cell_type": "markdown",
   "metadata": {},
   "source": [
    "# 1. У какого фильма из списка самый большой бюджет?\n",
    "Варианты ответов:\n",
    "1. The Dark Knight Rises (tt1345836)\n",
    "2. Spider-Man 3 (tt0413300)\n",
    "3. Avengers: Age of Ultron (tt2395427)\n",
    "4. The Warrior's Way\t(tt1032751)\n",
    "5. Pirates of the Caribbean: On Stranger Tides (tt1298650)"
   ]
  },
  {
   "cell_type": "code",
   "execution_count": 6,
   "metadata": {},
   "outputs": [
    {
     "data": {
      "text/html": [
       "<div>\n",
       "<style scoped>\n",
       "    .dataframe tbody tr th:only-of-type {\n",
       "        vertical-align: middle;\n",
       "    }\n",
       "\n",
       "    .dataframe tbody tr th {\n",
       "        vertical-align: top;\n",
       "    }\n",
       "\n",
       "    .dataframe thead th {\n",
       "        text-align: right;\n",
       "    }\n",
       "</style>\n",
       "<table border=\"1\" class=\"dataframe\">\n",
       "  <thead>\n",
       "    <tr style=\"text-align: right;\">\n",
       "      <th></th>\n",
       "      <th>original_title</th>\n",
       "      <th>imdb_id</th>\n",
       "      <th>budget</th>\n",
       "    </tr>\n",
       "  </thead>\n",
       "  <tbody>\n",
       "    <tr>\n",
       "      <th>491</th>\n",
       "      <td>The Warrior's Way</td>\n",
       "      <td>tt1032751</td>\n",
       "      <td>425000000</td>\n",
       "    </tr>\n",
       "  </tbody>\n",
       "</table>\n",
       "</div>"
      ],
      "text/plain": [
       "        original_title    imdb_id     budget\n",
       "491  The Warrior's Way  tt1032751  425000000"
      ]
     },
     "execution_count": 6,
     "metadata": {},
     "output_type": "execute_result"
    }
   ],
   "source": [
    "max_budget = data[data.budget == data.budget.max()][['original_title', 'imdb_id', 'budget']]\n",
    "max_budget"
   ]
  },
  {
   "cell_type": "code",
   "execution_count": 83,
   "metadata": {},
   "outputs": [],
   "source": [
    "# тут вводим ваш ответ и добавлем в его список ответов (сейчас для примера стоит \"1\")\n",
    "answer_ls.append(4)"
   ]
  },
  {
   "cell_type": "markdown",
   "metadata": {},
   "source": [
    "# 2. Какой из фильмов самый длительный (в минутах)\n",
    "1. The Lord of the Rings: The Return of the King\t(tt0167260)\n",
    "2. Gods and Generals\t(tt0279111)\n",
    "3. King Kong\t(tt0360717)\n",
    "4. Pearl Harbor\t(tt0213149)\n",
    "5. Alexander\t(tt0346491)"
   ]
  },
  {
   "cell_type": "code",
   "execution_count": 8,
   "metadata": {},
   "outputs": [
    {
     "data": {
      "text/html": [
       "<div>\n",
       "<style scoped>\n",
       "    .dataframe tbody tr th:only-of-type {\n",
       "        vertical-align: middle;\n",
       "    }\n",
       "\n",
       "    .dataframe tbody tr th {\n",
       "        vertical-align: top;\n",
       "    }\n",
       "\n",
       "    .dataframe thead th {\n",
       "        text-align: right;\n",
       "    }\n",
       "</style>\n",
       "<table border=\"1\" class=\"dataframe\">\n",
       "  <thead>\n",
       "    <tr style=\"text-align: right;\">\n",
       "      <th></th>\n",
       "      <th>original_title</th>\n",
       "      <th>imdb_id</th>\n",
       "      <th>runtime</th>\n",
       "    </tr>\n",
       "  </thead>\n",
       "  <tbody>\n",
       "    <tr>\n",
       "      <th>1158</th>\n",
       "      <td>Gods and Generals</td>\n",
       "      <td>tt0279111</td>\n",
       "      <td>214</td>\n",
       "    </tr>\n",
       "  </tbody>\n",
       "</table>\n",
       "</div>"
      ],
      "text/plain": [
       "         original_title    imdb_id  runtime\n",
       "1158  Gods and Generals  tt0279111      214"
      ]
     },
     "execution_count": 8,
     "metadata": {},
     "output_type": "execute_result"
    }
   ],
   "source": [
    "max_runtime = data[data.runtime == data.runtime.max()][['original_title', 'imdb_id', 'runtime']]\n",
    "max_runtime"
   ]
  },
  {
   "cell_type": "code",
   "execution_count": 84,
   "metadata": {},
   "outputs": [],
   "source": [
    "answer_ls.append(2)"
   ]
  },
  {
   "cell_type": "markdown",
   "metadata": {},
   "source": [
    "# 3. Какой из фильмов самый короткий (в минутах)\n",
    "Варианты ответов:\n",
    "\n",
    "1. Home on the Range\ttt0299172\n",
    "2. The Jungle Book 2\ttt0283426\n",
    "3. Winnie the Pooh\ttt1449283\n",
    "4. Corpse Bride\ttt0121164\n",
    "5. Hoodwinked!\ttt0443536"
   ]
  },
  {
   "cell_type": "code",
   "execution_count": 6,
   "metadata": {},
   "outputs": [
    {
     "data": {
      "text/html": [
       "<div>\n",
       "<style scoped>\n",
       "    .dataframe tbody tr th:only-of-type {\n",
       "        vertical-align: middle;\n",
       "    }\n",
       "\n",
       "    .dataframe tbody tr th {\n",
       "        vertical-align: top;\n",
       "    }\n",
       "\n",
       "    .dataframe thead th {\n",
       "        text-align: right;\n",
       "    }\n",
       "</style>\n",
       "<table border=\"1\" class=\"dataframe\">\n",
       "  <thead>\n",
       "    <tr style=\"text-align: right;\">\n",
       "      <th></th>\n",
       "      <th>original_title</th>\n",
       "      <th>imdb_id</th>\n",
       "      <th>runtime</th>\n",
       "    </tr>\n",
       "  </thead>\n",
       "  <tbody>\n",
       "    <tr>\n",
       "      <th>769</th>\n",
       "      <td>Winnie the Pooh</td>\n",
       "      <td>tt1449283</td>\n",
       "      <td>63</td>\n",
       "    </tr>\n",
       "  </tbody>\n",
       "</table>\n",
       "</div>"
      ],
      "text/plain": [
       "      original_title    imdb_id  runtime\n",
       "769  Winnie the Pooh  tt1449283       63"
      ]
     },
     "execution_count": 6,
     "metadata": {},
     "output_type": "execute_result"
    }
   ],
   "source": [
    "min_runtime = data[data.runtime == data.runtime.min()][['original_title', 'imdb_id', 'runtime']]\n",
    "min_runtime"
   ]
  },
  {
   "cell_type": "code",
   "execution_count": 85,
   "metadata": {},
   "outputs": [],
   "source": [
    "answer_ls.append(3)"
   ]
  },
  {
   "cell_type": "markdown",
   "metadata": {},
   "source": [
    "# 4. Средняя длительность фильма?\n",
    "\n",
    "Варианты ответов:\n",
    "1. 115\n",
    "2. 110\n",
    "3. 105\n",
    "4. 120\n",
    "5. 100\n"
   ]
  },
  {
   "cell_type": "code",
   "execution_count": 10,
   "metadata": {},
   "outputs": [
    {
     "data": {
      "text/plain": [
       "110"
      ]
     },
     "execution_count": 10,
     "metadata": {},
     "output_type": "execute_result"
    }
   ],
   "source": [
    "mean_runtime = round(data.runtime.mean())\n",
    "mean_runtime"
   ]
  },
  {
   "cell_type": "code",
   "execution_count": 86,
   "metadata": {},
   "outputs": [],
   "source": [
    "answer_ls.append(2)"
   ]
  },
  {
   "cell_type": "markdown",
   "metadata": {},
   "source": [
    "# 5. Средняя длительность фильма по медиане?\n",
    "Варианты ответов:\n",
    "1. 106\n",
    "2. 112\n",
    "3. 101\n",
    "4. 120\n",
    "5. 115\n",
    "\n",
    "\n"
   ]
  },
  {
   "cell_type": "code",
   "execution_count": 12,
   "metadata": {},
   "outputs": [
    {
     "data": {
      "text/plain": [
       "106"
      ]
     },
     "execution_count": 12,
     "metadata": {},
     "output_type": "execute_result"
    }
   ],
   "source": [
    "mean_runtime = round(data.runtime.median())\n",
    "mean_runtime"
   ]
  },
  {
   "cell_type": "code",
   "execution_count": 87,
   "metadata": {},
   "outputs": [],
   "source": [
    "answer_ls.append(1)"
   ]
  },
  {
   "cell_type": "markdown",
   "metadata": {},
   "source": [
    "# 6. Какой самый прибыльный фильм?\n",
    "Варианты ответов:\n",
    "1. The Avengers\ttt0848228\n",
    "2. Minions\ttt2293640\n",
    "3. Star Wars: The Force Awakens\ttt2488496\n",
    "4. Furious 7\ttt2820852\n",
    "5. Avatar\ttt0499549"
   ]
  },
  {
   "cell_type": "code",
   "execution_count": 14,
   "metadata": {},
   "outputs": [
    {
     "data": {
      "text/html": [
       "<div>\n",
       "<style scoped>\n",
       "    .dataframe tbody tr th:only-of-type {\n",
       "        vertical-align: middle;\n",
       "    }\n",
       "\n",
       "    .dataframe tbody tr th {\n",
       "        vertical-align: top;\n",
       "    }\n",
       "\n",
       "    .dataframe thead th {\n",
       "        text-align: right;\n",
       "    }\n",
       "</style>\n",
       "<table border=\"1\" class=\"dataframe\">\n",
       "  <thead>\n",
       "    <tr style=\"text-align: right;\">\n",
       "      <th></th>\n",
       "      <th>original_title</th>\n",
       "      <th>imdb_id</th>\n",
       "      <th>gain</th>\n",
       "    </tr>\n",
       "  </thead>\n",
       "  <tbody>\n",
       "    <tr>\n",
       "      <th>239</th>\n",
       "      <td>Avatar</td>\n",
       "      <td>tt0499549</td>\n",
       "      <td>2544505847</td>\n",
       "    </tr>\n",
       "  </tbody>\n",
       "</table>\n",
       "</div>"
      ],
      "text/plain": [
       "    original_title    imdb_id        gain\n",
       "239         Avatar  tt0499549  2544505847"
      ]
     },
     "execution_count": 14,
     "metadata": {},
     "output_type": "execute_result"
    }
   ],
   "source": [
    "data['gain'] = data.apply(lambda x: x.revenue - x.budget, axis=1)\n",
    "max_gain = data[data.gain == data.gain.max()][['original_title', 'imdb_id', 'gain']]\n",
    "max_gain"
   ]
  },
  {
   "cell_type": "code",
   "execution_count": 88,
   "metadata": {},
   "outputs": [],
   "source": [
    "answer_ls.append(5)"
   ]
  },
  {
   "cell_type": "markdown",
   "metadata": {},
   "source": [
    "# 7. Какой фильм самый убыточный?\n",
    "Варианты ответов:\n",
    "1. Supernova tt0134983\n",
    "2. The Warrior's Way tt1032751\n",
    "3. Flushed Away\ttt0424095\n",
    "4. The Adventures of Pluto Nash\ttt0180052\n",
    "5. The Lone Ranger\ttt1210819"
   ]
  },
  {
   "cell_type": "code",
   "execution_count": 16,
   "metadata": {},
   "outputs": [
    {
     "data": {
      "text/html": [
       "<div>\n",
       "<style scoped>\n",
       "    .dataframe tbody tr th:only-of-type {\n",
       "        vertical-align: middle;\n",
       "    }\n",
       "\n",
       "    .dataframe tbody tr th {\n",
       "        vertical-align: top;\n",
       "    }\n",
       "\n",
       "    .dataframe thead th {\n",
       "        text-align: right;\n",
       "    }\n",
       "</style>\n",
       "<table border=\"1\" class=\"dataframe\">\n",
       "  <thead>\n",
       "    <tr style=\"text-align: right;\">\n",
       "      <th></th>\n",
       "      <th>original_title</th>\n",
       "      <th>imdb_id</th>\n",
       "      <th>loss</th>\n",
       "    </tr>\n",
       "  </thead>\n",
       "  <tbody>\n",
       "    <tr>\n",
       "      <th>491</th>\n",
       "      <td>The Warrior's Way</td>\n",
       "      <td>tt1032751</td>\n",
       "      <td>-413912431</td>\n",
       "    </tr>\n",
       "  </tbody>\n",
       "</table>\n",
       "</div>"
      ],
      "text/plain": [
       "        original_title    imdb_id       loss\n",
       "491  The Warrior's Way  tt1032751 -413912431"
      ]
     },
     "execution_count": 16,
     "metadata": {},
     "output_type": "execute_result"
    }
   ],
   "source": [
    "data['loss'] = data.apply(lambda x: x.revenue - x.budget, axis=1)\n",
    "max_loss = data[data.loss == data.loss.min()][['original_title', 'imdb_id', 'loss']]\n",
    "max_loss"
   ]
  },
  {
   "cell_type": "code",
   "execution_count": 89,
   "metadata": {},
   "outputs": [],
   "source": [
    "answer_ls.append(2)"
   ]
  },
  {
   "cell_type": "markdown",
   "metadata": {},
   "source": [
    "# 8. Сколько всего фильмов в прибыли?\n",
    "Варианты ответов:\n",
    "1. 1478\n",
    "2. 1520\n",
    "3. 1241\n",
    "4. 1135\n",
    "5. 1398\n"
   ]
  },
  {
   "cell_type": "code",
   "execution_count": 18,
   "metadata": {},
   "outputs": [
    {
     "data": {
      "text/plain": [
       "1478"
      ]
     },
     "execution_count": 18,
     "metadata": {},
     "output_type": "execute_result"
    }
   ],
   "source": [
    "gain_count = len(data[data.gain > 0].values)\n",
    "gain_count"
   ]
  },
  {
   "cell_type": "code",
   "execution_count": 90,
   "metadata": {},
   "outputs": [],
   "source": [
    "answer_ls.append(1)"
   ]
  },
  {
   "cell_type": "markdown",
   "metadata": {},
   "source": [
    "# 9. Самый прибыльный фильм в 2008 году?\n",
    "Варианты ответов:\n",
    "1. Madagascar: Escape 2 Africa\ttt0479952\n",
    "2. Iron Man\ttt0371746\n",
    "3. Kung Fu Panda\ttt0441773\n",
    "4. The Dark Knight\ttt0468569\n",
    "5. Mamma Mia!\ttt0795421"
   ]
  },
  {
   "cell_type": "code",
   "execution_count": 20,
   "metadata": {},
   "outputs": [
    {
     "data": {
      "text/html": [
       "<div>\n",
       "<style scoped>\n",
       "    .dataframe tbody tr th:only-of-type {\n",
       "        vertical-align: middle;\n",
       "    }\n",
       "\n",
       "    .dataframe tbody tr th {\n",
       "        vertical-align: top;\n",
       "    }\n",
       "\n",
       "    .dataframe thead th {\n",
       "        text-align: right;\n",
       "    }\n",
       "</style>\n",
       "<table border=\"1\" class=\"dataframe\">\n",
       "  <thead>\n",
       "    <tr style=\"text-align: right;\">\n",
       "      <th></th>\n",
       "      <th>imdb_id</th>\n",
       "      <th>original_title</th>\n",
       "      <th>gain</th>\n",
       "      <th>release_year</th>\n",
       "    </tr>\n",
       "  </thead>\n",
       "  <tbody>\n",
       "    <tr>\n",
       "      <th>600</th>\n",
       "      <td>tt0468569</td>\n",
       "      <td>The Dark Knight</td>\n",
       "      <td>816921825</td>\n",
       "      <td>2008</td>\n",
       "    </tr>\n",
       "  </tbody>\n",
       "</table>\n",
       "</div>"
      ],
      "text/plain": [
       "       imdb_id   original_title       gain  release_year\n",
       "600  tt0468569  The Dark Knight  816921825          2008"
      ]
     },
     "execution_count": 20,
     "metadata": {},
     "output_type": "execute_result"
    }
   ],
   "source": [
    "max_gain_2008 = data[data.release_year == 2008][['imdb_id', 'original_title', 'gain', 'release_year']].sort_values(by='gain', ascending=False)\n",
    "max_gain_2008.head(1)"
   ]
  },
  {
   "cell_type": "code",
   "execution_count": 91,
   "metadata": {},
   "outputs": [],
   "source": [
    "answer_ls.append(4)"
   ]
  },
  {
   "cell_type": "markdown",
   "metadata": {},
   "source": [
    "# 10. Самый убыточный фильм за период с 2012 по 2014 (включительно)?\n",
    "Варианты ответов:\n",
    "1. Winter's Tale\ttt1837709\n",
    "2. Stolen\ttt1656186\n",
    "3. Broken City\ttt1235522\n",
    "4. Upside Down\ttt1374992\n",
    "5. The Lone Ranger\ttt1210819\n"
   ]
  },
  {
   "cell_type": "code",
   "execution_count": 22,
   "metadata": {},
   "outputs": [
    {
     "data": {
      "text/html": [
       "<div>\n",
       "<style scoped>\n",
       "    .dataframe tbody tr th:only-of-type {\n",
       "        vertical-align: middle;\n",
       "    }\n",
       "\n",
       "    .dataframe tbody tr th {\n",
       "        vertical-align: top;\n",
       "    }\n",
       "\n",
       "    .dataframe thead th {\n",
       "        text-align: right;\n",
       "    }\n",
       "</style>\n",
       "<table border=\"1\" class=\"dataframe\">\n",
       "  <thead>\n",
       "    <tr style=\"text-align: right;\">\n",
       "      <th></th>\n",
       "      <th>imdb_id</th>\n",
       "      <th>original_title</th>\n",
       "      <th>gain</th>\n",
       "      <th>release_year</th>\n",
       "    </tr>\n",
       "  </thead>\n",
       "  <tbody>\n",
       "    <tr>\n",
       "      <th>1246</th>\n",
       "      <td>tt1210819</td>\n",
       "      <td>The Lone Ranger</td>\n",
       "      <td>-165710090</td>\n",
       "      <td>2013</td>\n",
       "    </tr>\n",
       "  </tbody>\n",
       "</table>\n",
       "</div>"
      ],
      "text/plain": [
       "        imdb_id   original_title       gain  release_year\n",
       "1246  tt1210819  The Lone Ranger -165710090          2013"
      ]
     },
     "execution_count": 22,
     "metadata": {},
     "output_type": "execute_result"
    }
   ],
   "source": [
    "max_loss_2012_2014 = data[(data.release_year >= 2012)&\n",
    "                          (data.release_year <= 2014)][['imdb_id', 'original_title', 'gain', 'release_year']].sort_values(by='gain', ascending=True)\n",
    "max_loss_2012_2014.head(1)"
   ]
  },
  {
   "cell_type": "code",
   "execution_count": 92,
   "metadata": {},
   "outputs": [],
   "source": [
    "answer_ls.append(5)"
   ]
  },
  {
   "cell_type": "markdown",
   "metadata": {},
   "source": [
    "# 11. Какого жанра фильмов больше всего?\n",
    "Варианты ответов:\n",
    "1. Action\n",
    "2. Adventure\n",
    "3. Drama\n",
    "4. Comedy\n",
    "5. Thriller"
   ]
  },
  {
   "cell_type": "code",
   "execution_count": 24,
   "metadata": {
    "scrolled": false
   },
   "outputs": [
    {
     "data": {
      "text/plain": [
       "[('Drama', 782), ('Comedy', 683), ('Thriller', 597)]"
      ]
     },
     "execution_count": 24,
     "metadata": {},
     "output_type": "execute_result"
    }
   ],
   "source": [
    "all_genres = data.genres.str.split('|').sum()\n",
    "most_popular_genres = Counter(all_genres).most_common(3)\n",
    "most_popular_genres"
   ]
  },
  {
   "cell_type": "code",
   "execution_count": 93,
   "metadata": {},
   "outputs": [],
   "source": [
    "answer_ls.append(3)"
   ]
  },
  {
   "cell_type": "markdown",
   "metadata": {},
   "source": [
    "# 12. Какого жанра среди прибыльных фильмов больше всего?\n",
    "Варианты ответов:\n",
    "1. Drama\n",
    "2. Comedy\n",
    "3. Action\n",
    "4. Thriller\n",
    "5. Adventure"
   ]
  },
  {
   "cell_type": "code",
   "execution_count": 26,
   "metadata": {},
   "outputs": [
    {
     "data": {
      "text/plain": [
       "[('Drama', 560), ('Comedy', 551), ('Thriller', 446)]"
      ]
     },
     "execution_count": 26,
     "metadata": {},
     "output_type": "execute_result"
    }
   ],
   "source": [
    "all_gain_genres = data[data.gain > 0]\n",
    "all_gain_genres = all_gain_genres.genres.str.split('|').sum()\n",
    "most_popular_gain_genres = Counter(all_gain_genres).most_common(3)\n",
    "most_popular_gain_genres"
   ]
  },
  {
   "cell_type": "code",
   "execution_count": 94,
   "metadata": {},
   "outputs": [],
   "source": [
    "answer_ls.append(1)"
   ]
  },
  {
   "cell_type": "markdown",
   "metadata": {},
   "source": [
    "# 13. Кто из режиссеров снял больше всего фильмов?\n",
    "Варианты ответов:\n",
    "1. Steven Spielberg\n",
    "2. Ridley Scott \n",
    "3. Steven Soderbergh\n",
    "4. Christopher Nolan\n",
    "5. Clint Eastwood"
   ]
  },
  {
   "cell_type": "code",
   "execution_count": 28,
   "metadata": {},
   "outputs": [
    {
     "data": {
      "text/plain": [
       "[('Steven Soderbergh', 13), ('Ridley Scott', 12), ('Clint Eastwood', 12)]"
      ]
     },
     "execution_count": 28,
     "metadata": {},
     "output_type": "execute_result"
    }
   ],
   "source": [
    "all_directors = data.director.str.split('|').sum()\n",
    "most_popular_directors = Counter(all_directors).most_common(3)\n",
    "most_popular_directors"
   ]
  },
  {
   "cell_type": "code",
   "execution_count": 95,
   "metadata": {},
   "outputs": [],
   "source": [
    "answer_ls.append(3)"
   ]
  },
  {
   "cell_type": "markdown",
   "metadata": {},
   "source": [
    "# 14. Кто из режиссеров снял больше всего Прибыльных фильмов?\n",
    "Варианты ответов:\n",
    "1. Steven Soderbergh\n",
    "2. Clint Eastwood\n",
    "3. Steven Spielberg\n",
    "4. Ridley Scott\n",
    "5. Christopher Nolan"
   ]
  },
  {
   "cell_type": "code",
   "execution_count": 30,
   "metadata": {},
   "outputs": [
    {
     "data": {
      "text/plain": [
       "[('Ridley Scott', 12), ('Steven Spielberg', 10), ('Clint Eastwood', 10)]"
      ]
     },
     "execution_count": 30,
     "metadata": {},
     "output_type": "execute_result"
    }
   ],
   "source": [
    "all_gain_movies = data[data.gain > 0]\n",
    "all_gain_movies_directors = all_gain_movies.director.str.split('|').sum()\n",
    "most_popular_gain_movies_directors = Counter(all_gain_movies_directors).most_common(3)\n",
    "most_popular_gain_movies_directors"
   ]
  },
  {
   "cell_type": "code",
   "execution_count": 96,
   "metadata": {},
   "outputs": [],
   "source": [
    "answer_ls.append(4)"
   ]
  },
  {
   "cell_type": "markdown",
   "metadata": {},
   "source": [
    "# 15. Кто из режиссеров принес больше всего прибыли?\n",
    "Варианты ответов:\n",
    "1. Steven Spielberg\n",
    "2. Christopher Nolan\n",
    "3. David Yates\n",
    "4. James Cameron\n",
    "5. Peter Jackson\n"
   ]
  },
  {
   "cell_type": "code",
   "execution_count": 32,
   "metadata": {
    "scrolled": true
   },
   "outputs": [],
   "source": [
    "pivot = data.pivot_table(values=['gain'],\n",
    "                        index=['original_title'],\n",
    "                        columns=['director'],\n",
    "                        aggfunc='sum',\n",
    "                        margins=True,\n",
    "                        fill_value=0\n",
    "                        )"
   ]
  },
  {
   "cell_type": "code",
   "execution_count": 33,
   "metadata": {},
   "outputs": [
    {
     "data": {
      "text/plain": [
       "      director     \n",
       "gain  All              190478021910\n",
       "      Peter Jackson      5202593685\n",
       "dtype: int64"
      ]
     },
     "execution_count": 33,
     "metadata": {},
     "output_type": "execute_result"
    }
   ],
   "source": [
    "pivot.max().sort_values(ascending=False).head(2)"
   ]
  },
  {
   "cell_type": "code",
   "execution_count": 97,
   "metadata": {},
   "outputs": [],
   "source": [
    "answer_ls.append(5)"
   ]
  },
  {
   "cell_type": "markdown",
   "metadata": {},
   "source": [
    "# 16. Какой актер принес больше всего прибыли?\n",
    "Варианты ответов:\n",
    "1. Emma Watson\n",
    "2. Johnny Depp\n",
    "3. Michelle Rodriguez\n",
    "4. Orlando Bloom\n",
    "5. Rupert Grint"
   ]
  },
  {
   "cell_type": "code",
   "execution_count": 35,
   "metadata": {},
   "outputs": [
    {
     "name": "stdout",
     "output_type": "stream",
     "text": [
      "[6666245597, 'Emma Watson']\n"
     ]
    }
   ],
   "source": [
    "all_casts = data.cast.str.split('|').sum()\n",
    "\n",
    "unique_actors = []\n",
    "for i in all_casts:\n",
    "    if i not in unique_actors:\n",
    "        unique_actors.append(i)\n",
    "        \n",
    "most_gain_actor = [0, '']\n",
    "for i in unique_actors:\n",
    "    gain_sum = data[data.cast.str.contains(i, na=False)]['gain'].sum()\n",
    "    if gain_sum > most_gain_actor[0]:\n",
    "        most_gain_actor = [gain_sum, i]\n",
    "print(most_gain_actor)"
   ]
  },
  {
   "cell_type": "code",
   "execution_count": 98,
   "metadata": {},
   "outputs": [],
   "source": [
    "answer_ls.append(1)"
   ]
  },
  {
   "cell_type": "markdown",
   "metadata": {},
   "source": [
    "# 17. Какой актер принес меньше всего прибыли в 2012 году?\n",
    "Варианты ответов:\n",
    "1. Nicolas Cage\n",
    "2. Danny Huston\n",
    "3. Kirsten Dunst\n",
    "4. Jim Sturgess\n",
    "5. Sami Gayle"
   ]
  },
  {
   "cell_type": "code",
   "execution_count": 37,
   "metadata": {},
   "outputs": [
    {
     "data": {
      "text/html": [
       "<div>\n",
       "<style scoped>\n",
       "    .dataframe tbody tr th:only-of-type {\n",
       "        vertical-align: middle;\n",
       "    }\n",
       "\n",
       "    .dataframe tbody tr th {\n",
       "        vertical-align: top;\n",
       "    }\n",
       "\n",
       "    .dataframe thead th {\n",
       "        text-align: right;\n",
       "    }\n",
       "</style>\n",
       "<table border=\"1\" class=\"dataframe\">\n",
       "  <thead>\n",
       "    <tr style=\"text-align: right;\">\n",
       "      <th></th>\n",
       "      <th>actor</th>\n",
       "      <th>gain</th>\n",
       "    </tr>\n",
       "  </thead>\n",
       "  <tbody>\n",
       "    <tr>\n",
       "      <th>172</th>\n",
       "      <td>Kirsten Dunst</td>\n",
       "      <td>-68109207</td>\n",
       "    </tr>\n",
       "  </tbody>\n",
       "</table>\n",
       "</div>"
      ],
      "text/plain": [
       "             actor       gain\n",
       "172  Kirsten Dunst  -68109207"
      ]
     },
     "execution_count": 37,
     "metadata": {},
     "output_type": "execute_result"
    }
   ],
   "source": [
    "data_2012_release_year = data[data.release_year == 2012]\n",
    "all_casts_in_2012 = data_2012_release_year.cast.str.split('|').sum()\n",
    "\n",
    "unique_actors = []\n",
    "for i in all_casts_in_2012:\n",
    "    if i not in unique_actors:\n",
    "        unique_actors.append(i)\n",
    "        \n",
    "actors_gain_2012 = pd.DataFrame(columns=['actor','gain'])\n",
    "for i in range(len(unique_actors)):\n",
    "    gain_sum = data_2012_release_year[data_2012_release_year.cast.str.contains(unique_actors[i], na=False)]['gain'].sum()\n",
    "    actors_gain_2012.loc[i] = unique_actors[i], gain_sum\n",
    "actors_gain_2012[actors_gain_2012.gain == actors_gain_2012.gain.min()]"
   ]
  },
  {
   "cell_type": "code",
   "execution_count": 99,
   "metadata": {},
   "outputs": [],
   "source": [
    "answer_ls.append(3)"
   ]
  },
  {
   "cell_type": "markdown",
   "metadata": {},
   "source": [
    "# 18. Какой актер снялся в большем количестве высокобюджетных фильмов? (в фильмах где бюджет выше среднего по данной выборке)\n",
    "Варианты ответов:\n",
    "1. Tom Cruise\n",
    "2. Mark Wahlberg \n",
    "3. Matt Damon\n",
    "4. Angelina Jolie\n",
    "5. Adam Sandler"
   ]
  },
  {
   "cell_type": "code",
   "execution_count": 39,
   "metadata": {},
   "outputs": [
    {
     "data": {
      "text/plain": [
       "[('Matt Damon', 18), ('Adam Sandler', 17), ('Angelina Jolie', 16)]"
      ]
     },
     "execution_count": 39,
     "metadata": {},
     "output_type": "execute_result"
    }
   ],
   "source": [
    "gain_more_then_mean = data[data.budget > data.budget.mean()]\n",
    "all_actors = gain_more_then_mean.cast.str.split('|').sum()\n",
    "most_popular_actor = Counter(all_actors).most_common(3)\n",
    "most_popular_actor"
   ]
  },
  {
   "cell_type": "code",
   "execution_count": 100,
   "metadata": {},
   "outputs": [],
   "source": [
    "answer_ls.append(3)"
   ]
  },
  {
   "cell_type": "markdown",
   "metadata": {},
   "source": [
    "# 19. В фильмах какого жанра больше всего снимался Nicolas Cage?  \n",
    "Варианты ответа:\n",
    "1. Drama\n",
    "2. Action\n",
    "3. Thriller\n",
    "4. Adventure\n",
    "5. Crime"
   ]
  },
  {
   "cell_type": "code",
   "execution_count": 41,
   "metadata": {},
   "outputs": [
    {
     "data": {
      "text/plain": [
       "[('Action', 17), ('Thriller', 15), ('Drama', 12)]"
      ]
     },
     "execution_count": 41,
     "metadata": {},
     "output_type": "execute_result"
    }
   ],
   "source": [
    "movies_with_NC = data[data.cast.str.contains('Nicolas Cage', na=False)]\n",
    "all_genres = movies_with_NC.genres.str.split('|').sum()\n",
    "most_frequent = Counter(all_genres).most_common(3)\n",
    "most_frequent"
   ]
  },
  {
   "cell_type": "code",
   "execution_count": 101,
   "metadata": {},
   "outputs": [],
   "source": [
    "answer_ls.append(2)"
   ]
  },
  {
   "cell_type": "markdown",
   "metadata": {},
   "source": [
    "# 20. Какая студия сняла больше всего фильмов?\n",
    "Варианты ответа:\n",
    "1. Universal Pictures (Universal)\n",
    "2. Paramount Pictures\n",
    "3. Columbia Pictures\n",
    "4. Warner Bros\n",
    "5. Twentieth Century Fox Film Corporation"
   ]
  },
  {
   "cell_type": "code",
   "execution_count": 43,
   "metadata": {},
   "outputs": [
    {
     "name": "stdout",
     "output_type": "stream",
     "text": [
      "Universal 3\n",
      "Universal Pictures 173\n",
      "Warner Bros. 168\n",
      "Columbia Pictures 117\n",
      "Twentieth Century Fox Film Corporation 109\n",
      "Paramount Pictures 122\n"
     ]
    }
   ],
   "source": [
    "short_companies_names = ['Universal', 'Universal Pictures', 'Warner Bros.', 'Columbia Pictures', 'Twentieth Century Fox Film Corporation', 'Paramount Pictures']\n",
    "all_production_companies = data.production_companies.str.split('|').sum()\n",
    "df_companies = pd.DataFrame(columns=['companies'])\n",
    "df_companies['companies'] = all_production_companies\n",
    "\n",
    "for i in short_companies_names:\n",
    "    count_freq = len(df_companies[(df_companies.companies == i)])\n",
    "    print(i, count_freq)"
   ]
  },
  {
   "cell_type": "code",
   "execution_count": 102,
   "metadata": {},
   "outputs": [],
   "source": [
    "answer_ls.append(1)"
   ]
  },
  {
   "cell_type": "markdown",
   "metadata": {},
   "source": [
    "# 21. Какая студия сняла больше всего фильмов в 2015 году?\n",
    "Варианты ответа:\n",
    "1. Universal Pictures\n",
    "2. Paramount Pictures\n",
    "3. Columbia Pictures\n",
    "4. Warner Bros\n",
    "5. Twentieth Century Fox Film Corporation"
   ]
  },
  {
   "cell_type": "code",
   "execution_count": 45,
   "metadata": {
    "scrolled": true
   },
   "outputs": [
    {
     "data": {
      "text/plain": [
       "Warner Bros.    12\n",
       "Name: companies, dtype: int64"
      ]
     },
     "execution_count": 45,
     "metadata": {},
     "output_type": "execute_result"
    }
   ],
   "source": [
    "data_2015 = data[data.release_year == 2015]\n",
    "all_production_companies_2015 = data_2015.production_companies.str.split('|').sum()\n",
    "df_companies = pd.DataFrame(columns=['companies'])\n",
    "df_companies['companies'] = all_production_companies_2015\n",
    "df_companies['companies'].value_counts().head(1)"
   ]
  },
  {
   "cell_type": "code",
   "execution_count": 103,
   "metadata": {},
   "outputs": [],
   "source": [
    "answer_ls.append(4)"
   ]
  },
  {
   "cell_type": "markdown",
   "metadata": {},
   "source": [
    "# 22. Какая студия заработала больше всего денег в жанре комедий за все время?\n",
    "Варианты ответа:\n",
    "1. Warner Bros\n",
    "2. Universal Pictures (Universal)\n",
    "3. Columbia Pictures\n",
    "4. Paramount Pictures\n",
    "5. Walt Disney"
   ]
  },
  {
   "cell_type": "code",
   "execution_count": 47,
   "metadata": {
    "scrolled": true
   },
   "outputs": [
    {
     "name": "stdout",
     "output_type": "stream",
     "text": [
      "9130349034 Universal\n"
     ]
    }
   ],
   "source": [
    "#extract data that contain comedy movies\n",
    "comedy_movies = data[data.genres.str.contains('Comedy')]\n",
    "#take uniq companies names from comedy_movies\n",
    "companies = comedy_movies.production_companies.str.split('|').sum()\n",
    "uniq_companies = []\n",
    "for i in companies:\n",
    "    if i not in uniq_companies:\n",
    "        uniq_companies.append(i)\n",
    "#search for company that have biggest gain\n",
    "max_gain = 0\n",
    "max_gain_company = ''\n",
    "for i in uniq_companies:\n",
    "    gain = comedy_movies[comedy_movies.production_companies.str.contains(i)]['gain'].sum()\n",
    "    if max_gain < gain:\n",
    "        max_gain = gain\n",
    "        max_gain_company = i\n",
    "        \n",
    "print(max_gain, max_gain_company)\n",
    "\n"
   ]
  },
  {
   "cell_type": "code",
   "execution_count": 104,
   "metadata": {},
   "outputs": [],
   "source": [
    "answer_ls.append(2)"
   ]
  },
  {
   "cell_type": "markdown",
   "metadata": {},
   "source": [
    "# 23. Какая студия заработала больше всего денег в 2012 году?\n",
    "Варианты ответа:\n",
    "1. Universal Pictures (Universal)\n",
    "2. Warner Bros\n",
    "3. Columbia Pictures\n",
    "4. Paramount Pictures\n",
    "5. Lucasfilm"
   ]
  },
  {
   "cell_type": "code",
   "execution_count": 49,
   "metadata": {},
   "outputs": [
    {
     "name": "stdout",
     "output_type": "stream",
     "text": [
      "2501406608 Columbia Pictures\n"
     ]
    }
   ],
   "source": [
    "data_2012 = data[data.release_year == 2012]\n",
    "all_production_companies_2012 = data_2012.production_companies.str.split('|').sum()\n",
    "#take uniq companies names from all_production_companies_2012\n",
    "uniq_companies = []\n",
    "for i in all_production_companies_2012:\n",
    "    if i not in uniq_companies:\n",
    "        uniq_companies.append(i)\n",
    "#search for company that have biggest gain\n",
    "max_gain = 0\n",
    "max_gain_company = ''\n",
    "for i in uniq_companies:\n",
    "    gain = data_2012[data_2012.production_companies.str.contains(i)]['gain'].sum()\n",
    "    if max_gain < gain:\n",
    "        max_gain = gain\n",
    "        max_gain_company = i\n",
    "        \n",
    "print(max_gain, max_gain_company)\n"
   ]
  },
  {
   "cell_type": "code",
   "execution_count": 105,
   "metadata": {},
   "outputs": [],
   "source": [
    "answer_ls.append(3)"
   ]
  },
  {
   "cell_type": "markdown",
   "metadata": {},
   "source": [
    "# 24. Самый убыточный фильм от Paramount Pictures\n",
    "Варианты ответа:\n",
    "\n",
    "1. K-19: The Widowmaker tt0267626\n",
    "2. Next tt0435705\n",
    "3. Twisted tt0315297\n",
    "4. The Love Guru tt0811138\n",
    "5. The Fighter tt0964517"
   ]
  },
  {
   "cell_type": "code",
   "execution_count": 51,
   "metadata": {},
   "outputs": [
    {
     "data": {
      "text/html": [
       "<div>\n",
       "<style scoped>\n",
       "    .dataframe tbody tr th:only-of-type {\n",
       "        vertical-align: middle;\n",
       "    }\n",
       "\n",
       "    .dataframe tbody tr th {\n",
       "        vertical-align: top;\n",
       "    }\n",
       "\n",
       "    .dataframe thead th {\n",
       "        text-align: right;\n",
       "    }\n",
       "</style>\n",
       "<table border=\"1\" class=\"dataframe\">\n",
       "  <thead>\n",
       "    <tr style=\"text-align: right;\">\n",
       "      <th></th>\n",
       "      <th>imdb_id</th>\n",
       "      <th>original_title</th>\n",
       "    </tr>\n",
       "  </thead>\n",
       "  <tbody>\n",
       "    <tr>\n",
       "      <th>926</th>\n",
       "      <td>tt0267626</td>\n",
       "      <td>K-19: The Widowmaker</td>\n",
       "    </tr>\n",
       "  </tbody>\n",
       "</table>\n",
       "</div>"
      ],
      "text/plain": [
       "       imdb_id        original_title\n",
       "926  tt0267626  K-19: The Widowmaker"
      ]
     },
     "execution_count": 51,
     "metadata": {},
     "output_type": "execute_result"
    }
   ],
   "source": [
    "PP_movies = data[data.production_companies.str.contains('Paramount Pictures')]\n",
    "PP_movies[PP_movies.gain == PP_movies.gain.min()][['imdb_id', 'original_title']]"
   ]
  },
  {
   "cell_type": "code",
   "execution_count": 106,
   "metadata": {},
   "outputs": [],
   "source": [
    "answer_ls.append(1)"
   ]
  },
  {
   "cell_type": "markdown",
   "metadata": {},
   "source": [
    "# 25. Какой Самый прибыльный год (заработали больше всего)?\n",
    "Варианты ответа:\n",
    "1. 2014\n",
    "2. 2008\n",
    "3. 2012\n",
    "4. 2002\n",
    "5. 2015"
   ]
  },
  {
   "cell_type": "code",
   "execution_count": 53,
   "metadata": {},
   "outputs": [
    {
     "data": {
      "text/plain": [
       "      release_year\n",
       "gain  All             190478021910\n",
       "      2015             18668572378\n",
       "dtype: int64"
      ]
     },
     "execution_count": 53,
     "metadata": {},
     "output_type": "execute_result"
    }
   ],
   "source": [
    "pivot = data.pivot_table(values=['gain'],\n",
    "                        index=['production_companies'],\n",
    "                        columns=['release_year'],\n",
    "                        aggfunc='sum',\n",
    "                        margins=True,\n",
    "                        fill_value=0)\n",
    "pivot.max().sort_values(ascending=False).head(2)"
   ]
  },
  {
   "cell_type": "code",
   "execution_count": 107,
   "metadata": {},
   "outputs": [],
   "source": [
    "answer_ls.append(5)"
   ]
  },
  {
   "cell_type": "markdown",
   "metadata": {},
   "source": [
    "# 26. Какой Самый прибыльный год для студии Warner Bros?\n",
    "Варианты ответа:\n",
    "1. 2014\n",
    "2. 2008\n",
    "3. 2012\n",
    "4. 2010\n",
    "5. 2015"
   ]
  },
  {
   "cell_type": "code",
   "execution_count": 55,
   "metadata": {},
   "outputs": [],
   "source": [
    "#extract Warner Bros data\n",
    "WB_data = data[data.production_companies.str.contains('Warner Bros')]"
   ]
  },
  {
   "cell_type": "code",
   "execution_count": 56,
   "metadata": {},
   "outputs": [
    {
     "data": {
      "text/plain": [
       "      release_year\n",
       "gain  All             24543602472\n",
       "      2014             2295464519\n",
       "dtype: int64"
      ]
     },
     "execution_count": 56,
     "metadata": {},
     "output_type": "execute_result"
    }
   ],
   "source": [
    "pivot = WB_data.pivot_table(values=['gain'],\n",
    "                        index=['production_companies'],\n",
    "                        columns=['release_year'],\n",
    "                        aggfunc='sum',\n",
    "                        margins=True,\n",
    "                        fill_value=0)\n",
    "pivot.max().sort_values(ascending=False).head(2)"
   ]
  },
  {
   "cell_type": "code",
   "execution_count": 108,
   "metadata": {},
   "outputs": [],
   "source": [
    "answer_ls.append(1)"
   ]
  },
  {
   "cell_type": "markdown",
   "metadata": {},
   "source": [
    "# 27. В каком месяце за все годы суммарно вышло больше всего фильмов?\n",
    "Варианты ответа:\n",
    "1. Январь\n",
    "2. Июнь\n",
    "3. Декабрь\n",
    "4. Сентябрь\n",
    "5. Май"
   ]
  },
  {
   "cell_type": "code",
   "execution_count": 58,
   "metadata": {},
   "outputs": [],
   "source": [
    "#extract day and month from data\n",
    "timestamp_df = pd.DataFrame()\n",
    "timestamp_df['Dates_timestamp'] = pd.to_datetime(data['release_date']).dt.date\n",
    "\n",
    "data['release_month'] = timestamp_df['Dates_timestamp'].map(lambda x: x.strftime('%m'))\n",
    "data['release_day'] = timestamp_df['Dates_timestamp'].map(lambda x: x.strftime('%d'))"
   ]
  },
  {
   "cell_type": "code",
   "execution_count": 59,
   "metadata": {},
   "outputs": [
    {
     "data": {
      "text/plain": [
       "         release_month\n",
       "imdb_id  All              1890\n",
       "         09                227\n",
       "dtype: int64"
      ]
     },
     "execution_count": 59,
     "metadata": {},
     "output_type": "execute_result"
    }
   ],
   "source": [
    "pivot = data.pivot_table(values=['imdb_id'],\n",
    "                        index=['production_companies'],\n",
    "                        columns=['release_month'],\n",
    "                        aggfunc='count',\n",
    "                        margins=True,\n",
    "                        fill_value=0)\n",
    "pivot.max().sort_values(ascending=False).head(2)"
   ]
  },
  {
   "cell_type": "code",
   "execution_count": 109,
   "metadata": {},
   "outputs": [],
   "source": [
    "answer_ls.append(4)"
   ]
  },
  {
   "cell_type": "markdown",
   "metadata": {},
   "source": [
    "# 28. Сколько суммарно вышло фильмов летом? (за июнь, июль, август)\n",
    "Варианты ответа:\n",
    "1. 345\n",
    "2. 450\n",
    "3. 478\n",
    "4. 523\n",
    "5. 381"
   ]
  },
  {
   "cell_type": "code",
   "execution_count": 61,
   "metadata": {},
   "outputs": [
    {
     "data": {
      "text/plain": [
       "450"
      ]
     },
     "execution_count": 61,
     "metadata": {},
     "output_type": "execute_result"
    }
   ],
   "source": [
    "len(data[(data.release_month == '06') | (data.release_month == '07') | (data.release_month == '08')])"
   ]
  },
  {
   "cell_type": "code",
   "execution_count": 110,
   "metadata": {},
   "outputs": [],
   "source": [
    "answer_ls.append(2)"
   ]
  },
  {
   "cell_type": "markdown",
   "metadata": {},
   "source": [
    "# 29. Какой режисер выпускает (суммарно по годам) больше всего фильмов зимой?\n",
    "Варианты ответов:\n",
    "1. Steven Soderbergh\n",
    "2. Christopher Nolan\n",
    "3. Clint Eastwood\n",
    "4. Ridley Scott\n",
    "5. Peter Jackson"
   ]
  },
  {
   "cell_type": "code",
   "execution_count": 63,
   "metadata": {},
   "outputs": [
    {
     "data": {
      "text/plain": [
       "[('Peter Jackson', 7)]"
      ]
     },
     "execution_count": 63,
     "metadata": {},
     "output_type": "execute_result"
    }
   ],
   "source": [
    "winter_movies = data.query(\"release_month == '12' | release_month == '01' | release_month == '02'\")\n",
    "\n",
    "all_winter_directors = winter_movies.director.str.split('|').sum()\n",
    "most_popular_winter_director = Counter(all_winter_directors).most_common(1)\n",
    "most_popular_winter_director"
   ]
  },
  {
   "cell_type": "code",
   "execution_count": 111,
   "metadata": {},
   "outputs": [],
   "source": [
    "answer_ls.append(5)"
   ]
  },
  {
   "cell_type": "markdown",
   "metadata": {},
   "source": [
    "# 30. Какой месяц чаще всего по годам самый прибыльный?\n",
    "Варианты ответа:\n",
    "1. Январь\n",
    "2. Июнь\n",
    "3. Декабрь\n",
    "4. Сентябрь\n",
    "5. Май"
   ]
  },
  {
   "cell_type": "code",
   "execution_count": 65,
   "metadata": {},
   "outputs": [
    {
     "data": {
      "text/plain": [
       "[('06', 7)]"
      ]
     },
     "execution_count": 65,
     "metadata": {},
     "output_type": "execute_result"
    }
   ],
   "source": [
    "pivot = data.pivot_table(values=['gain'],\n",
    "                        index=['release_month'],\n",
    "                        columns=['release_year'],\n",
    "                        aggfunc='sum',\n",
    "                        fill_value=0)\n",
    "\n",
    "all_years = pivot['gain'].columns\n",
    "\n",
    "most_gain_months_array = []\n",
    "for year in all_years:\n",
    "    most_gain_month = pivot[pivot['gain'][year] == pivot['gain'][year].max()].index[0]\n",
    "    most_gain_months_array.append(most_gain_month)\n",
    "    \n",
    "Counter(most_gain_months_array).most_common(1)"
   ]
  },
  {
   "cell_type": "code",
   "execution_count": 112,
   "metadata": {},
   "outputs": [],
   "source": [
    "answer_ls.append(2)"
   ]
  },
  {
   "cell_type": "markdown",
   "metadata": {},
   "source": [
    "# 31. Названия фильмов какой студии в среднем самые длинные по количеству символов?\n",
    "Варианты ответа:\n",
    "1. Universal Pictures (Universal)\n",
    "2. Warner Bros\n",
    "3. Jim Henson Company, The\n",
    "4. Paramount Pictures\n",
    "5. Four By Two Productions"
   ]
  },
  {
   "cell_type": "code",
   "execution_count": 67,
   "metadata": {},
   "outputs": [
    {
     "name": "stdout",
     "output_type": "stream",
     "text": [
      "Four By Two Productions 83.0\n"
     ]
    }
   ],
   "source": [
    "companies_arr = ['Universal Pictures', 'Warner Bros', 'Jim Henson Company, The', \n",
    "                 'Paramount Pictures', 'Four By Two Productions']\n",
    "company_name = ''\n",
    "mean_ = 0\n",
    "for i in companies_arr:\n",
    "    if i == 'Universal Pictures':\n",
    "        mean_len = data[(data.production_companies.str.contains('Universal Pictures')) | \n",
    "                        (data.production_companies.str.contains('Universal'))]['original_title'].str.len().mean()\n",
    "    else:\n",
    "        mean_len = data[data.production_companies.str.contains(i)]['original_title'].str.len().mean()\n",
    "        \n",
    "    if mean_ < mean_len:\n",
    "        company_name = i\n",
    "        mean_ = mean_len\n",
    "    \n",
    "print(company_name, mean_)"
   ]
  },
  {
   "cell_type": "code",
   "execution_count": 113,
   "metadata": {},
   "outputs": [],
   "source": [
    "answer_ls.append(5)"
   ]
  },
  {
   "cell_type": "markdown",
   "metadata": {},
   "source": [
    "# 32. Названия фильмов какой студии в среднем самые длинные по количеству слов?\n",
    "Варианты ответа:\n",
    "1. Universal Pictures (Universal)\n",
    "2. Warner Bros\n",
    "3. Jim Henson Company, The\n",
    "4. Paramount Pictures\n",
    "5. Four By Two Productions"
   ]
  },
  {
   "cell_type": "code",
   "execution_count": 69,
   "metadata": {},
   "outputs": [],
   "source": [
    "companies_arr = ['Universal Pictures', 'Warner Bros', 'Jim Henson Company, The', \n",
    "                 'Paramount Pictures', 'Four By Two Productions']"
   ]
  },
  {
   "cell_type": "code",
   "execution_count": 70,
   "metadata": {},
   "outputs": [
    {
     "name": "stdout",
     "output_type": "stream",
     "text": [
      "Four By Two Productions 11.0\n"
     ]
    }
   ],
   "source": [
    "mean_ = 0\n",
    "company_name = ''\n",
    "for company in companies_arr:\n",
    "    if i == 'Universal Pictures':\n",
    "        mean_len = data[(data.production_companies.str.contains('Universal Pictures')) | \n",
    "                        (data.production_companies.str.contains('Universal'))]['original_title'].str.lower().str.replace('  ', '').str.split(' ')\n",
    "    else:\n",
    "        mean_len = data[data.production_companies.str.contains(company)]['original_title'].str.lower().str.replace('  ', '').str.split(' ')\n",
    "    uniq_words = []\n",
    "    for i in mean_len:\n",
    "        for word in i:\n",
    "            if word not in uniq_words:\n",
    "                uniq_words.append(word)\n",
    "    mean_word_len = len(uniq_words) / len(mean_len)\n",
    "    if mean_word_len > mean_:\n",
    "        mean_ = mean_word_len\n",
    "        company_name = company\n",
    "print(company_name, mean_)"
   ]
  },
  {
   "cell_type": "code",
   "execution_count": 114,
   "metadata": {},
   "outputs": [],
   "source": [
    "answer_ls.append(5)"
   ]
  },
  {
   "cell_type": "markdown",
   "metadata": {},
   "source": [
    "# 33. Сколько разных слов используется в названиях фильмов?(без учета регистра)\n",
    "Варианты ответа:\n",
    "1. 6540\n",
    "2. 1002\n",
    "3. 2461\n",
    "4. 28304\n",
    "5. 3432"
   ]
  },
  {
   "cell_type": "code",
   "execution_count": 72,
   "metadata": {},
   "outputs": [
    {
     "name": "stdout",
     "output_type": "stream",
     "text": [
      "2461\n"
     ]
    }
   ],
   "source": [
    "uniq_names = []\n",
    "for movie_name in data.original_title:\n",
    "    replaced_name = movie_name.lower().replace('  ', ' ')\n",
    "    splited_name = replaced_name.split(' ')\n",
    "    for i in splited_name:\n",
    "        if i not in uniq_names:\n",
    "            uniq_names.append(i)\n",
    "print(len(uniq_names))"
   ]
  },
  {
   "cell_type": "code",
   "execution_count": 115,
   "metadata": {},
   "outputs": [],
   "source": [
    "answer_ls.append(3)"
   ]
  },
  {
   "cell_type": "markdown",
   "metadata": {},
   "source": [
    "# 34. Какие фильмы входят в 1 процент лучших по рейтингу?\n",
    "Варианты ответа:\n",
    "1. Inside Out, Gone Girl, 12 Years a Slave\n",
    "2. BloodRayne, The Adventures of Rocky & Bullwinkle\n",
    "3. The Lord of the Rings: The Return of the King\n",
    "4. 300, Lucky Number Slevin"
   ]
  },
  {
   "cell_type": "code",
   "execution_count": 74,
   "metadata": {},
   "outputs": [
    {
     "data": {
      "text/plain": [
       "array(['Inside Out', 'Spotlight', 'Room', 'Interstellar',\n",
       "       'Guardians of the Galaxy', 'Big Hero 6', 'The Imitation Game',\n",
       "       'Gone Girl', 'The Grand Budapest Hotel',\n",
       "       'The Theory of Everything', 'The Fault in Our Stars', 'Mr. Nobody',\n",
       "       '3 Idiots', 'Inception',\n",
       "       'The Lord of the Rings: The Fellowship of the Ring',\n",
       "       'The Dark Knight', 'The Lord of the Rings: The Two Towers',\n",
       "       'The Pianist', 'The Lord of the Rings: The Return of the King',\n",
       "       'The Wolf of Wall Street', 'Her', '12 Years a Slave', 'Prisoners',\n",
       "       'Dallas Buyers Club', 'The Prestige',\n",
       "       'Eternal Sunshine of the Spotless Mind', 'There Will Be Blood',\n",
       "       'Memento'], dtype=object)"
      ]
     },
     "execution_count": 74,
     "metadata": {},
     "output_type": "execute_result"
    }
   ],
   "source": [
    "one_percent_of_highest_vote = data['vote_average'].quantile(0.99)\n",
    "data[data.vote_average >= one_percent_of_highest_vote].original_title.values"
   ]
  },
  {
   "cell_type": "code",
   "execution_count": 116,
   "metadata": {},
   "outputs": [],
   "source": [
    "#Here will take as a right answer the answer that match better\n",
    "answer_ls.append(1)"
   ]
  },
  {
   "cell_type": "markdown",
   "metadata": {},
   "source": [
    "# 35. Какие актеры чаще всего снимаются в одном фильме вместе\n",
    "Варианты ответа:\n",
    "1. Johnny Depp & Helena Bonham Carter\n",
    "2. Hugh Jackman & Ian McKellen\n",
    "3. Vin Diesel & Paul Walker\n",
    "4. Adam Sandler & Kevin James\n",
    "5. Daniel Radcliffe & Rupert Grint"
   ]
  },
  {
   "cell_type": "code",
   "execution_count": 76,
   "metadata": {
    "scrolled": true
   },
   "outputs": [
    {
     "name": "stdout",
     "output_type": "stream",
     "text": [
      "[['Johnny Depp', 'Helena Bonham Carter', 6], ['Hugh Jackman', 'Ian McKellen', 5], ['Vin Diesel', 'Paul Walker', 5], ['Adam Sandler', 'Kevin James', 5], ['Daniel Radcliffe', 'Rupert Grint', 8]]\n"
     ]
    }
   ],
   "source": [
    "actors = [['Johnny Depp', 'Helena Bonham Carter'],\n",
    "          ['Hugh Jackman', 'Ian McKellen'],\n",
    "          ['Vin Diesel', 'Paul Walker'],\n",
    "          ['Adam Sandler', 'Kevin James'],\n",
    "          ['Daniel Radcliffe', 'Rupert Grint']]\n",
    "\n",
    "for i in range(len(actors)):\n",
    "    movies = data[(data.cast.str.contains(actors[i][0])) & (data.cast.str.contains(actors[i][1]))]\n",
    "    actors[i].append(len(movies))\n",
    "print(actors)\n",
    "    "
   ]
  },
  {
   "cell_type": "code",
   "execution_count": 117,
   "metadata": {},
   "outputs": [],
   "source": [
    "answer_ls.append(5)"
   ]
  },
  {
   "cell_type": "markdown",
   "metadata": {},
   "source": [
    "# 36. У какого из режиссеров выше вероятность выпустить фильм в прибыли? (5 баллов)101\n",
    "Варианты ответа:\n",
    "1. Quentin Tarantino\n",
    "2. Steven Soderbergh\n",
    "3. Robert Rodriguez\n",
    "4. Christopher Nolan\n",
    "5. Clint Eastwood"
   ]
  },
  {
   "cell_type": "code",
   "execution_count": 78,
   "metadata": {
    "scrolled": true
   },
   "outputs": [
    {
     "name": "stdout",
     "output_type": "stream",
     "text": [
      "['Colin Trevorrow', 'J.J. Abrams', 'Alejandro GonzÃ¡lez IÃ±Ã¡rritu', 'Alan Taylor', 'Kyle Balda', 'Pierre Coffin', 'Pete Docter', 'Alex Garland', 'Joss Whedon', 'Francis Lawrence', 'Sam Taylor-Johnson', 'Christopher McQuarrie', 'Seth MacFarlane', 'Tom McCarthy', 'Wes Ball', 'Neill Blomkamp', 'Elizabeth Banks', 'Rob Letterman', 'Lenny Abrahamson', 'John Crowley', 'Jake Schreier', 'Nancy Meyers', 'Baltasar KormÃ¡kur', 'Tom Hooper', 'Denis Villeneuve', 'Paul Feig', 'Aleksander Bach', 'Ryan Coogler', 'Steve Martino', 'Jonathan Levine', 'Genndy Tartakovsky', 'John Francis Daley', 'Jonathan M. Goldstein', 'Joel Edgerton', 'Ari Sandel', 'Ciaran Foy', 'Jeremy Garelick', 'Michael Dougherty', 'John Erick Dowdle', 'Simon Curtis', 'Jason Moore', 'Dean Israelite', 'Camille Delamarre', 'Gregory Jacobs', 'Gregory Plotkin', 'Paul Tibbitt', 'Leigh Whannell', 'Nicholas Hytner', 'David M. Rosenthal', 'Etan Cohen', 'Christopher Nolan', 'James Gunn', 'Joe Russo', 'Anthony Russo', 'Chad Stahelski', 'David Leitch', 'Chris Williams', 'Morten Tyldum', 'Neil Burger', 'Jonathan Liebesman', 'Dan Gilroy', 'Marc Webb', 'Gareth Edwards', 'Robert Stromberg', 'Stiles White', 'Patrick Hughes', 'Phil Lord', 'Christopher Miller', 'James Marsh', 'Gary Shore', 'Eric Darnell', 'Phillip Noyce', 'Paul King', 'James DeMonaco', 'R.J. Cutler', 'Josh Boone', 'Nick Cassavetes', 'Carlos Saldanha', 'Angelina Jolie', 'Ava DuVernay', 'Will Gluck', 'Theodore Melfi', 'Scott Waugh', 'Brian A Miller', 'Steven Quale', 'Roberts Gannaway', 'Sam Miller', 'John R. Leonetti', 'Tom Gormican', 'Ben Falcone', 'Miguel Arteta', 'Christopher Spencer', 'Thomas Carter', 'GrÃ©gory Levasseur', 'Andrew Erwin', 'Jon Erwin', 'Dave Green', 'Matt Bettinelli-Olpin', 'Tyler Gillett', 'Patrick Tatopoulos', 'David Yates', 'Bob Peterson', 'Chris Weitz', 'Alex Proyas', 'Peter Billingsley', 'Conrad Vernon', 'Phil Traill', 'Gary Winick', 'Lee Daniels', 'John Hamburg', 'Brandon Camp', 'Kevin Greutert', 'Ethan Coen', 'Rajkumar Hirani', 'Grant Heslov', 'Walt Becker', 'Lone Scherfig', 'Peter Chelsom', 'Olatunde Osunsanmi', 'Steve Shill', 'Jonas Elmer', 'Toby Wilkins', 'Chris Renaud', 'Sylvester Stallone', 'Joseph Kosinski', 'Nathan Greno', 'Byron Howard', 'Lee Unkrich', 'Florian Henckel von Donnersmarck', 'Mike Mitchell', 'David Slade', 'Tom McGrath', 'Ryan Murphy', 'Alan Poul', 'Josh Gordon', 'Will Speck', 'Garry Marshall', 'Samuel Bayer', 'Michael Patrick King', 'Susanna White', 'John Luessenhop', 'Greg Berlanti', 'Alexandre Aja', 'Colin Strause', 'Greg Strause', 'Jim Field Smith', 'Eric Brevig', 'Tyler Perry', 'David Silverman', 'Sharon Maguire', 'J.B. Rogers', 'Ben Stiller', 'Joel Gallen', 'Chris Nahon', 'Victor Salva', 'Robert Altman', 'Gregory Poirier', 'Rob Pritts', 'John Stevenson', 'Phyllida Lloyd', 'Loveleen Tandan', 'Scott Derrickson', 'Gabriele Muccino', 'Jeff Wadlow', 'Jon Hurwitz', 'Hayden Schlossberg', 'Peter Sollett', 'Seth Gordon', 'Fred Wolf', 'David Hackl', 'Woody Allen', 'Bryan Bertino', 'Chris Carter', 'John Patrick Shanley', 'Paul Weiland', 'David Moreau', 'Xavier Palud', 'Michael McCullers', 'Jennifer Flackett', 'Mark Levin', 'Nicolas Winding Refn', 'Jennifer Yuh', 'John Lasseter', 'Brad Lewis', 'Michel Hazanavicius', 'Brad Furman', 'Mikael HÃ¥fstrÃ¶m', 'George Nolfi', 'Chris Gorak', 'Tate Taylor', 'Christian E. Christiansen', 'Chris Miller', 'Oliver Parker', 'Gonzalo LÃ³pez-Gallego', 'John Michael McDonagh', 'Henry Joost', 'Ariel Schulman', 'Alister Grierson', 'Sean McNamara', 'John Whitesell', 'Chris Wedge', 'George Lucas', 'Corey Yuen Kwai', 'Curtis Hanson', 'Steven Brill', 'Joel Zwick', 'Chuck Russell', 'Jeff Tremaine', 'Julie Taymor', 'Adrian Lyne', 'Robin Budd', 'Donovan Cook', 'Rick Rosenthal', 'Tamra Davis', 'Mark Andrews', 'Steve Purcell', 'Brenda Chapman', 'Rupert Sanders', 'Mike Thurmeier', 'Juan Antonio Bayona', 'Rich Moore', 'Stephen Chbosky', 'Drew Goddard', 'Peter Ramsey', 'Michael Sucsy', 'Scott Speer', 'Mike McCoy', 'Larry Charles', 'Nima Nourizadeh', 'James Watkins', 'Ole Bornedal', 'Nicholas Jarecki', 'Dustin Hoffman', 'Brian Klugman', 'Lee Sternthal', 'Dan Cutforth', 'Jane Lipsitz', 'Mark Steven Johnson', 'Stephen Norrington', 'Steve Trenbirth', 'Terry Zwigoff', 'David Zucker', 'Rob Schmidt', 'Charles Herman-Wurmfeld', 'Anthony Minghella', 'Ronny Yu', 'Kevin Costner', 'Jim Fall', 'Patty Jenkins', 'Troy Miller', 'FranÃ§ois Ozon', 'Christopher Guest', 'Jennifer Lee', 'Shane Black', 'Steve McQueen', 'Dan Scanlon', 'Tommy Wirkola', 'Klay Hall', 'Harmony Korine', 'Fede Alvarez', 'Derek Cianfrance', 'Kimberly Peirce', 'John Carney', 'Mike Flanagan', 'David Soren', 'Andy Muschietti', 'Rusty Cundieff', 'James Duffy', 'Griffin Dunne', 'Patrik Forsberg', 'Will Graham', 'Jonathan van Tulleken', 'Scott Moore', 'Jon Lucas', 'Cody Cameron', 'Kris Pearn', 'Jeff Nichols', 'David E. Talbert', 'Christopher B. Landon', 'Ed Gass-Donnelly', 'Fyodor Bondarchuk', 'Garth Jennings', 'Mike Johnson', 'Steve Box', 'Nick Park', 'Cory Edwards', 'Todd Edwards', 'Tony Leech', 'John Polson', 'Sydney Pollack', 'Frederik Du Chau', 'Andrew Douglas', 'Dean Parisot', 'Jim Jarmusch', 'George A. Romero', 'Rupert Wainwright', 'Clare Kilner', 'Fernando Meirelles', 'Stephen Kay', 'Joe Ranft', 'Frank Marshall', 'James Wong', 'Stefen Fangmeier', 'Alejandro Agresti', 'Mel Gibson', 'Darren Lynn Bousman', 'Jared Hess', 'Jonathan Dayton', 'Valerie Faris', 'Greg Coolidge', 'Roger Allers', 'Jill Culton', 'Richard Eyre', 'Sanjay Gadhvi', 'Glen Morgan', 'William Brent Bell', 'Doug Atchison', 'Eric Bress', 'J. Mackye Gruber', 'Alexander Witt', 'Stephen Hillenburg', 'Mark Rosman', 'Rawson Marshall Thurber', 'Danny Leiner', 'Don Mancini', 'Terry George', 'Joseph Ruben', \"Gavin O'Connor\", 'Christopher Erskin', 'Jan Pinkava', 'Sean Penn', 'Raman Hui', 'Kevin Lima', 'Juan Carlos Fresnadillo', 'Steve Bendelack', 'Bruce A. Evans', 'Kirsten Sheridan', 'Mennan Yapo', 'Xavier Gens', 'David Schwimmer', 'Dave Meyers', 'Fred Savage', 'Russell Mulcahy', 'Mark Helfrich', 'Shari Springer Berman', 'Robert Pulcini', 'James Gray', 'Peter Hedges', 'Alastair Fothergill', 'Mark Linfield', 'Wong Kar-wai', 'Sylvain White', 'Feng Xiaogang', 'Ben Garant', 'Ralph Zondag', 'Eric Leighton', 'David McNally', 'Paul Verhoeven', 'Mary Harron', 'Lars von Trier']\n"
     ]
    }
   ],
   "source": [
    "gain_score = 0\n",
    "director_ = []\n",
    "all_directors = data.director.str.split('|').sum()\n",
    "for director in all_directors:\n",
    "    movies = data[data.director.str.contains(director)]\n",
    "    gain_movies = movies[movies.budget < movies.gain]\n",
    "    score = len(gain_movies)/len(movies)\n",
    "    if gain_score < score:\n",
    "        if director not in director_:\n",
    "            director_.append(director)\n",
    "        gain_score = score\n",
    "    elif gain_score == score:\n",
    "        if director not in director_:\n",
    "            director_.append(director)\n",
    "        gain_score = score\n",
    "print(director_)"
   ]
  },
  {
   "cell_type": "code",
   "execution_count": 118,
   "metadata": {},
   "outputs": [],
   "source": [
    "answer_ls.append(4)"
   ]
  },
  {
   "cell_type": "markdown",
   "metadata": {},
   "source": [
    "# Submission"
   ]
  },
  {
   "cell_type": "code",
   "execution_count": 119,
   "metadata": {},
   "outputs": [
    {
     "data": {
      "text/plain": [
       "36"
      ]
     },
     "execution_count": 119,
     "metadata": {},
     "output_type": "execute_result"
    }
   ],
   "source": [
    "len(answer_ls)"
   ]
  },
  {
   "cell_type": "code",
   "execution_count": 121,
   "metadata": {
    "scrolled": true
   },
   "outputs": [],
   "source": [
    "answer_df = pd.DataFrame({'Id':range(1,len(answer_ls)+1), 'Answer':answer_ls}, columns=['Id', 'Answer'])"
   ]
  },
  {
   "cell_type": "code",
   "execution_count": 122,
   "metadata": {},
   "outputs": [],
   "source": [
    "answer_df.to_csv('answers_unit_1.csv', index=False)"
   ]
  },
  {
   "cell_type": "code",
   "execution_count": null,
   "metadata": {},
   "outputs": [],
   "source": []
  }
 ],
 "metadata": {
  "kernelspec": {
   "display_name": "Python 3",
   "language": "python",
   "name": "python3"
  },
  "language_info": {
   "codemirror_mode": {
    "name": "ipython",
    "version": 3
   },
   "file_extension": ".py",
   "mimetype": "text/x-python",
   "name": "python",
   "nbconvert_exporter": "python",
   "pygments_lexer": "ipython3",
   "version": "3.6.8"
  }
 },
 "nbformat": 4,
 "nbformat_minor": 4
}
